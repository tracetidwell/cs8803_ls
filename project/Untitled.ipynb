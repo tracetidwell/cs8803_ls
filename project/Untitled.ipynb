{
 "cells": [
  {
   "cell_type": "code",
   "execution_count": 2,
   "metadata": {},
   "outputs": [],
   "source": [
    "from dataset_splits import process_pickle_bysplit"
   ]
  },
  {
   "cell_type": "code",
   "execution_count": 1,
   "metadata": {},
   "outputs": [],
   "source": [
    "modelnet_version = 40"
   ]
  },
  {
   "cell_type": "code",
   "execution_count": 5,
   "metadata": {},
   "outputs": [],
   "source": [
    "train_dict = process_pickle_bysplit(f'dataset_splits/ModelNet{str(modelnet_version)}_TrainingSplits_New.pickle', 5)"
   ]
  },
  {
   "cell_type": "code",
   "execution_count": null,
   "metadata": {},
   "outputs": [],
   "source": []
  },
  {
   "cell_type": "code",
   "execution_count": null,
   "metadata": {},
   "outputs": [],
   "source": []
  },
  {
   "cell_type": "code",
   "execution_count": 1,
   "metadata": {},
   "outputs": [],
   "source": [
    "%load_ext autoreload\n",
    "%autoreload 2"
   ]
  },
  {
   "cell_type": "code",
   "execution_count": 2,
   "metadata": {},
   "outputs": [
    {
     "ename": "ImportError",
     "evalue": "cannot import name 'BlockPointNet'",
     "output_type": "error",
     "traceback": [
      "\u001b[0;31m---------------------------------------------------------------------------\u001b[0m",
      "\u001b[0;31mImportError\u001b[0m                               Traceback (most recent call last)",
      "\u001b[0;32m<ipython-input-2-4658b8b45dd0>\u001b[0m in \u001b[0;36m<module>\u001b[0;34m\u001b[0m\n\u001b[1;32m     13\u001b[0m \u001b[0;32mfrom\u001b[0m \u001b[0mutils\u001b[0m\u001b[0;34m.\u001b[0m\u001b[0mdata\u001b[0m \u001b[0;32mimport\u001b[0m \u001b[0mBlockBatch\u001b[0m\u001b[0;34m,\u001b[0m \u001b[0mBlockDataLoader\u001b[0m\u001b[0;34m\u001b[0m\u001b[0;34m\u001b[0m\u001b[0m\n\u001b[1;32m     14\u001b[0m \u001b[0;32mfrom\u001b[0m \u001b[0mutils\u001b[0m\u001b[0;34m.\u001b[0m\u001b[0mdatasets\u001b[0m \u001b[0;32mimport\u001b[0m \u001b[0mBlockModelNet\u001b[0m\u001b[0;34m\u001b[0m\u001b[0;34m\u001b[0m\u001b[0m\n\u001b[0;32m---> 15\u001b[0;31m \u001b[0;32mfrom\u001b[0m \u001b[0mmodels\u001b[0m \u001b[0;32mimport\u001b[0m \u001b[0mBlockPointNet\u001b[0m\u001b[0;34m\u001b[0m\u001b[0;34m\u001b[0m\u001b[0m\n\u001b[0m\u001b[1;32m     16\u001b[0m \u001b[0;34m\u001b[0m\u001b[0m\n\u001b[1;32m     17\u001b[0m \u001b[0;31m#from examples.pointnet2_pretext import Net\u001b[0m\u001b[0;34m\u001b[0m\u001b[0;34m\u001b[0m\u001b[0;34m\u001b[0m\u001b[0m\n",
      "\u001b[0;31mImportError\u001b[0m: cannot import name 'BlockPointNet'"
     ]
    }
   ],
   "source": [
    "import itertools\n",
    "import os.path as osp\n",
    "import numpy as np\n",
    "\n",
    "import torch\n",
    "import torch.nn.functional as F\n",
    "from torch.nn import Sequential as Seq, Linear as Lin, ReLU, BatchNorm1d as BN\n",
    "from torch_geometric.datasets import ModelNet\n",
    "import torch_geometric.transforms as T\n",
    "from torch_geometric.data import Batch, DataLoader, Data, InMemoryDataset\n",
    "from torch_geometric.nn import PointConv, fps, radius, global_max_pool\n",
    "\n",
    "from utils.data import BlockBatch, BlockDataLoader\n",
    "from utils.datasets import BlockModelNet\n",
    "from models import BlockPointNet\n",
    "\n",
    "#from examples.pointnet2_pretext import Net"
   ]
  },
  {
   "cell_type": "code",
   "execution_count": null,
   "metadata": {},
   "outputs": [],
   "source": [
    "from dataset_splits import process_pickle_bysplit\n",
    "import glob"
   ]
  },
  {
   "cell_type": "code",
   "execution_count": null,
   "metadata": {},
   "outputs": [],
   "source": []
  },
  {
   "cell_type": "code",
   "execution_count": 3,
   "metadata": {},
   "outputs": [
    {
     "name": "stderr",
     "output_type": "stream",
     "text": [
      "/home/trace/.conda/envs/3d_context/lib/python3.6/site-packages/tensorboard/compat/tensorflow_stub/dtypes.py:541: FutureWarning: Passing (type, 1) or '1type' as a synonym of type is deprecated; in a future version of numpy, it will be understood as (type, (1,)) / '(1,)type'.\n",
      "  _np_qint8 = np.dtype([(\"qint8\", np.int8, 1)])\n",
      "/home/trace/.conda/envs/3d_context/lib/python3.6/site-packages/tensorboard/compat/tensorflow_stub/dtypes.py:542: FutureWarning: Passing (type, 1) or '1type' as a synonym of type is deprecated; in a future version of numpy, it will be understood as (type, (1,)) / '(1,)type'.\n",
      "  _np_quint8 = np.dtype([(\"quint8\", np.uint8, 1)])\n",
      "/home/trace/.conda/envs/3d_context/lib/python3.6/site-packages/tensorboard/compat/tensorflow_stub/dtypes.py:543: FutureWarning: Passing (type, 1) or '1type' as a synonym of type is deprecated; in a future version of numpy, it will be understood as (type, (1,)) / '(1,)type'.\n",
      "  _np_qint16 = np.dtype([(\"qint16\", np.int16, 1)])\n",
      "/home/trace/.conda/envs/3d_context/lib/python3.6/site-packages/tensorboard/compat/tensorflow_stub/dtypes.py:544: FutureWarning: Passing (type, 1) or '1type' as a synonym of type is deprecated; in a future version of numpy, it will be understood as (type, (1,)) / '(1,)type'.\n",
      "  _np_quint16 = np.dtype([(\"quint16\", np.uint16, 1)])\n",
      "/home/trace/.conda/envs/3d_context/lib/python3.6/site-packages/tensorboard/compat/tensorflow_stub/dtypes.py:545: FutureWarning: Passing (type, 1) or '1type' as a synonym of type is deprecated; in a future version of numpy, it will be understood as (type, (1,)) / '(1,)type'.\n",
      "  _np_qint32 = np.dtype([(\"qint32\", np.int32, 1)])\n",
      "/home/trace/.conda/envs/3d_context/lib/python3.6/site-packages/tensorboard/compat/tensorflow_stub/dtypes.py:550: FutureWarning: Passing (type, 1) or '1type' as a synonym of type is deprecated; in a future version of numpy, it will be understood as (type, (1,)) / '(1,)type'.\n",
      "  np_resource = np.dtype([(\"resource\", np.ubyte, 1)])\n"
     ]
    }
   ],
   "source": [
    "import sys\n",
    "import argparse\n",
    "import os.path as osp\n",
    "sys.path.insert(1, '..')\n",
    "\n",
    "#Torch Imports\n",
    "import torch\n",
    "import torch.nn.functional as F\n",
    "#from torch_geometric.datasets import ModelNet\n",
    "import torch_geometric.transforms as T\n",
    "from torch_geometric.data import DataLoader\n",
    "from torch.utils.tensorboard import SummaryWriter\n",
    "\n",
    "#Internal Imports\n",
    "from models import PointNetSeg\n",
    "from context import Trainer\n",
    "from utils.datasets import ShapeNet\n",
    "from dataset_splits import process_pickle_bysplit"
   ]
  },
  {
   "cell_type": "code",
   "execution_count": 7,
   "metadata": {},
   "outputs": [],
   "source": [
    "train_dict = process_pickle_bysplit(f'dataset_splits/ShapeNet16_TrainingSplits.pickle', 10)\n",
    "path = 'data/ShapeNet'\n",
    "\n",
    "pre_transform = T.NormalizeScale()\n",
    "\n",
    "transform = T.Compose([\n",
    "    T.RandomTranslate(0.01),\n",
    "    T.RandomRotate(15, axis=0),\n",
    "    T.RandomRotate(15, axis=1),\n",
    "    T.RandomRotate(15, axis=2)\n",
    "])\n",
    "\n",
    "train_dataset = ShapeNet(path, None, True, transform, pre_transform,\n",
    "                         processed_name='subset_10',\n",
    "                         train_dict=train_dict)"
   ]
  },
  {
   "cell_type": "code",
   "execution_count": 9,
   "metadata": {},
   "outputs": [
    {
     "data": {
      "text/plain": [
       "Data(category=[1], pos=[2712, 3], y=[2712])"
      ]
     },
     "execution_count": 9,
     "metadata": {},
     "output_type": "execute_result"
    }
   ],
   "source": [
    "train_dataset[0]"
   ]
  },
  {
   "cell_type": "code",
   "execution_count": null,
   "metadata": {},
   "outputs": [],
   "source": []
  },
  {
   "cell_type": "code",
   "execution_count": null,
   "metadata": {},
   "outputs": [],
   "source": []
  },
  {
   "cell_type": "code",
   "execution_count": null,
   "metadata": {},
   "outputs": [],
   "source": []
  },
  {
   "cell_type": "code",
   "execution_count": null,
   "metadata": {},
   "outputs": [],
   "source": []
  },
  {
   "cell_type": "code",
   "execution_count": null,
   "metadata": {},
   "outputs": [],
   "source": []
  },
  {
   "cell_type": "code",
   "execution_count": null,
   "metadata": {},
   "outputs": [],
   "source": []
  },
  {
   "cell_type": "code",
   "execution_count": 6,
   "metadata": {},
   "outputs": [],
   "source": [
    "train_dict = process_pickle_bysplit(f'dataset_splits/ShapeNet16_TrainingSplits.pickle', 10)"
   ]
  },
  {
   "cell_type": "code",
   "execution_count": 12,
   "metadata": {},
   "outputs": [],
   "source": [
    "point_paths = sorted(train_dict['02691156'])"
   ]
  },
  {
   "cell_type": "code",
   "execution_count": 22,
   "metadata": {},
   "outputs": [
    {
     "data": {
      "text/plain": [
       "'002412.seg'"
      ]
     },
     "execution_count": 22,
     "metadata": {},
     "output_type": "execute_result"
    }
   ],
   "source": [
    "train_dict['02691156'][0][:-4] + '.seg'"
   ]
  },
  {
   "cell_type": "code",
   "execution_count": 16,
   "metadata": {},
   "outputs": [
    {
     "ename": "TypeError",
     "evalue": "join() argument must be str or bytes, not 'list'",
     "output_type": "error",
     "traceback": [
      "\u001b[0;31m---------------------------------------------------------------------------\u001b[0m",
      "\u001b[0;31mTypeError\u001b[0m                                 Traceback (most recent call last)",
      "\u001b[0;32m<ipython-input-16-41d1c773a12d>\u001b[0m in \u001b[0;36m<module>\u001b[0;34m\u001b[0m\n\u001b[0;32m----> 1\u001b[0;31m \u001b[0mosp\u001b[0m\u001b[0;34m.\u001b[0m\u001b[0mjoin\u001b[0m\u001b[0;34m(\u001b[0m\u001b[0;34m'data/ShapeNet/raw/train_data'\u001b[0m\u001b[0;34m,\u001b[0m \u001b[0;34m'02691156'\u001b[0m\u001b[0;34m,\u001b[0m \u001b[0mpoint_paths\u001b[0m\u001b[0;34m)\u001b[0m\u001b[0;34m\u001b[0m\u001b[0;34m\u001b[0m\u001b[0m\n\u001b[0m",
      "\u001b[0;32m~/.conda/envs/3d_context/lib/python3.6/posixpath.py\u001b[0m in \u001b[0;36mjoin\u001b[0;34m(a, *p)\u001b[0m\n\u001b[1;32m     92\u001b[0m                 \u001b[0mpath\u001b[0m \u001b[0;34m+=\u001b[0m \u001b[0msep\u001b[0m \u001b[0;34m+\u001b[0m \u001b[0mb\u001b[0m\u001b[0;34m\u001b[0m\u001b[0;34m\u001b[0m\u001b[0m\n\u001b[1;32m     93\u001b[0m     \u001b[0;32mexcept\u001b[0m \u001b[0;34m(\u001b[0m\u001b[0mTypeError\u001b[0m\u001b[0;34m,\u001b[0m \u001b[0mAttributeError\u001b[0m\u001b[0;34m,\u001b[0m \u001b[0mBytesWarning\u001b[0m\u001b[0;34m)\u001b[0m\u001b[0;34m:\u001b[0m\u001b[0;34m\u001b[0m\u001b[0;34m\u001b[0m\u001b[0m\n\u001b[0;32m---> 94\u001b[0;31m         \u001b[0mgenericpath\u001b[0m\u001b[0;34m.\u001b[0m\u001b[0m_check_arg_types\u001b[0m\u001b[0;34m(\u001b[0m\u001b[0;34m'join'\u001b[0m\u001b[0;34m,\u001b[0m \u001b[0ma\u001b[0m\u001b[0;34m,\u001b[0m \u001b[0;34m*\u001b[0m\u001b[0mp\u001b[0m\u001b[0;34m)\u001b[0m\u001b[0;34m\u001b[0m\u001b[0;34m\u001b[0m\u001b[0m\n\u001b[0m\u001b[1;32m     95\u001b[0m         \u001b[0;32mraise\u001b[0m\u001b[0;34m\u001b[0m\u001b[0;34m\u001b[0m\u001b[0m\n\u001b[1;32m     96\u001b[0m     \u001b[0;32mreturn\u001b[0m \u001b[0mpath\u001b[0m\u001b[0;34m\u001b[0m\u001b[0;34m\u001b[0m\u001b[0m\n",
      "\u001b[0;32m~/.conda/envs/3d_context/lib/python3.6/genericpath.py\u001b[0m in \u001b[0;36m_check_arg_types\u001b[0;34m(funcname, *args)\u001b[0m\n\u001b[1;32m    147\u001b[0m         \u001b[0;32melse\u001b[0m\u001b[0;34m:\u001b[0m\u001b[0;34m\u001b[0m\u001b[0;34m\u001b[0m\u001b[0m\n\u001b[1;32m    148\u001b[0m             raise TypeError('%s() argument must be str or bytes, not %r' %\n\u001b[0;32m--> 149\u001b[0;31m                             (funcname, s.__class__.__name__)) from None\n\u001b[0m\u001b[1;32m    150\u001b[0m     \u001b[0;32mif\u001b[0m \u001b[0mhasstr\u001b[0m \u001b[0;32mand\u001b[0m \u001b[0mhasbytes\u001b[0m\u001b[0;34m:\u001b[0m\u001b[0;34m\u001b[0m\u001b[0;34m\u001b[0m\u001b[0m\n\u001b[1;32m    151\u001b[0m         \u001b[0;32mraise\u001b[0m \u001b[0mTypeError\u001b[0m\u001b[0;34m(\u001b[0m\u001b[0;34m\"Can't mix strings and bytes in path components\"\u001b[0m\u001b[0;34m)\u001b[0m \u001b[0;32mfrom\u001b[0m \u001b[0;32mNone\u001b[0m\u001b[0;34m\u001b[0m\u001b[0;34m\u001b[0m\u001b[0m\n",
      "\u001b[0;31mTypeError\u001b[0m: join() argument must be str or bytes, not 'list'"
     ]
    }
   ],
   "source": []
  },
  {
   "cell_type": "code",
   "execution_count": 15,
   "metadata": {},
   "outputs": [
    {
     "data": {
      "text/plain": [
       "['data/ShapeNet/raw/train_data/02691156/000001.pts',\n",
       " 'data/ShapeNet/raw/train_data/02691156/000020.pts',\n",
       " 'data/ShapeNet/raw/train_data/02691156/000022.pts',\n",
       " 'data/ShapeNet/raw/train_data/02691156/000023.pts',\n",
       " 'data/ShapeNet/raw/train_data/02691156/000029.pts',\n",
       " 'data/ShapeNet/raw/train_data/02691156/000035.pts',\n",
       " 'data/ShapeNet/raw/train_data/02691156/000043.pts',\n",
       " 'data/ShapeNet/raw/train_data/02691156/000052.pts',\n",
       " 'data/ShapeNet/raw/train_data/02691156/000054.pts',\n",
       " 'data/ShapeNet/raw/train_data/02691156/000065.pts',\n",
       " 'data/ShapeNet/raw/train_data/02691156/000069.pts',\n",
       " 'data/ShapeNet/raw/train_data/02691156/000070.pts',\n",
       " 'data/ShapeNet/raw/train_data/02691156/000076.pts',\n",
       " 'data/ShapeNet/raw/train_data/02691156/000085.pts',\n",
       " 'data/ShapeNet/raw/train_data/02691156/000093.pts',\n",
       " 'data/ShapeNet/raw/train_data/02691156/000097.pts',\n",
       " 'data/ShapeNet/raw/train_data/02691156/000098.pts',\n",
       " 'data/ShapeNet/raw/train_data/02691156/000103.pts',\n",
       " 'data/ShapeNet/raw/train_data/02691156/000112.pts',\n",
       " 'data/ShapeNet/raw/train_data/02691156/000118.pts',\n",
       " 'data/ShapeNet/raw/train_data/02691156/000124.pts',\n",
       " 'data/ShapeNet/raw/train_data/02691156/000129.pts',\n",
       " 'data/ShapeNet/raw/train_data/02691156/000132.pts',\n",
       " 'data/ShapeNet/raw/train_data/02691156/000143.pts',\n",
       " 'data/ShapeNet/raw/train_data/02691156/000149.pts',\n",
       " 'data/ShapeNet/raw/train_data/02691156/000155.pts',\n",
       " 'data/ShapeNet/raw/train_data/02691156/000162.pts',\n",
       " 'data/ShapeNet/raw/train_data/02691156/000164.pts',\n",
       " 'data/ShapeNet/raw/train_data/02691156/000176.pts',\n",
       " 'data/ShapeNet/raw/train_data/02691156/000177.pts',\n",
       " 'data/ShapeNet/raw/train_data/02691156/000181.pts',\n",
       " 'data/ShapeNet/raw/train_data/02691156/000184.pts',\n",
       " 'data/ShapeNet/raw/train_data/02691156/000197.pts',\n",
       " 'data/ShapeNet/raw/train_data/02691156/000201.pts',\n",
       " 'data/ShapeNet/raw/train_data/02691156/000207.pts',\n",
       " 'data/ShapeNet/raw/train_data/02691156/000212.pts',\n",
       " 'data/ShapeNet/raw/train_data/02691156/000214.pts',\n",
       " 'data/ShapeNet/raw/train_data/02691156/000216.pts',\n",
       " 'data/ShapeNet/raw/train_data/02691156/000217.pts',\n",
       " 'data/ShapeNet/raw/train_data/02691156/000227.pts',\n",
       " 'data/ShapeNet/raw/train_data/02691156/000230.pts',\n",
       " 'data/ShapeNet/raw/train_data/02691156/000231.pts',\n",
       " 'data/ShapeNet/raw/train_data/02691156/000232.pts',\n",
       " 'data/ShapeNet/raw/train_data/02691156/000237.pts',\n",
       " 'data/ShapeNet/raw/train_data/02691156/000240.pts',\n",
       " 'data/ShapeNet/raw/train_data/02691156/000242.pts',\n",
       " 'data/ShapeNet/raw/train_data/02691156/000244.pts',\n",
       " 'data/ShapeNet/raw/train_data/02691156/000246.pts',\n",
       " 'data/ShapeNet/raw/train_data/02691156/000253.pts',\n",
       " 'data/ShapeNet/raw/train_data/02691156/000257.pts',\n",
       " 'data/ShapeNet/raw/train_data/02691156/000258.pts',\n",
       " 'data/ShapeNet/raw/train_data/02691156/000268.pts',\n",
       " 'data/ShapeNet/raw/train_data/02691156/000273.pts',\n",
       " 'data/ShapeNet/raw/train_data/02691156/000276.pts',\n",
       " 'data/ShapeNet/raw/train_data/02691156/000285.pts',\n",
       " 'data/ShapeNet/raw/train_data/02691156/000299.pts',\n",
       " 'data/ShapeNet/raw/train_data/02691156/000304.pts',\n",
       " 'data/ShapeNet/raw/train_data/02691156/000313.pts',\n",
       " 'data/ShapeNet/raw/train_data/02691156/000336.pts',\n",
       " 'data/ShapeNet/raw/train_data/02691156/000343.pts',\n",
       " 'data/ShapeNet/raw/train_data/02691156/000345.pts',\n",
       " 'data/ShapeNet/raw/train_data/02691156/000346.pts',\n",
       " 'data/ShapeNet/raw/train_data/02691156/000354.pts',\n",
       " 'data/ShapeNet/raw/train_data/02691156/000358.pts',\n",
       " 'data/ShapeNet/raw/train_data/02691156/000359.pts',\n",
       " 'data/ShapeNet/raw/train_data/02691156/000363.pts',\n",
       " 'data/ShapeNet/raw/train_data/02691156/000366.pts',\n",
       " 'data/ShapeNet/raw/train_data/02691156/000372.pts',\n",
       " 'data/ShapeNet/raw/train_data/02691156/000374.pts',\n",
       " 'data/ShapeNet/raw/train_data/02691156/000377.pts',\n",
       " 'data/ShapeNet/raw/train_data/02691156/000383.pts',\n",
       " 'data/ShapeNet/raw/train_data/02691156/000384.pts',\n",
       " 'data/ShapeNet/raw/train_data/02691156/000390.pts',\n",
       " 'data/ShapeNet/raw/train_data/02691156/000400.pts',\n",
       " 'data/ShapeNet/raw/train_data/02691156/000405.pts',\n",
       " 'data/ShapeNet/raw/train_data/02691156/000408.pts',\n",
       " 'data/ShapeNet/raw/train_data/02691156/000417.pts',\n",
       " 'data/ShapeNet/raw/train_data/02691156/000426.pts',\n",
       " 'data/ShapeNet/raw/train_data/02691156/000429.pts',\n",
       " 'data/ShapeNet/raw/train_data/02691156/000439.pts',\n",
       " 'data/ShapeNet/raw/train_data/02691156/000441.pts',\n",
       " 'data/ShapeNet/raw/train_data/02691156/000445.pts',\n",
       " 'data/ShapeNet/raw/train_data/02691156/000447.pts',\n",
       " 'data/ShapeNet/raw/train_data/02691156/000449.pts',\n",
       " 'data/ShapeNet/raw/train_data/02691156/000453.pts',\n",
       " 'data/ShapeNet/raw/train_data/02691156/000454.pts',\n",
       " 'data/ShapeNet/raw/train_data/02691156/000479.pts',\n",
       " 'data/ShapeNet/raw/train_data/02691156/000482.pts',\n",
       " 'data/ShapeNet/raw/train_data/02691156/000485.pts',\n",
       " 'data/ShapeNet/raw/train_data/02691156/000488.pts',\n",
       " 'data/ShapeNet/raw/train_data/02691156/000497.pts',\n",
       " 'data/ShapeNet/raw/train_data/02691156/000505.pts',\n",
       " 'data/ShapeNet/raw/train_data/02691156/000507.pts',\n",
       " 'data/ShapeNet/raw/train_data/02691156/000509.pts',\n",
       " 'data/ShapeNet/raw/train_data/02691156/000514.pts',\n",
       " 'data/ShapeNet/raw/train_data/02691156/000518.pts',\n",
       " 'data/ShapeNet/raw/train_data/02691156/000520.pts',\n",
       " 'data/ShapeNet/raw/train_data/02691156/000525.pts',\n",
       " 'data/ShapeNet/raw/train_data/02691156/000529.pts',\n",
       " 'data/ShapeNet/raw/train_data/02691156/000535.pts',\n",
       " 'data/ShapeNet/raw/train_data/02691156/000543.pts',\n",
       " 'data/ShapeNet/raw/train_data/02691156/000545.pts',\n",
       " 'data/ShapeNet/raw/train_data/02691156/000546.pts',\n",
       " 'data/ShapeNet/raw/train_data/02691156/000548.pts',\n",
       " 'data/ShapeNet/raw/train_data/02691156/000551.pts',\n",
       " 'data/ShapeNet/raw/train_data/02691156/000553.pts',\n",
       " 'data/ShapeNet/raw/train_data/02691156/000580.pts',\n",
       " 'data/ShapeNet/raw/train_data/02691156/000582.pts',\n",
       " 'data/ShapeNet/raw/train_data/02691156/000586.pts',\n",
       " 'data/ShapeNet/raw/train_data/02691156/000602.pts',\n",
       " 'data/ShapeNet/raw/train_data/02691156/000618.pts',\n",
       " 'data/ShapeNet/raw/train_data/02691156/000619.pts',\n",
       " 'data/ShapeNet/raw/train_data/02691156/000620.pts',\n",
       " 'data/ShapeNet/raw/train_data/02691156/000627.pts',\n",
       " 'data/ShapeNet/raw/train_data/02691156/000638.pts',\n",
       " 'data/ShapeNet/raw/train_data/02691156/000645.pts',\n",
       " 'data/ShapeNet/raw/train_data/02691156/000653.pts',\n",
       " 'data/ShapeNet/raw/train_data/02691156/000654.pts',\n",
       " 'data/ShapeNet/raw/train_data/02691156/000659.pts',\n",
       " 'data/ShapeNet/raw/train_data/02691156/000660.pts',\n",
       " 'data/ShapeNet/raw/train_data/02691156/000666.pts',\n",
       " 'data/ShapeNet/raw/train_data/02691156/000673.pts',\n",
       " 'data/ShapeNet/raw/train_data/02691156/000701.pts',\n",
       " 'data/ShapeNet/raw/train_data/02691156/000703.pts',\n",
       " 'data/ShapeNet/raw/train_data/02691156/000712.pts',\n",
       " 'data/ShapeNet/raw/train_data/02691156/000713.pts',\n",
       " 'data/ShapeNet/raw/train_data/02691156/000715.pts',\n",
       " 'data/ShapeNet/raw/train_data/02691156/000717.pts',\n",
       " 'data/ShapeNet/raw/train_data/02691156/000730.pts',\n",
       " 'data/ShapeNet/raw/train_data/02691156/000734.pts',\n",
       " 'data/ShapeNet/raw/train_data/02691156/000737.pts',\n",
       " 'data/ShapeNet/raw/train_data/02691156/000742.pts',\n",
       " 'data/ShapeNet/raw/train_data/02691156/000750.pts',\n",
       " 'data/ShapeNet/raw/train_data/02691156/000752.pts',\n",
       " 'data/ShapeNet/raw/train_data/02691156/000757.pts',\n",
       " 'data/ShapeNet/raw/train_data/02691156/000765.pts',\n",
       " 'data/ShapeNet/raw/train_data/02691156/000798.pts',\n",
       " 'data/ShapeNet/raw/train_data/02691156/000819.pts',\n",
       " 'data/ShapeNet/raw/train_data/02691156/000827.pts',\n",
       " 'data/ShapeNet/raw/train_data/02691156/000830.pts',\n",
       " 'data/ShapeNet/raw/train_data/02691156/000831.pts',\n",
       " 'data/ShapeNet/raw/train_data/02691156/000835.pts',\n",
       " 'data/ShapeNet/raw/train_data/02691156/000844.pts',\n",
       " 'data/ShapeNet/raw/train_data/02691156/000850.pts',\n",
       " 'data/ShapeNet/raw/train_data/02691156/000854.pts',\n",
       " 'data/ShapeNet/raw/train_data/02691156/000856.pts',\n",
       " 'data/ShapeNet/raw/train_data/02691156/000867.pts',\n",
       " 'data/ShapeNet/raw/train_data/02691156/000869.pts',\n",
       " 'data/ShapeNet/raw/train_data/02691156/000904.pts',\n",
       " 'data/ShapeNet/raw/train_data/02691156/000905.pts',\n",
       " 'data/ShapeNet/raw/train_data/02691156/000907.pts',\n",
       " 'data/ShapeNet/raw/train_data/02691156/000908.pts',\n",
       " 'data/ShapeNet/raw/train_data/02691156/000909.pts',\n",
       " 'data/ShapeNet/raw/train_data/02691156/000912.pts',\n",
       " 'data/ShapeNet/raw/train_data/02691156/000919.pts',\n",
       " 'data/ShapeNet/raw/train_data/02691156/000927.pts',\n",
       " 'data/ShapeNet/raw/train_data/02691156/000935.pts',\n",
       " 'data/ShapeNet/raw/train_data/02691156/000936.pts',\n",
       " 'data/ShapeNet/raw/train_data/02691156/000947.pts',\n",
       " 'data/ShapeNet/raw/train_data/02691156/000955.pts',\n",
       " 'data/ShapeNet/raw/train_data/02691156/000958.pts',\n",
       " 'data/ShapeNet/raw/train_data/02691156/000964.pts',\n",
       " 'data/ShapeNet/raw/train_data/02691156/000968.pts',\n",
       " 'data/ShapeNet/raw/train_data/02691156/000976.pts',\n",
       " 'data/ShapeNet/raw/train_data/02691156/000977.pts',\n",
       " 'data/ShapeNet/raw/train_data/02691156/000979.pts',\n",
       " 'data/ShapeNet/raw/train_data/02691156/000989.pts',\n",
       " 'data/ShapeNet/raw/train_data/02691156/000999.pts',\n",
       " 'data/ShapeNet/raw/train_data/02691156/001035.pts',\n",
       " 'data/ShapeNet/raw/train_data/02691156/001041.pts',\n",
       " 'data/ShapeNet/raw/train_data/02691156/001045.pts',\n",
       " 'data/ShapeNet/raw/train_data/02691156/001056.pts',\n",
       " 'data/ShapeNet/raw/train_data/02691156/001066.pts',\n",
       " 'data/ShapeNet/raw/train_data/02691156/001067.pts',\n",
       " 'data/ShapeNet/raw/train_data/02691156/001070.pts',\n",
       " 'data/ShapeNet/raw/train_data/02691156/001074.pts',\n",
       " 'data/ShapeNet/raw/train_data/02691156/001075.pts',\n",
       " 'data/ShapeNet/raw/train_data/02691156/001088.pts',\n",
       " 'data/ShapeNet/raw/train_data/02691156/001096.pts',\n",
       " 'data/ShapeNet/raw/train_data/02691156/001102.pts',\n",
       " 'data/ShapeNet/raw/train_data/02691156/001106.pts',\n",
       " 'data/ShapeNet/raw/train_data/02691156/001124.pts',\n",
       " 'data/ShapeNet/raw/train_data/02691156/001125.pts',\n",
       " 'data/ShapeNet/raw/train_data/02691156/001127.pts',\n",
       " 'data/ShapeNet/raw/train_data/02691156/001129.pts',\n",
       " 'data/ShapeNet/raw/train_data/02691156/001141.pts',\n",
       " 'data/ShapeNet/raw/train_data/02691156/001144.pts',\n",
       " 'data/ShapeNet/raw/train_data/02691156/001147.pts',\n",
       " 'data/ShapeNet/raw/train_data/02691156/001152.pts',\n",
       " 'data/ShapeNet/raw/train_data/02691156/001154.pts',\n",
       " 'data/ShapeNet/raw/train_data/02691156/001160.pts',\n",
       " 'data/ShapeNet/raw/train_data/02691156/001162.pts',\n",
       " 'data/ShapeNet/raw/train_data/02691156/001164.pts',\n",
       " 'data/ShapeNet/raw/train_data/02691156/001167.pts',\n",
       " 'data/ShapeNet/raw/train_data/02691156/001169.pts',\n",
       " 'data/ShapeNet/raw/train_data/02691156/001170.pts',\n",
       " 'data/ShapeNet/raw/train_data/02691156/001185.pts',\n",
       " 'data/ShapeNet/raw/train_data/02691156/001194.pts',\n",
       " 'data/ShapeNet/raw/train_data/02691156/001212.pts',\n",
       " 'data/ShapeNet/raw/train_data/02691156/001228.pts',\n",
       " 'data/ShapeNet/raw/train_data/02691156/001230.pts',\n",
       " 'data/ShapeNet/raw/train_data/02691156/001241.pts',\n",
       " 'data/ShapeNet/raw/train_data/02691156/001246.pts',\n",
       " 'data/ShapeNet/raw/train_data/02691156/001249.pts',\n",
       " 'data/ShapeNet/raw/train_data/02691156/001261.pts',\n",
       " 'data/ShapeNet/raw/train_data/02691156/001263.pts',\n",
       " 'data/ShapeNet/raw/train_data/02691156/001282.pts',\n",
       " 'data/ShapeNet/raw/train_data/02691156/001290.pts',\n",
       " 'data/ShapeNet/raw/train_data/02691156/001294.pts',\n",
       " 'data/ShapeNet/raw/train_data/02691156/001299.pts',\n",
       " 'data/ShapeNet/raw/train_data/02691156/001303.pts',\n",
       " 'data/ShapeNet/raw/train_data/02691156/001305.pts',\n",
       " 'data/ShapeNet/raw/train_data/02691156/001317.pts',\n",
       " 'data/ShapeNet/raw/train_data/02691156/001336.pts',\n",
       " 'data/ShapeNet/raw/train_data/02691156/001337.pts',\n",
       " 'data/ShapeNet/raw/train_data/02691156/001339.pts',\n",
       " 'data/ShapeNet/raw/train_data/02691156/001340.pts',\n",
       " 'data/ShapeNet/raw/train_data/02691156/001349.pts',\n",
       " 'data/ShapeNet/raw/train_data/02691156/001353.pts',\n",
       " 'data/ShapeNet/raw/train_data/02691156/001358.pts',\n",
       " 'data/ShapeNet/raw/train_data/02691156/001366.pts',\n",
       " 'data/ShapeNet/raw/train_data/02691156/001373.pts',\n",
       " 'data/ShapeNet/raw/train_data/02691156/001385.pts',\n",
       " 'data/ShapeNet/raw/train_data/02691156/001400.pts',\n",
       " 'data/ShapeNet/raw/train_data/02691156/001425.pts',\n",
       " 'data/ShapeNet/raw/train_data/02691156/001438.pts',\n",
       " 'data/ShapeNet/raw/train_data/02691156/001440.pts',\n",
       " 'data/ShapeNet/raw/train_data/02691156/001444.pts',\n",
       " 'data/ShapeNet/raw/train_data/02691156/001453.pts',\n",
       " 'data/ShapeNet/raw/train_data/02691156/001457.pts',\n",
       " 'data/ShapeNet/raw/train_data/02691156/001458.pts',\n",
       " 'data/ShapeNet/raw/train_data/02691156/001482.pts',\n",
       " 'data/ShapeNet/raw/train_data/02691156/001486.pts',\n",
       " 'data/ShapeNet/raw/train_data/02691156/001489.pts',\n",
       " 'data/ShapeNet/raw/train_data/02691156/001491.pts',\n",
       " 'data/ShapeNet/raw/train_data/02691156/001497.pts',\n",
       " 'data/ShapeNet/raw/train_data/02691156/001498.pts',\n",
       " 'data/ShapeNet/raw/train_data/02691156/001501.pts',\n",
       " 'data/ShapeNet/raw/train_data/02691156/001502.pts',\n",
       " 'data/ShapeNet/raw/train_data/02691156/001514.pts',\n",
       " 'data/ShapeNet/raw/train_data/02691156/001526.pts',\n",
       " 'data/ShapeNet/raw/train_data/02691156/001528.pts',\n",
       " 'data/ShapeNet/raw/train_data/02691156/001531.pts',\n",
       " 'data/ShapeNet/raw/train_data/02691156/001533.pts',\n",
       " 'data/ShapeNet/raw/train_data/02691156/001545.pts',\n",
       " 'data/ShapeNet/raw/train_data/02691156/001548.pts',\n",
       " 'data/ShapeNet/raw/train_data/02691156/001552.pts',\n",
       " 'data/ShapeNet/raw/train_data/02691156/001554.pts',\n",
       " 'data/ShapeNet/raw/train_data/02691156/001555.pts',\n",
       " 'data/ShapeNet/raw/train_data/02691156/001559.pts',\n",
       " 'data/ShapeNet/raw/train_data/02691156/001563.pts',\n",
       " 'data/ShapeNet/raw/train_data/02691156/001569.pts',\n",
       " 'data/ShapeNet/raw/train_data/02691156/001577.pts',\n",
       " 'data/ShapeNet/raw/train_data/02691156/001579.pts',\n",
       " 'data/ShapeNet/raw/train_data/02691156/001584.pts',\n",
       " 'data/ShapeNet/raw/train_data/02691156/001602.pts',\n",
       " 'data/ShapeNet/raw/train_data/02691156/001604.pts',\n",
       " 'data/ShapeNet/raw/train_data/02691156/001609.pts',\n",
       " 'data/ShapeNet/raw/train_data/02691156/001615.pts',\n",
       " 'data/ShapeNet/raw/train_data/02691156/001618.pts',\n",
       " 'data/ShapeNet/raw/train_data/02691156/001622.pts',\n",
       " 'data/ShapeNet/raw/train_data/02691156/001634.pts',\n",
       " 'data/ShapeNet/raw/train_data/02691156/001639.pts',\n",
       " 'data/ShapeNet/raw/train_data/02691156/001643.pts',\n",
       " 'data/ShapeNet/raw/train_data/02691156/001670.pts',\n",
       " 'data/ShapeNet/raw/train_data/02691156/001683.pts',\n",
       " 'data/ShapeNet/raw/train_data/02691156/001686.pts',\n",
       " 'data/ShapeNet/raw/train_data/02691156/001690.pts',\n",
       " 'data/ShapeNet/raw/train_data/02691156/001705.pts',\n",
       " 'data/ShapeNet/raw/train_data/02691156/001712.pts',\n",
       " 'data/ShapeNet/raw/train_data/02691156/001722.pts',\n",
       " 'data/ShapeNet/raw/train_data/02691156/001731.pts',\n",
       " 'data/ShapeNet/raw/train_data/02691156/001746.pts',\n",
       " 'data/ShapeNet/raw/train_data/02691156/001749.pts',\n",
       " 'data/ShapeNet/raw/train_data/02691156/001761.pts',\n",
       " 'data/ShapeNet/raw/train_data/02691156/001774.pts',\n",
       " 'data/ShapeNet/raw/train_data/02691156/001798.pts',\n",
       " 'data/ShapeNet/raw/train_data/02691156/001808.pts',\n",
       " 'data/ShapeNet/raw/train_data/02691156/001810.pts',\n",
       " 'data/ShapeNet/raw/train_data/02691156/001821.pts',\n",
       " 'data/ShapeNet/raw/train_data/02691156/001841.pts',\n",
       " 'data/ShapeNet/raw/train_data/02691156/001843.pts',\n",
       " 'data/ShapeNet/raw/train_data/02691156/001844.pts',\n",
       " 'data/ShapeNet/raw/train_data/02691156/001846.pts',\n",
       " 'data/ShapeNet/raw/train_data/02691156/001847.pts',\n",
       " 'data/ShapeNet/raw/train_data/02691156/001860.pts',\n",
       " 'data/ShapeNet/raw/train_data/02691156/001868.pts',\n",
       " 'data/ShapeNet/raw/train_data/02691156/001876.pts',\n",
       " 'data/ShapeNet/raw/train_data/02691156/001887.pts',\n",
       " 'data/ShapeNet/raw/train_data/02691156/001896.pts',\n",
       " 'data/ShapeNet/raw/train_data/02691156/001898.pts',\n",
       " 'data/ShapeNet/raw/train_data/02691156/001915.pts',\n",
       " 'data/ShapeNet/raw/train_data/02691156/001917.pts',\n",
       " 'data/ShapeNet/raw/train_data/02691156/001923.pts',\n",
       " 'data/ShapeNet/raw/train_data/02691156/001929.pts',\n",
       " 'data/ShapeNet/raw/train_data/02691156/001932.pts',\n",
       " 'data/ShapeNet/raw/train_data/02691156/001948.pts',\n",
       " 'data/ShapeNet/raw/train_data/02691156/001950.pts',\n",
       " 'data/ShapeNet/raw/train_data/02691156/001959.pts',\n",
       " 'data/ShapeNet/raw/train_data/02691156/001960.pts',\n",
       " 'data/ShapeNet/raw/train_data/02691156/001961.pts',\n",
       " 'data/ShapeNet/raw/train_data/02691156/001964.pts',\n",
       " 'data/ShapeNet/raw/train_data/02691156/001965.pts',\n",
       " 'data/ShapeNet/raw/train_data/02691156/001978.pts',\n",
       " 'data/ShapeNet/raw/train_data/02691156/001980.pts',\n",
       " 'data/ShapeNet/raw/train_data/02691156/001985.pts',\n",
       " 'data/ShapeNet/raw/train_data/02691156/001999.pts',\n",
       " 'data/ShapeNet/raw/train_data/02691156/002009.pts',\n",
       " 'data/ShapeNet/raw/train_data/02691156/002012.pts',\n",
       " 'data/ShapeNet/raw/train_data/02691156/002015.pts',\n",
       " 'data/ShapeNet/raw/train_data/02691156/002019.pts',\n",
       " 'data/ShapeNet/raw/train_data/02691156/002021.pts',\n",
       " 'data/ShapeNet/raw/train_data/02691156/002022.pts',\n",
       " 'data/ShapeNet/raw/train_data/02691156/002024.pts',\n",
       " 'data/ShapeNet/raw/train_data/02691156/002027.pts',\n",
       " 'data/ShapeNet/raw/train_data/02691156/002030.pts',\n",
       " 'data/ShapeNet/raw/train_data/02691156/002035.pts',\n",
       " 'data/ShapeNet/raw/train_data/02691156/002060.pts',\n",
       " 'data/ShapeNet/raw/train_data/02691156/002068.pts',\n",
       " 'data/ShapeNet/raw/train_data/02691156/002073.pts',\n",
       " 'data/ShapeNet/raw/train_data/02691156/002075.pts',\n",
       " 'data/ShapeNet/raw/train_data/02691156/002078.pts',\n",
       " 'data/ShapeNet/raw/train_data/02691156/002087.pts',\n",
       " 'data/ShapeNet/raw/train_data/02691156/002093.pts',\n",
       " 'data/ShapeNet/raw/train_data/02691156/002095.pts',\n",
       " 'data/ShapeNet/raw/train_data/02691156/002103.pts',\n",
       " 'data/ShapeNet/raw/train_data/02691156/002115.pts',\n",
       " 'data/ShapeNet/raw/train_data/02691156/002117.pts',\n",
       " 'data/ShapeNet/raw/train_data/02691156/002127.pts',\n",
       " 'data/ShapeNet/raw/train_data/02691156/002129.pts',\n",
       " 'data/ShapeNet/raw/train_data/02691156/002131.pts',\n",
       " 'data/ShapeNet/raw/train_data/02691156/002136.pts',\n",
       " 'data/ShapeNet/raw/train_data/02691156/002137.pts',\n",
       " 'data/ShapeNet/raw/train_data/02691156/002144.pts',\n",
       " 'data/ShapeNet/raw/train_data/02691156/002160.pts',\n",
       " 'data/ShapeNet/raw/train_data/02691156/002178.pts',\n",
       " 'data/ShapeNet/raw/train_data/02691156/002189.pts',\n",
       " 'data/ShapeNet/raw/train_data/02691156/002191.pts',\n",
       " 'data/ShapeNet/raw/train_data/02691156/002199.pts',\n",
       " 'data/ShapeNet/raw/train_data/02691156/002206.pts',\n",
       " 'data/ShapeNet/raw/train_data/02691156/002215.pts',\n",
       " 'data/ShapeNet/raw/train_data/02691156/002220.pts',\n",
       " 'data/ShapeNet/raw/train_data/02691156/002227.pts',\n",
       " 'data/ShapeNet/raw/train_data/02691156/002232.pts',\n",
       " 'data/ShapeNet/raw/train_data/02691156/002233.pts',\n",
       " 'data/ShapeNet/raw/train_data/02691156/002244.pts',\n",
       " 'data/ShapeNet/raw/train_data/02691156/002246.pts',\n",
       " 'data/ShapeNet/raw/train_data/02691156/002249.pts',\n",
       " 'data/ShapeNet/raw/train_data/02691156/002265.pts',\n",
       " 'data/ShapeNet/raw/train_data/02691156/002266.pts',\n",
       " 'data/ShapeNet/raw/train_data/02691156/002275.pts',\n",
       " 'data/ShapeNet/raw/train_data/02691156/002285.pts',\n",
       " 'data/ShapeNet/raw/train_data/02691156/002288.pts',\n",
       " 'data/ShapeNet/raw/train_data/02691156/002290.pts',\n",
       " 'data/ShapeNet/raw/train_data/02691156/002295.pts',\n",
       " 'data/ShapeNet/raw/train_data/02691156/002296.pts',\n",
       " 'data/ShapeNet/raw/train_data/02691156/002314.pts',\n",
       " 'data/ShapeNet/raw/train_data/02691156/002324.pts',\n",
       " 'data/ShapeNet/raw/train_data/02691156/002329.pts',\n",
       " 'data/ShapeNet/raw/train_data/02691156/002336.pts',\n",
       " 'data/ShapeNet/raw/train_data/02691156/002337.pts',\n",
       " 'data/ShapeNet/raw/train_data/02691156/002339.pts',\n",
       " 'data/ShapeNet/raw/train_data/02691156/002346.pts',\n",
       " 'data/ShapeNet/raw/train_data/02691156/002352.pts',\n",
       " 'data/ShapeNet/raw/train_data/02691156/002357.pts',\n",
       " 'data/ShapeNet/raw/train_data/02691156/002363.pts',\n",
       " 'data/ShapeNet/raw/train_data/02691156/002375.pts',\n",
       " 'data/ShapeNet/raw/train_data/02691156/002377.pts',\n",
       " 'data/ShapeNet/raw/train_data/02691156/002383.pts',\n",
       " 'data/ShapeNet/raw/train_data/02691156/002385.pts',\n",
       " 'data/ShapeNet/raw/train_data/02691156/002393.pts',\n",
       " 'data/ShapeNet/raw/train_data/02691156/002412.pts',\n",
       " 'data/ShapeNet/raw/train_data/02691156/002414.pts',\n",
       " 'data/ShapeNet/raw/train_data/02691156/002417.pts',\n",
       " 'data/ShapeNet/raw/train_data/02691156/002418.pts',\n",
       " 'data/ShapeNet/raw/train_data/02691156/002427.pts',\n",
       " 'data/ShapeNet/raw/train_data/02691156/002435.pts',\n",
       " 'data/ShapeNet/raw/train_data/02691156/002439.pts',\n",
       " 'data/ShapeNet/raw/train_data/02691156/002443.pts',\n",
       " 'data/ShapeNet/raw/train_data/02691156/002446.pts',\n",
       " 'data/ShapeNet/raw/train_data/02691156/002450.pts',\n",
       " 'data/ShapeNet/raw/train_data/02691156/002452.pts',\n",
       " 'data/ShapeNet/raw/train_data/02691156/002455.pts',\n",
       " 'data/ShapeNet/raw/train_data/02691156/002457.pts',\n",
       " 'data/ShapeNet/raw/train_data/02691156/002467.pts',\n",
       " 'data/ShapeNet/raw/train_data/02691156/002468.pts',\n",
       " 'data/ShapeNet/raw/train_data/02691156/002469.pts',\n",
       " 'data/ShapeNet/raw/train_data/02691156/002477.pts',\n",
       " 'data/ShapeNet/raw/train_data/02691156/002493.pts',\n",
       " 'data/ShapeNet/raw/train_data/02691156/002497.pts',\n",
       " 'data/ShapeNet/raw/train_data/02691156/002498.pts',\n",
       " 'data/ShapeNet/raw/train_data/02691156/002501.pts',\n",
       " 'data/ShapeNet/raw/train_data/02691156/002502.pts',\n",
       " 'data/ShapeNet/raw/train_data/02691156/002504.pts',\n",
       " 'data/ShapeNet/raw/train_data/02691156/002521.pts',\n",
       " 'data/ShapeNet/raw/train_data/02691156/002532.pts',\n",
       " 'data/ShapeNet/raw/train_data/02691156/002539.pts',\n",
       " 'data/ShapeNet/raw/train_data/02691156/002553.pts',\n",
       " 'data/ShapeNet/raw/train_data/02691156/002556.pts',\n",
       " 'data/ShapeNet/raw/train_data/02691156/002561.pts',\n",
       " 'data/ShapeNet/raw/train_data/02691156/002562.pts',\n",
       " 'data/ShapeNet/raw/train_data/02691156/002575.pts',\n",
       " 'data/ShapeNet/raw/train_data/02691156/002587.pts',\n",
       " 'data/ShapeNet/raw/train_data/02691156/002590.pts',\n",
       " 'data/ShapeNet/raw/train_data/02691156/002592.pts',\n",
       " 'data/ShapeNet/raw/train_data/02691156/002600.pts',\n",
       " 'data/ShapeNet/raw/train_data/02691156/002604.pts',\n",
       " 'data/ShapeNet/raw/train_data/02691156/002617.pts',\n",
       " 'data/ShapeNet/raw/train_data/02691156/002619.pts',\n",
       " 'data/ShapeNet/raw/train_data/02691156/002623.pts',\n",
       " 'data/ShapeNet/raw/train_data/02691156/002628.pts',\n",
       " 'data/ShapeNet/raw/train_data/02691156/002642.pts',\n",
       " 'data/ShapeNet/raw/train_data/02691156/002653.pts',\n",
       " 'data/ShapeNet/raw/train_data/02691156/002658.pts',\n",
       " 'data/ShapeNet/raw/train_data/02691156/002661.pts',\n",
       " 'data/ShapeNet/raw/train_data/02691156/002671.pts',\n",
       " 'data/ShapeNet/raw/train_data/02691156/002673.pts',\n",
       " 'data/ShapeNet/raw/train_data/02691156/002681.pts',\n",
       " 'data/ShapeNet/raw/train_data/02691156/002684.pts',\n",
       " 'data/ShapeNet/raw/train_data/02691156/002685.pts',\n",
       " 'data/ShapeNet/raw/train_data/02691156/002687.pts',\n",
       " 'data/ShapeNet/raw/train_data/02691156/002702.pts',\n",
       " 'data/ShapeNet/raw/train_data/02691156/002706.pts',\n",
       " 'data/ShapeNet/raw/train_data/02691156/002709.pts',\n",
       " 'data/ShapeNet/raw/train_data/02691156/002714.pts',\n",
       " 'data/ShapeNet/raw/train_data/02691156/002715.pts',\n",
       " 'data/ShapeNet/raw/train_data/02691156/002721.pts',\n",
       " 'data/ShapeNet/raw/train_data/02691156/002726.pts',\n",
       " 'data/ShapeNet/raw/train_data/02691156/002730.pts',\n",
       " 'data/ShapeNet/raw/train_data/02691156/002732.pts',\n",
       " 'data/ShapeNet/raw/train_data/02691156/002747.pts',\n",
       " 'data/ShapeNet/raw/train_data/02691156/002753.pts',\n",
       " 'data/ShapeNet/raw/train_data/02691156/002757.pts',\n",
       " 'data/ShapeNet/raw/train_data/02691156/002766.pts',\n",
       " 'data/ShapeNet/raw/train_data/02691156/002770.pts',\n",
       " 'data/ShapeNet/raw/train_data/02691156/002777.pts',\n",
       " 'data/ShapeNet/raw/train_data/02691156/002786.pts',\n",
       " 'data/ShapeNet/raw/train_data/02691156/002805.pts',\n",
       " 'data/ShapeNet/raw/train_data/02691156/002812.pts',\n",
       " 'data/ShapeNet/raw/train_data/02691156/002825.pts',\n",
       " 'data/ShapeNet/raw/train_data/02691156/002827.pts',\n",
       " 'data/ShapeNet/raw/train_data/02691156/002829.pts',\n",
       " 'data/ShapeNet/raw/train_data/02691156/002833.pts',\n",
       " 'data/ShapeNet/raw/train_data/02691156/002835.pts',\n",
       " 'data/ShapeNet/raw/train_data/02691156/002853.pts',\n",
       " 'data/ShapeNet/raw/train_data/02691156/002855.pts',\n",
       " 'data/ShapeNet/raw/train_data/02691156/002856.pts',\n",
       " 'data/ShapeNet/raw/train_data/02691156/002857.pts',\n",
       " 'data/ShapeNet/raw/train_data/02691156/002867.pts',\n",
       " 'data/ShapeNet/raw/train_data/02691156/002882.pts',\n",
       " 'data/ShapeNet/raw/train_data/02691156/002884.pts',\n",
       " 'data/ShapeNet/raw/train_data/02691156/002886.pts',\n",
       " 'data/ShapeNet/raw/train_data/02691156/002893.pts',\n",
       " 'data/ShapeNet/raw/train_data/02691156/002899.pts',\n",
       " 'data/ShapeNet/raw/train_data/02691156/002900.pts',\n",
       " 'data/ShapeNet/raw/train_data/02691156/002901.pts',\n",
       " 'data/ShapeNet/raw/train_data/02691156/002902.pts',\n",
       " 'data/ShapeNet/raw/train_data/02691156/002910.pts',\n",
       " 'data/ShapeNet/raw/train_data/02691156/002912.pts',\n",
       " 'data/ShapeNet/raw/train_data/02691156/002917.pts',\n",
       " 'data/ShapeNet/raw/train_data/02691156/002919.pts',\n",
       " 'data/ShapeNet/raw/train_data/02691156/002920.pts',\n",
       " 'data/ShapeNet/raw/train_data/02691156/002922.pts',\n",
       " 'data/ShapeNet/raw/train_data/02691156/002926.pts',\n",
       " 'data/ShapeNet/raw/train_data/02691156/002945.pts',\n",
       " 'data/ShapeNet/raw/train_data/02691156/002956.pts',\n",
       " 'data/ShapeNet/raw/train_data/02691156/002957.pts',\n",
       " 'data/ShapeNet/raw/train_data/02691156/002960.pts',\n",
       " 'data/ShapeNet/raw/train_data/02691156/002962.pts',\n",
       " 'data/ShapeNet/raw/train_data/02691156/002966.pts',\n",
       " 'data/ShapeNet/raw/train_data/02691156/002970.pts',\n",
       " 'data/ShapeNet/raw/train_data/02691156/002971.pts',\n",
       " 'data/ShapeNet/raw/train_data/02691156/002983.pts',\n",
       " 'data/ShapeNet/raw/train_data/02691156/002988.pts',\n",
       " 'data/ShapeNet/raw/train_data/02691156/002989.pts',\n",
       " 'data/ShapeNet/raw/train_data/02691156/003000.pts',\n",
       " 'data/ShapeNet/raw/train_data/02691156/003002.pts',\n",
       " 'data/ShapeNet/raw/train_data/02691156/003003.pts',\n",
       " 'data/ShapeNet/raw/train_data/02691156/003006.pts',\n",
       " 'data/ShapeNet/raw/train_data/02691156/003013.pts',\n",
       " 'data/ShapeNet/raw/train_data/02691156/003017.pts',\n",
       " 'data/ShapeNet/raw/train_data/02691156/003025.pts',\n",
       " 'data/ShapeNet/raw/train_data/02691156/003040.pts',\n",
       " 'data/ShapeNet/raw/train_data/02691156/003046.pts',\n",
       " 'data/ShapeNet/raw/train_data/02691156/003048.pts',\n",
       " 'data/ShapeNet/raw/train_data/02691156/003053.pts',\n",
       " 'data/ShapeNet/raw/train_data/02691156/003054.pts',\n",
       " 'data/ShapeNet/raw/train_data/02691156/003055.pts',\n",
       " 'data/ShapeNet/raw/train_data/02691156/003063.pts',\n",
       " 'data/ShapeNet/raw/train_data/02691156/003069.pts',\n",
       " 'data/ShapeNet/raw/train_data/02691156/003075.pts',\n",
       " 'data/ShapeNet/raw/train_data/02691156/003078.pts',\n",
       " 'data/ShapeNet/raw/train_data/02691156/003079.pts',\n",
       " 'data/ShapeNet/raw/train_data/02691156/003080.pts',\n",
       " 'data/ShapeNet/raw/train_data/02691156/003091.pts',\n",
       " 'data/ShapeNet/raw/train_data/02691156/003095.pts',\n",
       " 'data/ShapeNet/raw/train_data/02691156/003099.pts',\n",
       " 'data/ShapeNet/raw/train_data/02691156/003103.pts',\n",
       " 'data/ShapeNet/raw/train_data/02691156/003105.pts',\n",
       " 'data/ShapeNet/raw/train_data/02691156/003108.pts',\n",
       " 'data/ShapeNet/raw/train_data/02691156/003122.pts',\n",
       " 'data/ShapeNet/raw/train_data/02691156/003143.pts',\n",
       " 'data/ShapeNet/raw/train_data/02691156/003146.pts',\n",
       " 'data/ShapeNet/raw/train_data/02691156/003147.pts',\n",
       " 'data/ShapeNet/raw/train_data/02691156/003158.pts',\n",
       " 'data/ShapeNet/raw/train_data/02691156/003162.pts',\n",
       " 'data/ShapeNet/raw/train_data/02691156/003177.pts',\n",
       " 'data/ShapeNet/raw/train_data/02691156/003187.pts',\n",
       " 'data/ShapeNet/raw/train_data/02691156/003195.pts',\n",
       " 'data/ShapeNet/raw/train_data/02691156/003199.pts',\n",
       " 'data/ShapeNet/raw/train_data/02691156/003202.pts',\n",
       " 'data/ShapeNet/raw/train_data/02691156/003203.pts',\n",
       " 'data/ShapeNet/raw/train_data/02691156/003207.pts',\n",
       " 'data/ShapeNet/raw/train_data/02691156/003209.pts',\n",
       " 'data/ShapeNet/raw/train_data/02691156/003224.pts',\n",
       " 'data/ShapeNet/raw/train_data/02691156/003242.pts',\n",
       " 'data/ShapeNet/raw/train_data/02691156/003250.pts',\n",
       " 'data/ShapeNet/raw/train_data/02691156/003251.pts',\n",
       " 'data/ShapeNet/raw/train_data/02691156/003258.pts',\n",
       " 'data/ShapeNet/raw/train_data/02691156/003266.pts',\n",
       " 'data/ShapeNet/raw/train_data/02691156/003267.pts',\n",
       " 'data/ShapeNet/raw/train_data/02691156/003278.pts',\n",
       " 'data/ShapeNet/raw/train_data/02691156/003281.pts',\n",
       " 'data/ShapeNet/raw/train_data/02691156/003298.pts',\n",
       " 'data/ShapeNet/raw/train_data/02691156/003308.pts',\n",
       " 'data/ShapeNet/raw/train_data/02691156/003311.pts',\n",
       " 'data/ShapeNet/raw/train_data/02691156/003312.pts',\n",
       " 'data/ShapeNet/raw/train_data/02691156/003318.pts',\n",
       " 'data/ShapeNet/raw/train_data/02691156/003320.pts',\n",
       " 'data/ShapeNet/raw/train_data/02691156/003326.pts',\n",
       " 'data/ShapeNet/raw/train_data/02691156/003327.pts',\n",
       " 'data/ShapeNet/raw/train_data/02691156/003336.pts',\n",
       " 'data/ShapeNet/raw/train_data/02691156/003346.pts',\n",
       " 'data/ShapeNet/raw/train_data/02691156/003355.pts',\n",
       " 'data/ShapeNet/raw/train_data/02691156/003358.pts',\n",
       " 'data/ShapeNet/raw/train_data/02691156/003363.pts',\n",
       " 'data/ShapeNet/raw/train_data/02691156/003368.pts',\n",
       " 'data/ShapeNet/raw/train_data/02691156/003369.pts',\n",
       " 'data/ShapeNet/raw/train_data/02691156/003386.pts',\n",
       " 'data/ShapeNet/raw/train_data/02691156/003391.pts',\n",
       " 'data/ShapeNet/raw/train_data/02691156/003410.pts',\n",
       " 'data/ShapeNet/raw/train_data/02691156/003413.pts',\n",
       " 'data/ShapeNet/raw/train_data/02691156/003424.pts',\n",
       " 'data/ShapeNet/raw/train_data/02691156/003428.pts',\n",
       " 'data/ShapeNet/raw/train_data/02691156/003433.pts',\n",
       " 'data/ShapeNet/raw/train_data/02691156/003435.pts',\n",
       " 'data/ShapeNet/raw/train_data/02691156/003437.pts',\n",
       " 'data/ShapeNet/raw/train_data/02691156/003448.pts',\n",
       " 'data/ShapeNet/raw/train_data/02691156/003450.pts',\n",
       " 'data/ShapeNet/raw/train_data/02691156/003453.pts',\n",
       " 'data/ShapeNet/raw/train_data/02691156/003454.pts',\n",
       " 'data/ShapeNet/raw/train_data/02691156/003458.pts',\n",
       " 'data/ShapeNet/raw/train_data/02691156/003459.pts',\n",
       " 'data/ShapeNet/raw/train_data/02691156/003463.pts',\n",
       " 'data/ShapeNet/raw/train_data/02691156/003468.pts',\n",
       " 'data/ShapeNet/raw/train_data/02691156/003476.pts',\n",
       " 'data/ShapeNet/raw/train_data/02691156/003479.pts',\n",
       " 'data/ShapeNet/raw/train_data/02691156/003480.pts',\n",
       " 'data/ShapeNet/raw/train_data/02691156/003482.pts',\n",
       " 'data/ShapeNet/raw/train_data/02691156/003495.pts',\n",
       " 'data/ShapeNet/raw/train_data/02691156/003500.pts',\n",
       " 'data/ShapeNet/raw/train_data/02691156/003516.pts',\n",
       " 'data/ShapeNet/raw/train_data/02691156/003527.pts',\n",
       " 'data/ShapeNet/raw/train_data/02691156/003535.pts',\n",
       " 'data/ShapeNet/raw/train_data/02691156/003544.pts',\n",
       " 'data/ShapeNet/raw/train_data/02691156/003572.pts',\n",
       " 'data/ShapeNet/raw/train_data/02691156/003580.pts',\n",
       " 'data/ShapeNet/raw/train_data/02691156/003589.pts',\n",
       " 'data/ShapeNet/raw/train_data/02691156/003594.pts',\n",
       " 'data/ShapeNet/raw/train_data/02691156/003599.pts',\n",
       " 'data/ShapeNet/raw/train_data/02691156/003601.pts',\n",
       " 'data/ShapeNet/raw/train_data/02691156/003604.pts',\n",
       " 'data/ShapeNet/raw/train_data/02691156/003618.pts',\n",
       " 'data/ShapeNet/raw/train_data/02691156/003631.pts',\n",
       " 'data/ShapeNet/raw/train_data/02691156/003633.pts',\n",
       " 'data/ShapeNet/raw/train_data/02691156/003638.pts',\n",
       " 'data/ShapeNet/raw/train_data/02691156/003640.pts',\n",
       " 'data/ShapeNet/raw/train_data/02691156/003652.pts',\n",
       " 'data/ShapeNet/raw/train_data/02691156/003667.pts',\n",
       " 'data/ShapeNet/raw/train_data/02691156/003674.pts',\n",
       " 'data/ShapeNet/raw/train_data/02691156/003683.pts',\n",
       " 'data/ShapeNet/raw/train_data/02691156/003686.pts',\n",
       " 'data/ShapeNet/raw/train_data/02691156/003687.pts',\n",
       " 'data/ShapeNet/raw/train_data/02691156/003697.pts',\n",
       " 'data/ShapeNet/raw/train_data/02691156/003703.pts',\n",
       " 'data/ShapeNet/raw/train_data/02691156/003704.pts',\n",
       " 'data/ShapeNet/raw/train_data/02691156/003707.pts',\n",
       " 'data/ShapeNet/raw/train_data/02691156/003710.pts',\n",
       " 'data/ShapeNet/raw/train_data/02691156/003713.pts',\n",
       " 'data/ShapeNet/raw/train_data/02691156/003725.pts',\n",
       " 'data/ShapeNet/raw/train_data/02691156/003727.pts',\n",
       " 'data/ShapeNet/raw/train_data/02691156/003741.pts',\n",
       " 'data/ShapeNet/raw/train_data/02691156/003745.pts',\n",
       " 'data/ShapeNet/raw/train_data/02691156/003746.pts',\n",
       " 'data/ShapeNet/raw/train_data/02691156/003755.pts',\n",
       " 'data/ShapeNet/raw/train_data/02691156/003760.pts',\n",
       " 'data/ShapeNet/raw/train_data/02691156/003767.pts',\n",
       " 'data/ShapeNet/raw/train_data/02691156/003774.pts',\n",
       " 'data/ShapeNet/raw/train_data/02691156/003777.pts',\n",
       " 'data/ShapeNet/raw/train_data/02691156/003779.pts',\n",
       " 'data/ShapeNet/raw/train_data/02691156/003785.pts',\n",
       " 'data/ShapeNet/raw/train_data/02691156/003796.pts',\n",
       " 'data/ShapeNet/raw/train_data/02691156/003799.pts',\n",
       " 'data/ShapeNet/raw/train_data/02691156/003811.pts',\n",
       " 'data/ShapeNet/raw/train_data/02691156/003814.pts',\n",
       " 'data/ShapeNet/raw/train_data/02691156/003821.pts',\n",
       " 'data/ShapeNet/raw/train_data/02691156/003825.pts',\n",
       " 'data/ShapeNet/raw/train_data/02691156/003826.pts',\n",
       " 'data/ShapeNet/raw/train_data/02691156/003832.pts',\n",
       " 'data/ShapeNet/raw/train_data/02691156/003842.pts',\n",
       " 'data/ShapeNet/raw/train_data/02691156/003845.pts',\n",
       " 'data/ShapeNet/raw/train_data/02691156/003865.pts',\n",
       " 'data/ShapeNet/raw/train_data/02691156/003872.pts',\n",
       " 'data/ShapeNet/raw/train_data/02691156/003873.pts',\n",
       " 'data/ShapeNet/raw/train_data/02691156/003886.pts',\n",
       " 'data/ShapeNet/raw/train_data/02691156/003899.pts',\n",
       " 'data/ShapeNet/raw/train_data/02691156/003900.pts',\n",
       " 'data/ShapeNet/raw/train_data/02691156/003901.pts',\n",
       " 'data/ShapeNet/raw/train_data/02691156/003902.pts',\n",
       " 'data/ShapeNet/raw/train_data/02691156/003911.pts',\n",
       " 'data/ShapeNet/raw/train_data/02691156/003925.pts',\n",
       " 'data/ShapeNet/raw/train_data/02691156/003927.pts',\n",
       " 'data/ShapeNet/raw/train_data/02691156/003941.pts',\n",
       " 'data/ShapeNet/raw/train_data/02691156/003944.pts',\n",
       " 'data/ShapeNet/raw/train_data/02691156/003954.pts',\n",
       " 'data/ShapeNet/raw/train_data/02691156/003957.pts',\n",
       " 'data/ShapeNet/raw/train_data/02691156/003962.pts',\n",
       " 'data/ShapeNet/raw/train_data/02691156/004007.pts',\n",
       " 'data/ShapeNet/raw/train_data/02691156/004009.pts',\n",
       " 'data/ShapeNet/raw/train_data/02691156/004011.pts',\n",
       " 'data/ShapeNet/raw/train_data/02691156/004014.pts',\n",
       " 'data/ShapeNet/raw/train_data/02691156/004026.pts',\n",
       " 'data/ShapeNet/raw/train_data/02691156/004028.pts',\n",
       " 'data/ShapeNet/raw/train_data/02691156/004039.pts',\n",
       " 'data/ShapeNet/raw/train_data/02691156/004045.pts',\n",
       " 'data/ShapeNet/raw/train_data/02691156/004055.pts',\n",
       " 'data/ShapeNet/raw/train_data/02691156/004077.pts',\n",
       " 'data/ShapeNet/raw/train_data/02691156/004078.pts',\n",
       " 'data/ShapeNet/raw/train_data/02691156/004084.pts',\n",
       " 'data/ShapeNet/raw/train_data/02691156/004087.pts',\n",
       " 'data/ShapeNet/raw/train_data/02691156/004095.pts',\n",
       " 'data/ShapeNet/raw/train_data/02691156/004101.pts',\n",
       " 'data/ShapeNet/raw/train_data/02691156/004104.pts',\n",
       " 'data/ShapeNet/raw/train_data/02691156/004111.pts',\n",
       " 'data/ShapeNet/raw/train_data/02691156/004123.pts',\n",
       " 'data/ShapeNet/raw/train_data/02691156/004146.pts',\n",
       " 'data/ShapeNet/raw/train_data/02691156/004150.pts',\n",
       " 'data/ShapeNet/raw/train_data/02691156/004152.pts',\n",
       " 'data/ShapeNet/raw/train_data/02691156/004169.pts',\n",
       " 'data/ShapeNet/raw/train_data/02691156/004179.pts',\n",
       " 'data/ShapeNet/raw/train_data/02691156/004184.pts',\n",
       " 'data/ShapeNet/raw/train_data/02691156/004196.pts',\n",
       " 'data/ShapeNet/raw/train_data/02691156/004201.pts',\n",
       " 'data/ShapeNet/raw/train_data/02691156/004211.pts',\n",
       " 'data/ShapeNet/raw/train_data/02691156/004219.pts',\n",
       " 'data/ShapeNet/raw/train_data/02691156/004222.pts',\n",
       " 'data/ShapeNet/raw/train_data/02691156/004241.pts',\n",
       " 'data/ShapeNet/raw/train_data/02691156/004244.pts',\n",
       " 'data/ShapeNet/raw/train_data/02691156/004252.pts',\n",
       " 'data/ShapeNet/raw/train_data/02691156/004254.pts',\n",
       " 'data/ShapeNet/raw/train_data/02691156/004255.pts',\n",
       " 'data/ShapeNet/raw/train_data/02691156/004265.pts',\n",
       " 'data/ShapeNet/raw/train_data/02691156/004267.pts',\n",
       " 'data/ShapeNet/raw/train_data/02691156/004275.pts',\n",
       " 'data/ShapeNet/raw/train_data/02691156/004279.pts',\n",
       " 'data/ShapeNet/raw/train_data/02691156/004283.pts',\n",
       " 'data/ShapeNet/raw/train_data/02691156/004286.pts',\n",
       " 'data/ShapeNet/raw/train_data/02691156/004291.pts',\n",
       " 'data/ShapeNet/raw/train_data/02691156/004299.pts',\n",
       " 'data/ShapeNet/raw/train_data/02691156/004308.pts',\n",
       " 'data/ShapeNet/raw/train_data/02691156/004317.pts',\n",
       " 'data/ShapeNet/raw/train_data/02691156/004321.pts',\n",
       " 'data/ShapeNet/raw/train_data/02691156/004331.pts',\n",
       " 'data/ShapeNet/raw/train_data/02691156/004332.pts',\n",
       " 'data/ShapeNet/raw/train_data/02691156/004334.pts',\n",
       " 'data/ShapeNet/raw/train_data/02691156/004337.pts',\n",
       " 'data/ShapeNet/raw/train_data/02691156/004339.pts',\n",
       " 'data/ShapeNet/raw/train_data/02691156/004340.pts',\n",
       " 'data/ShapeNet/raw/train_data/02691156/004342.pts',\n",
       " 'data/ShapeNet/raw/train_data/02691156/004359.pts',\n",
       " 'data/ShapeNet/raw/train_data/02691156/004368.pts',\n",
       " 'data/ShapeNet/raw/train_data/02691156/004372.pts',\n",
       " 'data/ShapeNet/raw/train_data/02691156/004377.pts',\n",
       " 'data/ShapeNet/raw/train_data/02691156/004384.pts',\n",
       " 'data/ShapeNet/raw/train_data/02691156/004385.pts',\n",
       " 'data/ShapeNet/raw/train_data/02691156/004389.pts',\n",
       " 'data/ShapeNet/raw/train_data/02691156/004396.pts',\n",
       " 'data/ShapeNet/raw/train_data/02691156/004398.pts',\n",
       " 'data/ShapeNet/raw/train_data/02691156/004409.pts',\n",
       " 'data/ShapeNet/raw/train_data/02691156/004410.pts',\n",
       " 'data/ShapeNet/raw/train_data/02691156/004413.pts',\n",
       " 'data/ShapeNet/raw/train_data/02691156/004421.pts',\n",
       " 'data/ShapeNet/raw/train_data/02691156/004424.pts',\n",
       " 'data/ShapeNet/raw/train_data/02691156/004427.pts',\n",
       " 'data/ShapeNet/raw/train_data/02691156/004430.pts',\n",
       " 'data/ShapeNet/raw/train_data/02691156/004444.pts',\n",
       " 'data/ShapeNet/raw/train_data/02691156/004447.pts',\n",
       " 'data/ShapeNet/raw/train_data/02691156/004458.pts',\n",
       " 'data/ShapeNet/raw/train_data/02691156/004476.pts',\n",
       " 'data/ShapeNet/raw/train_data/02691156/004478.pts',\n",
       " 'data/ShapeNet/raw/train_data/02691156/004486.pts',\n",
       " 'data/ShapeNet/raw/train_data/02691156/004487.pts',\n",
       " 'data/ShapeNet/raw/train_data/02691156/004493.pts',\n",
       " 'data/ShapeNet/raw/train_data/02691156/004497.pts',\n",
       " 'data/ShapeNet/raw/train_data/02691156/004524.pts',\n",
       " 'data/ShapeNet/raw/train_data/02691156/004529.pts',\n",
       " 'data/ShapeNet/raw/train_data/02691156/004530.pts',\n",
       " 'data/ShapeNet/raw/train_data/02691156/004542.pts',\n",
       " 'data/ShapeNet/raw/train_data/02691156/004544.pts',\n",
       " 'data/ShapeNet/raw/train_data/02691156/004557.pts',\n",
       " 'data/ShapeNet/raw/train_data/02691156/004558.pts',\n",
       " 'data/ShapeNet/raw/train_data/02691156/004566.pts',\n",
       " 'data/ShapeNet/raw/train_data/02691156/004573.pts',\n",
       " 'data/ShapeNet/raw/train_data/02691156/004581.pts',\n",
       " 'data/ShapeNet/raw/train_data/02691156/004587.pts',\n",
       " 'data/ShapeNet/raw/train_data/02691156/004596.pts',\n",
       " 'data/ShapeNet/raw/train_data/02691156/004603.pts',\n",
       " 'data/ShapeNet/raw/train_data/02691156/004612.pts',\n",
       " 'data/ShapeNet/raw/train_data/02691156/004613.pts',\n",
       " 'data/ShapeNet/raw/train_data/02691156/004614.pts',\n",
       " 'data/ShapeNet/raw/train_data/02691156/004618.pts',\n",
       " 'data/ShapeNet/raw/train_data/02691156/004626.pts',\n",
       " 'data/ShapeNet/raw/train_data/02691156/004627.pts',\n",
       " 'data/ShapeNet/raw/train_data/02691156/004631.pts',\n",
       " 'data/ShapeNet/raw/train_data/02691156/004646.pts',\n",
       " 'data/ShapeNet/raw/train_data/02691156/004647.pts',\n",
       " 'data/ShapeNet/raw/train_data/02691156/004651.pts',\n",
       " 'data/ShapeNet/raw/train_data/02691156/004653.pts',\n",
       " 'data/ShapeNet/raw/train_data/02691156/004656.pts',\n",
       " 'data/ShapeNet/raw/train_data/02691156/004673.pts',\n",
       " 'data/ShapeNet/raw/train_data/02691156/004675.pts',\n",
       " 'data/ShapeNet/raw/train_data/02691156/004679.pts',\n",
       " 'data/ShapeNet/raw/train_data/02691156/004680.pts',\n",
       " 'data/ShapeNet/raw/train_data/02691156/004686.pts',\n",
       " 'data/ShapeNet/raw/train_data/02691156/004688.pts',\n",
       " 'data/ShapeNet/raw/train_data/02691156/004695.pts',\n",
       " 'data/ShapeNet/raw/train_data/02691156/004701.pts',\n",
       " 'data/ShapeNet/raw/train_data/02691156/004702.pts',\n",
       " 'data/ShapeNet/raw/train_data/02691156/004714.pts',\n",
       " 'data/ShapeNet/raw/train_data/02691156/004716.pts',\n",
       " 'data/ShapeNet/raw/train_data/02691156/004725.pts',\n",
       " 'data/ShapeNet/raw/train_data/02691156/004730.pts',\n",
       " 'data/ShapeNet/raw/train_data/02691156/004740.pts',\n",
       " 'data/ShapeNet/raw/train_data/02691156/004741.pts',\n",
       " 'data/ShapeNet/raw/train_data/02691156/004760.pts',\n",
       " 'data/ShapeNet/raw/train_data/02691156/004769.pts',\n",
       " 'data/ShapeNet/raw/train_data/02691156/004770.pts',\n",
       " 'data/ShapeNet/raw/train_data/02691156/004771.pts',\n",
       " 'data/ShapeNet/raw/train_data/02691156/004778.pts',\n",
       " 'data/ShapeNet/raw/train_data/02691156/004779.pts',\n",
       " 'data/ShapeNet/raw/train_data/02691156/004782.pts',\n",
       " 'data/ShapeNet/raw/train_data/02691156/004788.pts',\n",
       " 'data/ShapeNet/raw/train_data/02691156/004792.pts',\n",
       " 'data/ShapeNet/raw/train_data/02691156/004794.pts',\n",
       " 'data/ShapeNet/raw/train_data/02691156/004799.pts',\n",
       " 'data/ShapeNet/raw/train_data/02691156/004803.pts',\n",
       " 'data/ShapeNet/raw/train_data/02691156/004817.pts',\n",
       " 'data/ShapeNet/raw/train_data/02691156/004821.pts',\n",
       " 'data/ShapeNet/raw/train_data/02691156/004822.pts',\n",
       " 'data/ShapeNet/raw/train_data/02691156/004836.pts',\n",
       " 'data/ShapeNet/raw/train_data/02691156/004841.pts',\n",
       " 'data/ShapeNet/raw/train_data/02691156/004845.pts',\n",
       " 'data/ShapeNet/raw/train_data/02691156/004857.pts',\n",
       " 'data/ShapeNet/raw/train_data/02691156/004867.pts',\n",
       " 'data/ShapeNet/raw/train_data/02691156/004886.pts',\n",
       " 'data/ShapeNet/raw/train_data/02691156/004887.pts',\n",
       " 'data/ShapeNet/raw/train_data/02691156/004889.pts',\n",
       " 'data/ShapeNet/raw/train_data/02691156/004891.pts',\n",
       " 'data/ShapeNet/raw/train_data/02691156/004892.pts',\n",
       " 'data/ShapeNet/raw/train_data/02691156/004897.pts',\n",
       " 'data/ShapeNet/raw/train_data/02691156/004912.pts',\n",
       " 'data/ShapeNet/raw/train_data/02691156/004915.pts',\n",
       " 'data/ShapeNet/raw/train_data/02691156/004918.pts',\n",
       " 'data/ShapeNet/raw/train_data/02691156/004923.pts',\n",
       " 'data/ShapeNet/raw/train_data/02691156/004930.pts',\n",
       " 'data/ShapeNet/raw/train_data/02691156/004931.pts',\n",
       " 'data/ShapeNet/raw/train_data/02691156/004936.pts',\n",
       " 'data/ShapeNet/raw/train_data/02691156/004950.pts',\n",
       " 'data/ShapeNet/raw/train_data/02691156/004953.pts',\n",
       " 'data/ShapeNet/raw/train_data/02691156/004954.pts',\n",
       " 'data/ShapeNet/raw/train_data/02691156/004955.pts',\n",
       " 'data/ShapeNet/raw/train_data/02691156/004957.pts',\n",
       " 'data/ShapeNet/raw/train_data/02691156/004961.pts',\n",
       " 'data/ShapeNet/raw/train_data/02691156/004962.pts',\n",
       " 'data/ShapeNet/raw/train_data/02691156/004973.pts',\n",
       " 'data/ShapeNet/raw/train_data/02691156/004977.pts',\n",
       " 'data/ShapeNet/raw/train_data/02691156/004990.pts',\n",
       " 'data/ShapeNet/raw/train_data/02691156/005002.pts',\n",
       " 'data/ShapeNet/raw/train_data/02691156/005004.pts',\n",
       " 'data/ShapeNet/raw/train_data/02691156/005007.pts',\n",
       " 'data/ShapeNet/raw/train_data/02691156/005012.pts',\n",
       " 'data/ShapeNet/raw/train_data/02691156/005026.pts',\n",
       " 'data/ShapeNet/raw/train_data/02691156/005032.pts',\n",
       " 'data/ShapeNet/raw/train_data/02691156/005033.pts',\n",
       " 'data/ShapeNet/raw/train_data/02691156/005034.pts',\n",
       " 'data/ShapeNet/raw/train_data/02691156/005044.pts',\n",
       " 'data/ShapeNet/raw/train_data/02691156/005050.pts',\n",
       " 'data/ShapeNet/raw/train_data/02691156/005053.pts',\n",
       " 'data/ShapeNet/raw/train_data/02691156/005061.pts',\n",
       " 'data/ShapeNet/raw/train_data/02691156/005064.pts',\n",
       " 'data/ShapeNet/raw/train_data/02691156/005071.pts',\n",
       " 'data/ShapeNet/raw/train_data/02691156/005076.pts',\n",
       " 'data/ShapeNet/raw/train_data/02691156/005078.pts',\n",
       " 'data/ShapeNet/raw/train_data/02691156/005091.pts',\n",
       " 'data/ShapeNet/raw/train_data/02691156/005092.pts',\n",
       " 'data/ShapeNet/raw/train_data/02691156/005098.pts',\n",
       " 'data/ShapeNet/raw/train_data/02691156/005110.pts',\n",
       " 'data/ShapeNet/raw/train_data/02691156/005125.pts',\n",
       " 'data/ShapeNet/raw/train_data/02691156/005127.pts',\n",
       " 'data/ShapeNet/raw/train_data/02691156/005131.pts',\n",
       " 'data/ShapeNet/raw/train_data/02691156/005134.pts',\n",
       " 'data/ShapeNet/raw/train_data/02691156/005141.pts',\n",
       " 'data/ShapeNet/raw/train_data/02691156/005153.pts',\n",
       " 'data/ShapeNet/raw/train_data/02691156/005157.pts',\n",
       " 'data/ShapeNet/raw/train_data/02691156/005161.pts',\n",
       " 'data/ShapeNet/raw/train_data/02691156/005174.pts',\n",
       " 'data/ShapeNet/raw/train_data/02691156/005176.pts',\n",
       " 'data/ShapeNet/raw/train_data/02691156/005182.pts',\n",
       " 'data/ShapeNet/raw/train_data/02691156/005186.pts',\n",
       " 'data/ShapeNet/raw/train_data/02691156/005188.pts',\n",
       " 'data/ShapeNet/raw/train_data/02691156/005189.pts',\n",
       " 'data/ShapeNet/raw/train_data/02691156/005194.pts',\n",
       " 'data/ShapeNet/raw/train_data/02691156/005200.pts',\n",
       " 'data/ShapeNet/raw/train_data/02691156/005205.pts',\n",
       " 'data/ShapeNet/raw/train_data/02691156/005215.pts',\n",
       " 'data/ShapeNet/raw/train_data/02691156/005221.pts',\n",
       " 'data/ShapeNet/raw/train_data/02691156/005223.pts',\n",
       " 'data/ShapeNet/raw/train_data/02691156/005229.pts',\n",
       " 'data/ShapeNet/raw/train_data/02691156/005231.pts',\n",
       " 'data/ShapeNet/raw/train_data/02691156/005240.pts',\n",
       " 'data/ShapeNet/raw/train_data/02691156/005244.pts',\n",
       " 'data/ShapeNet/raw/train_data/02691156/005255.pts',\n",
       " 'data/ShapeNet/raw/train_data/02691156/005264.pts',\n",
       " 'data/ShapeNet/raw/train_data/02691156/005275.pts',\n",
       " 'data/ShapeNet/raw/train_data/02691156/005287.pts',\n",
       " 'data/ShapeNet/raw/train_data/02691156/005296.pts',\n",
       " 'data/ShapeNet/raw/train_data/02691156/005301.pts',\n",
       " 'data/ShapeNet/raw/train_data/02691156/005304.pts',\n",
       " 'data/ShapeNet/raw/train_data/02691156/005313.pts',\n",
       " 'data/ShapeNet/raw/train_data/02691156/005316.pts',\n",
       " 'data/ShapeNet/raw/train_data/02691156/005329.pts',\n",
       " 'data/ShapeNet/raw/train_data/02691156/005331.pts',\n",
       " 'data/ShapeNet/raw/train_data/02691156/005332.pts',\n",
       " 'data/ShapeNet/raw/train_data/02691156/005333.pts',\n",
       " 'data/ShapeNet/raw/train_data/02691156/005350.pts',\n",
       " 'data/ShapeNet/raw/train_data/02691156/005369.pts',\n",
       " 'data/ShapeNet/raw/train_data/02691156/005372.pts',\n",
       " 'data/ShapeNet/raw/train_data/02691156/005376.pts',\n",
       " 'data/ShapeNet/raw/train_data/02691156/005377.pts',\n",
       " 'data/ShapeNet/raw/train_data/02691156/005381.pts',\n",
       " 'data/ShapeNet/raw/train_data/02691156/005383.pts',\n",
       " 'data/ShapeNet/raw/train_data/02691156/005386.pts',\n",
       " 'data/ShapeNet/raw/train_data/02691156/005391.pts',\n",
       " 'data/ShapeNet/raw/train_data/02691156/005399.pts',\n",
       " 'data/ShapeNet/raw/train_data/02691156/005413.pts',\n",
       " 'data/ShapeNet/raw/train_data/02691156/005416.pts',\n",
       " 'data/ShapeNet/raw/train_data/02691156/005422.pts',\n",
       " 'data/ShapeNet/raw/train_data/02691156/005425.pts',\n",
       " 'data/ShapeNet/raw/train_data/02691156/005426.pts',\n",
       " 'data/ShapeNet/raw/train_data/02691156/005428.pts',\n",
       " 'data/ShapeNet/raw/train_data/02691156/005432.pts',\n",
       " 'data/ShapeNet/raw/train_data/02691156/005435.pts',\n",
       " 'data/ShapeNet/raw/train_data/02691156/005457.pts',\n",
       " 'data/ShapeNet/raw/train_data/02691156/005459.pts',\n",
       " 'data/ShapeNet/raw/train_data/02691156/005463.pts',\n",
       " 'data/ShapeNet/raw/train_data/02691156/005468.pts',\n",
       " 'data/ShapeNet/raw/train_data/02691156/005470.pts',\n",
       " 'data/ShapeNet/raw/train_data/02691156/005475.pts',\n",
       " 'data/ShapeNet/raw/train_data/02691156/005500.pts',\n",
       " 'data/ShapeNet/raw/train_data/02691156/005504.pts',\n",
       " 'data/ShapeNet/raw/train_data/02691156/005507.pts',\n",
       " 'data/ShapeNet/raw/train_data/02691156/005517.pts',\n",
       " 'data/ShapeNet/raw/train_data/02691156/005530.pts',\n",
       " 'data/ShapeNet/raw/train_data/02691156/005544.pts',\n",
       " 'data/ShapeNet/raw/train_data/02691156/005545.pts',\n",
       " 'data/ShapeNet/raw/train_data/02691156/005568.pts',\n",
       " 'data/ShapeNet/raw/train_data/02691156/005570.pts',\n",
       " 'data/ShapeNet/raw/train_data/02691156/005577.pts',\n",
       " 'data/ShapeNet/raw/train_data/02691156/005578.pts',\n",
       " 'data/ShapeNet/raw/train_data/02691156/005586.pts',\n",
       " 'data/ShapeNet/raw/train_data/02691156/005598.pts',\n",
       " 'data/ShapeNet/raw/train_data/02691156/005601.pts',\n",
       " 'data/ShapeNet/raw/train_data/02691156/005608.pts',\n",
       " 'data/ShapeNet/raw/train_data/02691156/005613.pts',\n",
       " 'data/ShapeNet/raw/train_data/02691156/005617.pts',\n",
       " 'data/ShapeNet/raw/train_data/02691156/005619.pts',\n",
       " 'data/ShapeNet/raw/train_data/02691156/005629.pts',\n",
       " 'data/ShapeNet/raw/train_data/02691156/005630.pts',\n",
       " 'data/ShapeNet/raw/train_data/02691156/005631.pts',\n",
       " 'data/ShapeNet/raw/train_data/02691156/005632.pts',\n",
       " 'data/ShapeNet/raw/train_data/02691156/005640.pts',\n",
       " 'data/ShapeNet/raw/train_data/02691156/005643.pts',\n",
       " 'data/ShapeNet/raw/train_data/02691156/005644.pts',\n",
       " 'data/ShapeNet/raw/train_data/02691156/005660.pts',\n",
       " 'data/ShapeNet/raw/train_data/02691156/005663.pts',\n",
       " 'data/ShapeNet/raw/train_data/02691156/005665.pts',\n",
       " 'data/ShapeNet/raw/train_data/02691156/005670.pts',\n",
       " 'data/ShapeNet/raw/train_data/02691156/005674.pts',\n",
       " 'data/ShapeNet/raw/train_data/02691156/005687.pts',\n",
       " 'data/ShapeNet/raw/train_data/02691156/005694.pts',\n",
       " 'data/ShapeNet/raw/train_data/02691156/005696.pts',\n",
       " 'data/ShapeNet/raw/train_data/02691156/005701.pts',\n",
       " 'data/ShapeNet/raw/train_data/02691156/005719.pts',\n",
       " 'data/ShapeNet/raw/train_data/02691156/005722.pts',\n",
       " 'data/ShapeNet/raw/train_data/02691156/005725.pts',\n",
       " 'data/ShapeNet/raw/train_data/02691156/005727.pts',\n",
       " 'data/ShapeNet/raw/train_data/02691156/005734.pts',\n",
       " 'data/ShapeNet/raw/train_data/02691156/005742.pts',\n",
       " 'data/ShapeNet/raw/train_data/02691156/005764.pts',\n",
       " 'data/ShapeNet/raw/train_data/02691156/005765.pts',\n",
       " 'data/ShapeNet/raw/train_data/02691156/005769.pts',\n",
       " 'data/ShapeNet/raw/train_data/02691156/005770.pts',\n",
       " 'data/ShapeNet/raw/train_data/02691156/005776.pts',\n",
       " 'data/ShapeNet/raw/train_data/02691156/005778.pts',\n",
       " 'data/ShapeNet/raw/train_data/02691156/005787.pts',\n",
       " 'data/ShapeNet/raw/train_data/02691156/005788.pts',\n",
       " 'data/ShapeNet/raw/train_data/02691156/005792.pts',\n",
       " 'data/ShapeNet/raw/train_data/02691156/005794.pts',\n",
       " 'data/ShapeNet/raw/train_data/02691156/005815.pts',\n",
       " 'data/ShapeNet/raw/train_data/02691156/005820.pts',\n",
       " 'data/ShapeNet/raw/train_data/02691156/005841.pts',\n",
       " 'data/ShapeNet/raw/train_data/02691156/005844.pts',\n",
       " 'data/ShapeNet/raw/train_data/02691156/005847.pts',\n",
       " 'data/ShapeNet/raw/train_data/02691156/005849.pts',\n",
       " 'data/ShapeNet/raw/train_data/02691156/005864.pts',\n",
       " 'data/ShapeNet/raw/train_data/02691156/005878.pts',\n",
       " 'data/ShapeNet/raw/train_data/02691156/005885.pts',\n",
       " 'data/ShapeNet/raw/train_data/02691156/005887.pts',\n",
       " 'data/ShapeNet/raw/train_data/02691156/005903.pts',\n",
       " 'data/ShapeNet/raw/train_data/02691156/005904.pts',\n",
       " 'data/ShapeNet/raw/train_data/02691156/005909.pts',\n",
       " 'data/ShapeNet/raw/train_data/02691156/005919.pts',\n",
       " 'data/ShapeNet/raw/train_data/02691156/005929.pts',\n",
       " 'data/ShapeNet/raw/train_data/02691156/005937.pts',\n",
       " 'data/ShapeNet/raw/train_data/02691156/005938.pts',\n",
       " 'data/ShapeNet/raw/train_data/02691156/005947.pts',\n",
       " 'data/ShapeNet/raw/train_data/02691156/005956.pts',\n",
       " 'data/ShapeNet/raw/train_data/02691156/005960.pts',\n",
       " 'data/ShapeNet/raw/train_data/02691156/005969.pts',\n",
       " 'data/ShapeNet/raw/train_data/02691156/005970.pts',\n",
       " 'data/ShapeNet/raw/train_data/02691156/005971.pts',\n",
       " 'data/ShapeNet/raw/train_data/02691156/005978.pts',\n",
       " 'data/ShapeNet/raw/train_data/02691156/006002.pts',\n",
       " 'data/ShapeNet/raw/train_data/02691156/006004.pts',\n",
       " 'data/ShapeNet/raw/train_data/02691156/006022.pts',\n",
       " 'data/ShapeNet/raw/train_data/02691156/006023.pts',\n",
       " 'data/ShapeNet/raw/train_data/02691156/006029.pts',\n",
       " 'data/ShapeNet/raw/train_data/02691156/006034.pts',\n",
       " 'data/ShapeNet/raw/train_data/02691156/006042.pts',\n",
       " 'data/ShapeNet/raw/train_data/02691156/006044.pts',\n",
       " 'data/ShapeNet/raw/train_data/02691156/006046.pts',\n",
       " 'data/ShapeNet/raw/train_data/02691156/006060.pts',\n",
       " 'data/ShapeNet/raw/train_data/02691156/006071.pts',\n",
       " 'data/ShapeNet/raw/train_data/02691156/006073.pts',\n",
       " 'data/ShapeNet/raw/train_data/02691156/006078.pts',\n",
       " 'data/ShapeNet/raw/train_data/02691156/006080.pts',\n",
       " 'data/ShapeNet/raw/train_data/02691156/006081.pts',\n",
       " 'data/ShapeNet/raw/train_data/02691156/006082.pts',\n",
       " 'data/ShapeNet/raw/train_data/02691156/006091.pts',\n",
       " 'data/ShapeNet/raw/train_data/02691156/006099.pts',\n",
       " 'data/ShapeNet/raw/train_data/02691156/006100.pts',\n",
       " 'data/ShapeNet/raw/train_data/02691156/006107.pts',\n",
       " 'data/ShapeNet/raw/train_data/02691156/006109.pts',\n",
       " 'data/ShapeNet/raw/train_data/02691156/006110.pts',\n",
       " 'data/ShapeNet/raw/train_data/02691156/006114.pts',\n",
       " 'data/ShapeNet/raw/train_data/02691156/006115.pts',\n",
       " 'data/ShapeNet/raw/train_data/02691156/006123.pts',\n",
       " 'data/ShapeNet/raw/train_data/02691156/006125.pts',\n",
       " 'data/ShapeNet/raw/train_data/02691156/006130.pts',\n",
       " 'data/ShapeNet/raw/train_data/02691156/006132.pts',\n",
       " 'data/ShapeNet/raw/train_data/02691156/006134.pts',\n",
       " 'data/ShapeNet/raw/train_data/02691156/006139.pts',\n",
       " 'data/ShapeNet/raw/train_data/02691156/006144.pts',\n",
       " 'data/ShapeNet/raw/train_data/02691156/006149.pts',\n",
       " 'data/ShapeNet/raw/train_data/02691156/006162.pts',\n",
       " 'data/ShapeNet/raw/train_data/02691156/006171.pts',\n",
       " 'data/ShapeNet/raw/train_data/02691156/006182.pts',\n",
       " 'data/ShapeNet/raw/train_data/02691156/006184.pts',\n",
       " 'data/ShapeNet/raw/train_data/02691156/006185.pts',\n",
       " 'data/ShapeNet/raw/train_data/02691156/006188.pts',\n",
       " 'data/ShapeNet/raw/train_data/02691156/006190.pts',\n",
       " 'data/ShapeNet/raw/train_data/02691156/006192.pts',\n",
       " 'data/ShapeNet/raw/train_data/02691156/006193.pts',\n",
       " 'data/ShapeNet/raw/train_data/02691156/006195.pts',\n",
       " 'data/ShapeNet/raw/train_data/02691156/006202.pts',\n",
       " 'data/ShapeNet/raw/train_data/02691156/006207.pts',\n",
       " 'data/ShapeNet/raw/train_data/02691156/006214.pts',\n",
       " 'data/ShapeNet/raw/train_data/02691156/006227.pts',\n",
       " 'data/ShapeNet/raw/train_data/02691156/006232.pts',\n",
       " 'data/ShapeNet/raw/train_data/02691156/006236.pts',\n",
       " 'data/ShapeNet/raw/train_data/02691156/006237.pts',\n",
       " 'data/ShapeNet/raw/train_data/02691156/006239.pts',\n",
       " 'data/ShapeNet/raw/train_data/02691156/006243.pts',\n",
       " 'data/ShapeNet/raw/train_data/02691156/006255.pts',\n",
       " 'data/ShapeNet/raw/train_data/02691156/006268.pts',\n",
       " 'data/ShapeNet/raw/train_data/02691156/006271.pts',\n",
       " 'data/ShapeNet/raw/train_data/02691156/006272.pts',\n",
       " 'data/ShapeNet/raw/train_data/02691156/006273.pts',\n",
       " 'data/ShapeNet/raw/train_data/02691156/006275.pts',\n",
       " 'data/ShapeNet/raw/train_data/02691156/006281.pts',\n",
       " ...]"
      ]
     },
     "execution_count": 15,
     "metadata": {},
     "output_type": "execute_result"
    }
   ],
   "source": [
    "sorted(glob.glob(osp.join('data/ShapeNet/raw/train_data', '02691156', '*.pts')))"
   ]
  },
  {
   "cell_type": "code",
   "execution_count": null,
   "metadata": {},
   "outputs": [],
   "source": []
  },
  {
   "cell_type": "code",
   "execution_count": null,
   "metadata": {},
   "outputs": [],
   "source": []
  },
  {
   "cell_type": "code",
   "execution_count": 3,
   "metadata": {},
   "outputs": [],
   "source": [
    "path = osp.join(\n",
    "    osp.dirname(osp.realpath('Untitled.ipynb')), 'data/ModelNet10')\n",
    "pre_transform = T.Compose([\n",
    "    T.NormalizeScale(),\n",
    "    T.SamplePoints(10000)\n",
    "])\n",
    "transform = None\n",
    "train_dataset = BlockModelNet(path, '10', True, transform, pre_transform)\n",
    "test_dataset = BlockModelNet(path, '10', False, transform, pre_transform)\n",
    "train_loader = BlockDataLoader(train_dataset, batch_size=16, shuffle=True,\n",
    "                          num_workers=6)\n",
    "test_loader = BlockDataLoader(test_dataset, batch_size=16, shuffle=False,\n",
    "                         num_workers=6)\n",
    "device = torch.device('cuda' if torch.cuda.is_available() else 'cpu')\n",
    "model = BlockPointNet().to(device)\n",
    "optimizer = torch.optim.Adam(model.parameters(), lr=0.001)"
   ]
  },
  {
   "cell_type": "code",
   "execution_count": 4,
   "metadata": {},
   "outputs": [],
   "source": [
    "# path = osp.join(\n",
    "#     osp.dirname(osp.realpath('Untitled.ipynb')), 'data/ModelNet10')\n",
    "# pre_transform, transform = T.NormalizeScale(), T.SamplePoints(2**13)\n",
    "# train_dataset = ModelNet(path, '10', True, transform, pre_transform)\n",
    "# test_dataset = ModelNet(path, '10', False, transform, pre_transform)\n",
    "# train_loader = DataLoader(train_dataset, batch_size=16, shuffle=True,\n",
    "#                           num_workers=6)\n",
    "# test_loader = DataLoader(test_dataset, batch_size=16, shuffle=False,\n",
    "#                          num_workers=6)\n",
    "# device = torch.device('cuda' if torch.cuda.is_available() else 'cpu')\n",
    "# model = Net().to(device)\n",
    "# optimizer = torch.optim.Adam(model.parameters(), lr=0.001)"
   ]
  },
  {
   "cell_type": "code",
   "execution_count": 6,
   "metadata": {},
   "outputs": [],
   "source": [
    "for i, batch in enumerate(train_loader):\n",
    "    \n",
    "    model.train()\n",
    "    batch = batch.to(device)\n",
    "    optimizer.zero_grad()\n",
    "\n",
    "    try:\n",
    "        y_hat = model(batch)\n",
    "    except ValueError:\n",
    "        pass\n",
    "\n",
    "    loss = F.nll_loss(y_hat, batch.y)\n",
    "    loss.backward()\n",
    "    optimizer.step()\n",
    "    \n",
    "    break"
   ]
  },
  {
   "cell_type": "code",
   "execution_count": 21,
   "metadata": {},
   "outputs": [],
   "source": [
    "sa0_out1 = (batch.x, batch.input1, batch.batch1)\n",
    "sa1_out1 = model.sa1_module(*sa0_out1)\n",
    "sa2_out1 = model.sa2_module(*sa1_out1)\n",
    "sa3_out1 = model.sa3_module(*sa2_out1)\n",
    "x1, pos1, batch1 = sa3_out1"
   ]
  },
  {
   "cell_type": "code",
   "execution_count": 22,
   "metadata": {},
   "outputs": [],
   "source": [
    "sa0_out2 = (batch.x, batch.input2, batch.batch2)\n",
    "sa1_out2 = model.sa1_module(*sa0_out2)\n",
    "sa2_out2 = model.sa2_module(*sa1_out2)\n",
    "sa3_out2 = model.sa3_module(*sa2_out2)\n",
    "x2, pos2, batch2 = sa3_out2"
   ]
  },
  {
   "cell_type": "code",
   "execution_count": 26,
   "metadata": {},
   "outputs": [],
   "source": [
    "x = torch.cat([x1, x2], dim=1)"
   ]
  },
  {
   "cell_type": "code",
   "execution_count": 24,
   "metadata": {},
   "outputs": [],
   "source": [
    "x = F.relu(model.lin1(x))\n",
    "x = F.dropout(x, p=0.5, training=model.training)\n",
    "x = F.relu(model.lin2(x))\n",
    "x = F.dropout(x, p=0.5, training=model.training)\n",
    "x = model.lin3(x)\n",
    "\n",
    "x = F.log_softmax(x, dim=-1)"
   ]
  },
  {
   "cell_type": "code",
   "execution_count": 27,
   "metadata": {},
   "outputs": [
    {
     "data": {
      "text/plain": [
       "torch.Size([16, 2048])"
      ]
     },
     "execution_count": 27,
     "metadata": {},
     "output_type": "execute_result"
    }
   ],
   "source": [
    "x.shape"
   ]
  },
  {
   "cell_type": "code",
   "execution_count": null,
   "metadata": {},
   "outputs": [],
   "source": []
  },
  {
   "cell_type": "code",
   "execution_count": null,
   "metadata": {},
   "outputs": [],
   "source": []
  },
  {
   "cell_type": "code",
   "execution_count": null,
   "metadata": {},
   "outputs": [],
   "source": []
  },
  {
   "cell_type": "code",
   "execution_count": null,
   "metadata": {},
   "outputs": [],
   "source": [
    "model(batch)"
   ]
  },
  {
   "cell_type": "code",
   "execution_count": null,
   "metadata": {},
   "outputs": [],
   "source": []
  },
  {
   "cell_type": "code",
   "execution_count": 12,
   "metadata": {},
   "outputs": [],
   "source": [
    "model.train()\n",
    "batch = batch.to(device)\n",
    "optimizer.zero_grad()\n",
    "\n",
    "try:\n",
    "    y_hat = model(batch)\n",
    "except ValueError:\n",
    "    pass\n",
    "\n",
    "loss = F.nll_loss(y_hat, batch.y)\n",
    "loss.backward()\n",
    "optimizer.step()"
   ]
  },
  {
   "cell_type": "code",
   "execution_count": null,
   "metadata": {},
   "outputs": [],
   "source": []
  },
  {
   "cell_type": "code",
   "execution_count": null,
   "metadata": {},
   "outputs": [],
   "source": []
  },
  {
   "cell_type": "code",
   "execution_count": 5,
   "metadata": {},
   "outputs": [],
   "source": [
    "model.train()\n",
    "\n",
    "for i, batch in enumerate(train_loader):\n",
    "    \n",
    "    if i == 1:\n",
    "        break\n",
    "\n",
    "    batch = batch.to(device)\n",
    "    optimizer.zero_grad()\n",
    "\n",
    "    try:\n",
    "        y_hat = model(batch)\n",
    "    except ValueError:\n",
    "        continue\n",
    "\n",
    "    loss = F.nll_loss(y_hat, batch.y)\n",
    "    loss.backward()\n",
    "    optimizer.step()"
   ]
  },
  {
   "cell_type": "code",
   "execution_count": 6,
   "metadata": {},
   "outputs": [
    {
     "data": {
      "text/plain": [
       "tensor([[-0.5833, -1.3225, -4.5300, -3.9541, -4.6630, -3.2685, -2.3401, -6.3777],\n",
       "        [-0.7727, -1.3256, -3.9121, -3.6510, -3.2893, -1.8789, -3.5103, -5.0060],\n",
       "        [-1.0495, -3.3946, -4.6569, -3.2365, -0.6195, -6.5244, -3.6188, -6.8652],\n",
       "        [-1.9340, -2.5388, -0.9728, -2.0575, -2.2793, -2.6808, -2.3908, -4.7961],\n",
       "        [-2.0171, -1.6565, -2.3866, -1.8654, -1.3523, -3.4629, -2.2466, -3.3924],\n",
       "        [-1.1714, -4.4068, -2.1356, -3.2328, -2.1495, -5.8132, -0.9270, -5.3032],\n",
       "        [-1.1144, -1.9246, -1.0469, -4.0944, -2.3589, -4.3340, -3.0390, -5.8894],\n",
       "        [-1.4102, -3.5970, -2.7702, -3.1675, -1.8196, -1.7126, -1.3139, -4.3821],\n",
       "        [-0.8850, -3.1971, -4.5354, -3.9609, -1.0201, -4.4585, -2.1146, -3.7376],\n",
       "        [-1.3592, -1.9093, -1.9154, -1.7360, -4.3851, -3.4177, -1.5353, -4.5274],\n",
       "        [-0.3094, -4.9101, -5.1835, -1.6763, -3.6900, -3.7495, -4.1878, -6.0239],\n",
       "        [-1.9171, -3.3035, -2.3419, -1.1254, -2.3291, -1.9624, -1.8739, -5.4917],\n",
       "        [-0.3012, -2.2528, -2.3718, -4.3653, -3.8215, -4.9576, -4.4309, -4.8164],\n",
       "        [-1.6743, -1.7828, -1.9864, -2.3222, -2.8461, -2.0340, -1.7430, -3.0950],\n",
       "        [-2.5952, -3.2115, -0.3178, -4.0211, -5.7373, -2.6807, -2.8736, -4.4924],\n",
       "        [-2.9654, -0.6040, -1.3608, -2.8763, -3.4605, -4.7251, -3.8318, -3.6085]],\n",
       "       device='cuda:0', grad_fn=<LogSoftmaxBackward>)"
      ]
     },
     "execution_count": 6,
     "metadata": {},
     "output_type": "execute_result"
    }
   ],
   "source": [
    "y_hat"
   ]
  },
  {
   "cell_type": "code",
   "execution_count": 7,
   "metadata": {},
   "outputs": [
    {
     "data": {
      "text/plain": [
       "tensor([3, 2, 7, 5, 7, 4, 1, 7, 7, 6, 1, 4, 6, 2, 7, 4])"
      ]
     },
     "execution_count": 7,
     "metadata": {},
     "output_type": "execute_result"
    }
   ],
   "source": [
    "batch.y"
   ]
  },
  {
   "cell_type": "code",
   "execution_count": null,
   "metadata": {},
   "outputs": [],
   "source": []
  },
  {
   "cell_type": "code",
   "execution_count": 8,
   "metadata": {},
   "outputs": [],
   "source": [
    "class BlockBatch(Data):\n",
    "    r\"\"\"A plain old python object modeling a batch of graphs as one big\n",
    "    (dicconnected) graph. With :class:`torch_geometric.data.Data` being the\n",
    "    base class, all its methods can also be used here.\n",
    "    In addition, single graphs can be reconstructed via the assignment vector\n",
    "    :obj:`batch`, which maps each node to its respective graph identifier.\n",
    "    \"\"\"\n",
    "\n",
    "    def __init__(self, batch=None, **kwargs):\n",
    "        super(BlockBatch, self).__init__(**kwargs)\n",
    "\n",
    "        self.batch = batch\n",
    "        self.__data_class__ = Data\n",
    "        self.__slices__ = None"
   ]
  },
  {
   "cell_type": "code",
   "execution_count": 44,
   "metadata": {},
   "outputs": [],
   "source": [
    "data_list = [train_dataset[i] for i in range(3)]\n",
    "follow_batch = []"
   ]
  },
  {
   "cell_type": "code",
   "execution_count": 45,
   "metadata": {},
   "outputs": [],
   "source": [
    "keys = [set(data.keys) for data in data_list]\n",
    "keys = list(set.union(*keys))\n",
    "assert 'batch' not in keys"
   ]
  },
  {
   "cell_type": "code",
   "execution_count": 46,
   "metadata": {},
   "outputs": [],
   "source": [
    "batch = BlockBatch()\n",
    "batch.__data_class__ = data_list[0].__class__\n",
    "batch.__slices__ = {key: [0] for key in keys}"
   ]
  },
  {
   "cell_type": "code",
   "execution_count": 47,
   "metadata": {},
   "outputs": [],
   "source": [
    "for key in keys:\n",
    "    batch[key] = []\n",
    "\n",
    "for key in follow_batch:\n",
    "    batch['{}_batch'.format(key)] = []"
   ]
  },
  {
   "cell_type": "code",
   "execution_count": 48,
   "metadata": {},
   "outputs": [],
   "source": [
    "cumsum = {key: 0 for key in keys}\n",
    "batch.batch1 = []\n",
    "batch.batch2 = []"
   ]
  },
  {
   "cell_type": "code",
   "execution_count": 49,
   "metadata": {},
   "outputs": [],
   "source": [
    "i = 0\n",
    "data = data_list[0]"
   ]
  },
  {
   "cell_type": "code",
   "execution_count": 57,
   "metadata": {},
   "outputs": [],
   "source": [
    "j = 1\n",
    "keys = data.keys\n",
    "key = keys[j]"
   ]
  },
  {
   "cell_type": "code",
   "execution_count": 58,
   "metadata": {},
   "outputs": [],
   "source": [
    "item = data[key]\n",
    "if torch.is_tensor(item) and item.dtype != torch.bool:\n",
    "    item = item + cumsum[key]\n",
    "if torch.is_tensor(item):\n",
    "    size = item.size(data.__cat_dim__(key, data[key]))\n",
    "else:\n",
    "    size = 1\n",
    "batch.__slices__[key].append(size + batch.__slices__[key][-1])\n",
    "cumsum[key] += data.__inc__(key, item)\n",
    "batch[key].append(item)"
   ]
  },
  {
   "cell_type": "code",
   "execution_count": 59,
   "metadata": {},
   "outputs": [],
   "source": [
    "if key in follow_batch:\n",
    "    item = torch.full((size, ), i, dtype=torch.long)\n",
    "    batch['{}_batch'.format(key)].append(item)"
   ]
  },
  {
   "cell_type": "code",
   "execution_count": 66,
   "metadata": {},
   "outputs": [],
   "source": [
    "if key == 'input1':\n",
    "    item = torch.full((data[key].shape[0], ), i, dtype=torch.long)\n",
    "    batch.batch1.append(item)\n",
    "elif key == 'input2':\n",
    "    item = torch.full((data[key].shape[0], ), i, dtype=torch.long)\n",
    "    batch.batch2.append(item)"
   ]
  },
  {
   "cell_type": "code",
   "execution_count": 67,
   "metadata": {},
   "outputs": [
    {
     "data": {
      "text/plain": [
       "BlockBatch(batch1=[tensor([0, 0, 0,  ..., 0, 0, 0])], batch2=[], input1=[tensor([[-1.1002,  1.3327,  1.0811],\n",
       "        [-0.1863, -0.1196, -0.7593],\n",
       "        [ 0.3199, -0.2447, -0.9447],\n",
       "        ...,\n",
       "        [-0.1952, -0.5812, -0.7520],\n",
       "        [-1.2103,  0.1218,  1.9542],\n",
       "        [ 0.9859, -1.5897,  1.1079]])], input2=[], y=[tensor([1])])"
      ]
     },
     "execution_count": 67,
     "metadata": {},
     "output_type": "execute_result"
    }
   ],
   "source": [
    "batch"
   ]
  },
  {
   "cell_type": "code",
   "execution_count": null,
   "metadata": {},
   "outputs": [],
   "source": []
  },
  {
   "cell_type": "code",
   "execution_count": 39,
   "metadata": {},
   "outputs": [],
   "source": [
    "batch = Batch.from_data_list([train_dataset[i] for i in range(3)]).batch"
   ]
  },
  {
   "cell_type": "code",
   "execution_count": 40,
   "metadata": {},
   "outputs": [],
   "source": [
    "slices = Batch.from_data_list([train_dataset[i] for i in range(3)]).__slices__"
   ]
  },
  {
   "cell_type": "code",
   "execution_count": 43,
   "metadata": {},
   "outputs": [
    {
     "data": {
      "text/plain": [
       "tensor([1, 1, 1,  ..., 1, 1, 1])"
      ]
     },
     "execution_count": 43,
     "metadata": {},
     "output_type": "execute_result"
    }
   ],
   "source": [
    "batch[8192:16384]"
   ]
  },
  {
   "cell_type": "code",
   "execution_count": 42,
   "metadata": {},
   "outputs": [
    {
     "data": {
      "text/plain": [
       "[0, 8192, 16384, 24576]"
      ]
     },
     "execution_count": 42,
     "metadata": {},
     "output_type": "execute_result"
    }
   ],
   "source": [
    "slices['pos']"
   ]
  },
  {
   "cell_type": "code",
   "execution_count": 11,
   "metadata": {},
   "outputs": [
    {
     "data": {
      "text/plain": [
       "{0, 1, 2, 3, 4, 5, 6, 7, 8, 9, 10, 11, 12, 13, 14, 15}"
      ]
     },
     "execution_count": 11,
     "metadata": {},
     "output_type": "execute_result"
    }
   ],
   "source": [
    "set(data.batch1.numpy())"
   ]
  },
  {
   "cell_type": "code",
   "execution_count": 12,
   "metadata": {},
   "outputs": [
    {
     "data": {
      "text/plain": [
       "{0, 1, 2, 3, 4, 5, 6, 7, 8, 9, 10, 11, 12, 13, 14, 15}"
      ]
     },
     "execution_count": 12,
     "metadata": {},
     "output_type": "execute_result"
    }
   ],
   "source": [
    "set(data.batch2.numpy())"
   ]
  },
  {
   "cell_type": "code",
   "execution_count": 14,
   "metadata": {},
   "outputs": [
    {
     "data": {
      "text/plain": [
       "{'y': [0, 1, 2, 3, 4, 5, 6, 7, 8, 9, 10, 11, 12, 13, 14, 15, 16],\n",
       " 'input2': [0,\n",
       "  1220,\n",
       "  2652,\n",
       "  3898,\n",
       "  5760,\n",
       "  7604,\n",
       "  9343,\n",
       "  11341,\n",
       "  11935,\n",
       "  13201,\n",
       "  14460,\n",
       "  15706,\n",
       "  16502,\n",
       "  17613,\n",
       "  18775,\n",
       "  20046,\n",
       "  22059],\n",
       " 'input1': [0,\n",
       "  1153,\n",
       "  2217,\n",
       "  3440,\n",
       "  4969,\n",
       "  5681,\n",
       "  6439,\n",
       "  8429,\n",
       "  9014,\n",
       "  10417,\n",
       "  11682,\n",
       "  12917,\n",
       "  14671,\n",
       "  16069,\n",
       "  17449,\n",
       "  18676,\n",
       "  20724]}"
      ]
     },
     "execution_count": 14,
     "metadata": {},
     "output_type": "execute_result"
    }
   ],
   "source": [
    "data.__slices__"
   ]
  },
  {
   "cell_type": "code",
   "execution_count": 11,
   "metadata": {},
   "outputs": [
    {
     "data": {
      "text/plain": [
       "tensor(0)"
      ]
     },
     "execution_count": 11,
     "metadata": {},
     "output_type": "execute_result"
    }
   ],
   "source": [
    "data.batch1[1267]"
   ]
  },
  {
   "cell_type": "code",
   "execution_count": 13,
   "metadata": {},
   "outputs": [
    {
     "data": {
      "text/plain": [
       "tensor(1)"
      ]
     },
     "execution_count": 13,
     "metadata": {},
     "output_type": "execute_result"
    }
   ],
   "source": [
    "data.batch2[816]"
   ]
  },
  {
   "cell_type": "code",
   "execution_count": 9,
   "metadata": {},
   "outputs": [
    {
     "data": {
      "text/plain": [
       "{'input1': [0,\n",
       "  1268,\n",
       "  2296,\n",
       "  3544,\n",
       "  4327,\n",
       "  5251,\n",
       "  5422,\n",
       "  6194,\n",
       "  6652,\n",
       "  7529,\n",
       "  8269,\n",
       "  9236,\n",
       "  9956,\n",
       "  10899,\n",
       "  11818,\n",
       "  12780,\n",
       "  13642],\n",
       " 'input2': [0,\n",
       "  816,\n",
       "  2354,\n",
       "  3152,\n",
       "  4440,\n",
       "  5512,\n",
       "  5701,\n",
       "  6959,\n",
       "  7671,\n",
       "  8401,\n",
       "  9271,\n",
       "  10320,\n",
       "  11685,\n",
       "  12537,\n",
       "  13635,\n",
       "  15059,\n",
       "  16253],\n",
       " 'y': [0, 1, 2, 3, 4, 5, 6, 7, 8, 9, 10, 11, 12, 13, 14, 15, 16]}"
      ]
     },
     "execution_count": 9,
     "metadata": {},
     "output_type": "execute_result"
    }
   ],
   "source": [
    "data.__slices__"
   ]
  },
  {
   "cell_type": "code",
   "execution_count": null,
   "metadata": {},
   "outputs": [],
   "source": []
  },
  {
   "cell_type": "code",
   "execution_count": null,
   "metadata": {},
   "outputs": [],
   "source": [
    "data_list = []\n",
    "for i in range(16):\n",
    "    data = train_dataset[i]\n",
    "    data[]"
   ]
  },
  {
   "cell_type": "code",
   "execution_count": null,
   "metadata": {},
   "outputs": [],
   "source": []
  },
  {
   "cell_type": "code",
   "execution_count": 10,
   "metadata": {},
   "outputs": [],
   "source": [
    "Batch.from_data_list?"
   ]
  },
  {
   "cell_type": "code",
   "execution_count": 5,
   "metadata": {},
   "outputs": [],
   "source": [
    "t = torch.load('data/ModelNet10/processed/training.pt')"
   ]
  },
  {
   "cell_type": "code",
   "execution_count": 6,
   "metadata": {},
   "outputs": [
    {
     "data": {
      "text/plain": [
       "(Data(input1=[228859904, 3], input2=[228859904, 3], y=[223496]),\n",
       " {'y': tensor([     0,      1,      2,  ..., 223494, 223495, 223496]),\n",
       "  'input1': tensor([        0,      1064,      2128,  ..., 228857422, 228858663,\n",
       "          228859904]),\n",
       "  'input2': tensor([        0,      1001,      1991,  ..., 228858358, 228859080,\n",
       "          228859904])})"
      ]
     },
     "execution_count": 6,
     "metadata": {},
     "output_type": "execute_result"
    }
   ],
   "source": [
    "t"
   ]
  },
  {
   "cell_type": "code",
   "execution_count": 25,
   "metadata": {},
   "outputs": [
    {
     "data": {
      "text/plain": [
       "Data(input1=[12253, 3], input2=[12351, 3], y=[12])"
      ]
     },
     "execution_count": 25,
     "metadata": {},
     "output_type": "execute_result"
    }
   ],
   "source": [
    "train_dataset[3:15].data"
   ]
  },
  {
   "cell_type": "code",
   "execution_count": 26,
   "metadata": {},
   "outputs": [
    {
     "data": {
      "text/plain": [
       "Data(input1=[1064, 3], input2=[1001, 3], y=[1])"
      ]
     },
     "execution_count": 26,
     "metadata": {},
     "output_type": "execute_result"
    }
   ],
   "source": [
    "train_dataset[0]"
   ]
  },
  {
   "cell_type": "code",
   "execution_count": 27,
   "metadata": {},
   "outputs": [
    {
     "data": {
      "text/plain": [
       "Data(input1=[1064, 3], input2=[1001, 3], y=[1])"
      ]
     },
     "execution_count": 27,
     "metadata": {},
     "output_type": "execute_result"
    }
   ],
   "source": [
    "train_dataset.get(0)"
   ]
  },
  {
   "cell_type": "code",
   "execution_count": 46,
   "metadata": {},
   "outputs": [
    {
     "data": {
      "text/plain": [
       "tensor([[-1.6816,  0.8526,  1.2656],\n",
       "        [ 0.4902, -0.4056, -1.2860],\n",
       "        [-1.0123, -1.7186, -1.8040],\n",
       "        ...,\n",
       "        [ 0.1597,  1.0022,  0.8418],\n",
       "        [-1.3371, -1.2636,  1.1008],\n",
       "        [ 0.5953, -0.9210,  1.0619]])"
      ]
     },
     "execution_count": 46,
     "metadata": {},
     "output_type": "execute_result"
    }
   ],
   "source": [
    "torch.cat([torch.empty(0, 3, dtype=torch.float), blocks[b1], blocks[b2]]) "
   ]
  },
  {
   "cell_type": "code",
   "execution_count": 43,
   "metadata": {},
   "outputs": [
    {
     "data": {
      "text/plain": [
       "tensor([0, 0, 0,  ..., 9, 9, 9])"
      ]
     },
     "execution_count": 43,
     "metadata": {},
     "output_type": "execute_result"
    }
   ],
   "source": [
    "t[0].y"
   ]
  },
  {
   "cell_type": "code",
   "execution_count": 41,
   "metadata": {},
   "outputs": [
    {
     "data": {
      "text/plain": [
       "tensor([   0,    1,    2,  ..., 3989, 3990, 3991])"
      ]
     },
     "execution_count": 41,
     "metadata": {},
     "output_type": "execute_result"
    }
   ],
   "source": [
    "t[1]['y']"
   ]
  },
  {
   "cell_type": "code",
   "execution_count": 54,
   "metadata": {},
   "outputs": [],
   "source": [
    "#pos = torch.empty(0, 3, dtype=torch.float)\n",
    "#y = torch.tensor([])\n",
    "#split = torch.tensor([])\n",
    "data_list = []\n",
    "\n",
    "for data in train_dataset:\n",
    "    \n",
    "    midpoints, means, medians, centers = get_splits(data)\n",
    "    blocks = create_blocks(data, medians)\n",
    "    \n",
    "    for b1, b2 in itertools.permutations(range(8), 2):\n",
    "        \n",
    "        #batch_1 = Data(pos=blocks[b1])\n",
    "        #batch_2 = Data(pos=blocks[b2])\n",
    "        \n",
    "        split = blocks[b1].shape[0]\n",
    "        pos = torch.cat([blocks[b1], blocks[b2]])\n",
    "        y = torch.tensor([b2])\n",
    "        data_list.append(Data(pos=pos, y=y, split=split))\n",
    "        \n",
    "        #block_train_examples.append([blocks[b1], blocks[b2]])\n",
    "        #block_train_targets.append(blocks[b2].y)\n",
    "        \n",
    "        #block_train_dataset.append((batch_1, batch_2, torch.tensor([b2])))\n",
    "    \n",
    "#torch.save(block_train_dataset, 'data/ModelNet10/blocked/training.pt')"
   ]
  },
  {
   "cell_type": "code",
   "execution_count": 58,
   "metadata": {},
   "outputs": [],
   "source": [
    "from itertools import repeat, product"
   ]
  },
  {
   "cell_type": "code",
   "execution_count": 59,
   "metadata": {},
   "outputs": [],
   "source": [
    "keys = data_list[0].keys\n",
    "data = data_list[0].__class__()\n",
    "\n",
    "for key in keys:\n",
    "    data[key] = []\n",
    "slices = {key: [0] for key in keys}\n",
    "\n",
    "for item, key in product(data_list, keys):\n",
    "    data[key].append(item[key])\n",
    "    if torch.is_tensor(item[key]):\n",
    "        s = slices[key][-1] + item[key].size(\n",
    "            item.__cat_dim__(key, item[key]))\n",
    "    elif isinstance(item[key], int) or isinstance(item[key], float):\n",
    "        s = slices[key][-1] + 1\n",
    "    else:\n",
    "        raise ValueError('Unsupported attribute type')\n",
    "    slices[key].append(s)\n",
    "\n",
    "if hasattr(data_list[0], '__num_nodes__'):\n",
    "    data.__num_nodes__ = []\n",
    "    for item in data_list:\n",
    "        data.__num_nodes__.append(item.num_nodes)\n",
    "\n",
    "for key in keys:\n",
    "    if torch.is_tensor(data_list[0][key]):\n",
    "        data[key] = torch.cat(\n",
    "            data[key], dim=data.__cat_dim__(key, data_list[0][key]))\n",
    "    else:\n",
    "        data[key] = torch.tensor(data[key])\n",
    "    slices[key] = torch.tensor(slices[key], dtype=torch.long)\n",
    "\n",
    "#return data, slices"
   ]
  },
  {
   "cell_type": "code",
   "execution_count": 62,
   "metadata": {},
   "outputs": [],
   "source": [
    "torch.save((data, slices), 'data/ModelNet10/blocked/training.pt')"
   ]
  },
  {
   "cell_type": "code",
   "execution_count": null,
   "metadata": {},
   "outputs": [],
   "source": []
  },
  {
   "cell_type": "code",
   "execution_count": 33,
   "metadata": {},
   "outputs": [],
   "source": []
  },
  {
   "cell_type": "code",
   "execution_count": 38,
   "metadata": {},
   "outputs": [
    {
     "data": {
      "text/plain": [
       "(torch.Size([945, 3]), torch.Size([1096, 3]))"
      ]
     },
     "execution_count": 38,
     "metadata": {},
     "output_type": "execute_result"
    }
   ],
   "source": [
    "d.pos[:d.split].shape, d.pos[d.split:].shape"
   ]
  },
  {
   "cell_type": "code",
   "execution_count": 39,
   "metadata": {},
   "outputs": [
    {
     "data": {
      "text/plain": [
       "(torch.Size([945, 3]), torch.Size([1096, 3]))"
      ]
     },
     "execution_count": 39,
     "metadata": {},
     "output_type": "execute_result"
    }
   ],
   "source": [
    "blocks[b1].shape, blocks[b2].shape"
   ]
  },
  {
   "cell_type": "code",
   "execution_count": 4,
   "metadata": {},
   "outputs": [],
   "source": [
    "block_train_dataset = torch.load('data/ModelNet10/blocked/training.pt')"
   ]
  },
  {
   "cell_type": "code",
   "execution_count": 63,
   "metadata": {},
   "outputs": [],
   "source": []
  },
  {
   "cell_type": "code",
   "execution_count": 112,
   "metadata": {},
   "outputs": [],
   "source": [
    "def BlockTrainDataloader(block_train_dataset, batch_size):\n",
    "    \n",
    "    batch_number = 1\n",
    "    n_examples = len(block_train_dataset)\n",
    "    max_batches = np.ceil(n_examples / batch_size)\n",
    "    equal_batches = n_examples % batch_size\n",
    "    if equal_batches:\n",
    "        max_batches += 1\n",
    "\n",
    "    while batch_number < max_batches:\n",
    "        \n",
    "        block_train_dataloader = []\n",
    "        batch_number += 1\n",
    "        \n",
    "        for i in range(0, len(block_train_dataset), batch_size):\n",
    "\n",
    "            batch = block_train_dataset[i:i+16]\n",
    "\n",
    "            for j, data in enumerate(batch):\n",
    "\n",
    "                batch_1 = Batch(torch.tensor([i] * data[0].pos.shape[0]), pos=data[0].pos)\n",
    "                batch_2 = Batch(torch.tensor([i] * data[1].pos.shape[0]), pos=data[1].pos)\n",
    "                block_train_dataloader.append((batch_1, batch_2, data[2]))\n",
    "                \n",
    "        yield block_train_dataloader\n",
    "        \n",
    "    if not equal_batches:\n",
    "        \n",
    "        block_train_dataloader = []\n",
    "        batch = block_train_dataset[i:]\n",
    "\n",
    "        for j, data in enumerate(batch):\n",
    "\n",
    "            batch_1 = Batch(torch.tensor([i] * data[0].pos.shape[0]), pos=data[0].pos)\n",
    "            batch_2 = Batch(torch.tensor([i] * data[1].pos.shape[0]), pos=data[1].pos)\n",
    "            block_train_dataloader.append((batch_1, batch_2, data[2]))\n",
    "            \n",
    "        yield block_train_dataloader\n",
    "        \n",
    "    batch_number = 1"
   ]
  },
  {
   "cell_type": "code",
   "execution_count": 113,
   "metadata": {},
   "outputs": [],
   "source": [
    "block_train_dataloader = BlockTrainDataloader(block_train_dataset, 16)"
   ]
  },
  {
   "cell_type": "code",
   "execution_count": 115,
   "metadata": {},
   "outputs": [],
   "source": [
    "a = next(block_train_dataloader)"
   ]
  },
  {
   "cell_type": "code",
   "execution_count": null,
   "metadata": {},
   "outputs": [],
   "source": []
  },
  {
   "cell_type": "code",
   "execution_count": null,
   "metadata": {},
   "outputs": [],
   "source": []
  },
  {
   "cell_type": "code",
   "execution_count": 102,
   "metadata": {},
   "outputs": [
    {
     "data": {
      "text/plain": [
       "8"
      ]
     },
     "execution_count": 102,
     "metadata": {},
     "output_type": "execute_result"
    }
   ],
   "source": [
    "len(block_train_dataset) % 16"
   ]
  },
  {
   "cell_type": "code",
   "execution_count": 93,
   "metadata": {},
   "outputs": [
    {
     "data": {
      "text/plain": [
       "223496"
      ]
     },
     "execution_count": 93,
     "metadata": {},
     "output_type": "execute_result"
    }
   ],
   "source": [
    "len(block_train_dataset)"
   ]
  },
  {
   "cell_type": "code",
   "execution_count": 105,
   "metadata": {},
   "outputs": [
    {
     "data": {
      "text/plain": [
       "True"
      ]
     },
     "execution_count": 105,
     "metadata": {},
     "output_type": "execute_result"
    }
   ],
   "source": [
    "32 % 16 == 0"
   ]
  },
  {
   "cell_type": "code",
   "execution_count": 82,
   "metadata": {},
   "outputs": [
    {
     "data": {
      "text/plain": [
       "(Data(pos=[1016, 3]), Data(pos=[1012, 3]), tensor([1]))"
      ]
     },
     "execution_count": 82,
     "metadata": {},
     "output_type": "execute_result"
    }
   ],
   "source": [
    "block_train_dataset[0]"
   ]
  },
  {
   "cell_type": "code",
   "execution_count": 80,
   "metadata": {},
   "outputs": [
    {
     "data": {
      "text/plain": [
       "Data(pos=[1016, 3])"
      ]
     },
     "execution_count": 80,
     "metadata": {},
     "output_type": "execute_result"
    }
   ],
   "source": [
    "block_train_dataset[0][0]"
   ]
  },
  {
   "cell_type": "code",
   "execution_count": 77,
   "metadata": {},
   "outputs": [],
   "source": [
    "Batch?"
   ]
  },
  {
   "cell_type": "code",
   "execution_count": 53,
   "metadata": {},
   "outputs": [
    {
     "name": "stdout",
     "output_type": "stream",
     "text": [
      "torch.Size([1, 1024])\n"
     ]
    },
    {
     "ename": "AttributeError",
     "evalue": "'NoneType' object has no attribute 'size'",
     "output_type": "error",
     "traceback": [
      "\u001b[0;31m---------------------------------------------------------------------------\u001b[0m",
      "\u001b[0;31mAttributeError\u001b[0m                            Traceback (most recent call last)",
      "\u001b[0;32m<ipython-input-53-c14f9ddf640b>\u001b[0m in \u001b[0;36m<module>\u001b[0;34m\u001b[0m\n\u001b[1;32m     12\u001b[0m     \u001b[0;32mpass\u001b[0m\u001b[0;34m\u001b[0m\u001b[0;34m\u001b[0m\u001b[0m\n\u001b[1;32m     13\u001b[0m \u001b[0;34m\u001b[0m\u001b[0m\n\u001b[0;32m---> 14\u001b[0;31m \u001b[0mloss\u001b[0m \u001b[0;34m=\u001b[0m \u001b[0mF\u001b[0m\u001b[0;34m.\u001b[0m\u001b[0mnll_loss\u001b[0m\u001b[0;34m(\u001b[0m\u001b[0my_hat\u001b[0m\u001b[0;34m,\u001b[0m \u001b[0mdata_2\u001b[0m\u001b[0;34m.\u001b[0m\u001b[0my\u001b[0m\u001b[0;34m)\u001b[0m\u001b[0;34m\u001b[0m\u001b[0;34m\u001b[0m\u001b[0m\n\u001b[0m\u001b[1;32m     15\u001b[0m \u001b[0mloss\u001b[0m\u001b[0;34m.\u001b[0m\u001b[0mbackward\u001b[0m\u001b[0;34m(\u001b[0m\u001b[0;34m)\u001b[0m\u001b[0;34m\u001b[0m\u001b[0;34m\u001b[0m\u001b[0m\n\u001b[1;32m     16\u001b[0m \u001b[0moptimizer\u001b[0m\u001b[0;34m.\u001b[0m\u001b[0mstep\u001b[0m\u001b[0;34m(\u001b[0m\u001b[0;34m)\u001b[0m\u001b[0;34m\u001b[0m\u001b[0;34m\u001b[0m\u001b[0m\n",
      "\u001b[0;32m~/.conda/envs/3d_context/lib/python3.6/site-packages/torch/nn/functional.py\u001b[0m in \u001b[0;36mnll_loss\u001b[0;34m(input, target, weight, size_average, ignore_index, reduce, reduction)\u001b[0m\n\u001b[1;32m   1818\u001b[0m         \u001b[0;32mraise\u001b[0m \u001b[0mValueError\u001b[0m\u001b[0;34m(\u001b[0m\u001b[0;34m'Expected 2 or more dimensions (got {})'\u001b[0m\u001b[0;34m.\u001b[0m\u001b[0mformat\u001b[0m\u001b[0;34m(\u001b[0m\u001b[0mdim\u001b[0m\u001b[0;34m)\u001b[0m\u001b[0;34m)\u001b[0m\u001b[0;34m\u001b[0m\u001b[0;34m\u001b[0m\u001b[0m\n\u001b[1;32m   1819\u001b[0m \u001b[0;34m\u001b[0m\u001b[0m\n\u001b[0;32m-> 1820\u001b[0;31m     \u001b[0;32mif\u001b[0m \u001b[0minput\u001b[0m\u001b[0;34m.\u001b[0m\u001b[0msize\u001b[0m\u001b[0;34m(\u001b[0m\u001b[0;36m0\u001b[0m\u001b[0;34m)\u001b[0m \u001b[0;34m!=\u001b[0m \u001b[0mtarget\u001b[0m\u001b[0;34m.\u001b[0m\u001b[0msize\u001b[0m\u001b[0;34m(\u001b[0m\u001b[0;36m0\u001b[0m\u001b[0;34m)\u001b[0m\u001b[0;34m:\u001b[0m\u001b[0;34m\u001b[0m\u001b[0;34m\u001b[0m\u001b[0m\n\u001b[0m\u001b[1;32m   1821\u001b[0m         raise ValueError('Expected input batch_size ({}) to match target batch_size ({}).'\n\u001b[1;32m   1822\u001b[0m                          .format(input.size(0), target.size(0)))\n",
      "\u001b[0;31mAttributeError\u001b[0m: 'NoneType' object has no attribute 'size'"
     ]
    }
   ],
   "source": [
    "data_1, data_2, y = block_train_dataset[0]\n",
    "\n",
    "data_1 = data_1.to(device)\n",
    "data_2 = data_2.to(device)\n",
    "y = y.to(device)\n",
    "\n",
    "optimizer.zero_grad()"
   ]
  },
  {
   "cell_type": "code",
   "execution_count": 56,
   "metadata": {},
   "outputs": [
    {
     "name": "stdout",
     "output_type": "stream",
     "text": [
      "torch.Size([1, 1024])\n"
     ]
    }
   ],
   "source": [
    "y_hat = model(data_1, data_2)\n",
    "\n",
    "loss = F.nll_loss(y_hat, y)\n",
    "loss.backward()\n",
    "optimizer.step()"
   ]
  },
  {
   "cell_type": "code",
   "execution_count": 57,
   "metadata": {},
   "outputs": [
    {
     "data": {
      "text/plain": [
       "tensor(3.1105, device='cuda:0', grad_fn=<NllLossBackward>)"
      ]
     },
     "execution_count": 57,
     "metadata": {},
     "output_type": "execute_result"
    }
   ],
   "source": [
    "loss"
   ]
  },
  {
   "cell_type": "code",
   "execution_count": null,
   "metadata": {},
   "outputs": [],
   "source": []
  },
  {
   "cell_type": "code",
   "execution_count": 55,
   "metadata": {},
   "outputs": [
    {
     "data": {
      "text/plain": [
       "Batch(batch=[1052], pos=[1052, 3])"
      ]
     },
     "execution_count": 55,
     "metadata": {},
     "output_type": "execute_result"
    }
   ],
   "source": [
    "data_2"
   ]
  },
  {
   "cell_type": "code",
   "execution_count": 9,
   "metadata": {},
   "outputs": [],
   "source": [
    "sa0_out1 = (data_1.x, data_1.pos, data_1.batch)\n",
    "sa1_out1 = model.sa1_module(*sa0_out1)\n",
    "sa2_out1 = model.sa2_module(*sa1_out1)\n",
    "sa3_out1 = model.sa3_module(*sa2_out1)\n",
    "x1, pos1, batch1 = sa3_out1"
   ]
  },
  {
   "cell_type": "code",
   "execution_count": 44,
   "metadata": {},
   "outputs": [
    {
     "data": {
      "text/plain": [
       "(tensor([[0.0000, 0.0000, 0.0000,  ..., 0.0000, 0.0000, 0.0000],\n",
       "         [3.7634, 5.0338, 6.6846,  ..., 3.6323, 4.4245, 3.3927]],\n",
       "        device='cuda:0', grad_fn=<IndexPutBackward>), tensor([[0., 0., 0.],\n",
       "         [0., 0., 0.]], device='cuda:0'), tensor([0, 1], device='cuda:0'))"
      ]
     },
     "execution_count": 44,
     "metadata": {},
     "output_type": "execute_result"
    }
   ],
   "source": [
    "sa3_out1"
   ]
  },
  {
   "cell_type": "code",
   "execution_count": null,
   "metadata": {},
   "outputs": [],
   "source": []
  },
  {
   "cell_type": "code",
   "execution_count": 43,
   "metadata": {},
   "outputs": [
    {
     "data": {
      "text/plain": [
       "tensor([[ 0.0000,  0.0000,  0.0000,  0.0000,  0.0000,  0.0000,  0.0000,  0.0000,\n",
       "          0.0000,  0.0000,  0.0000,  0.0000,  0.0000,  0.0000,  0.0000,  0.0000,\n",
       "          0.0000,  0.0000,  0.0000,  0.0000,  0.0000,  0.0000,  0.0000,  0.0000,\n",
       "          0.0000,  0.0000,  0.0000,  0.0000,  0.0000,  0.0000,  0.0000,  0.0000,\n",
       "          0.0000,  0.0000,  0.0000,  0.0000,  0.0000,  0.0000,  0.0000,  0.0000,\n",
       "          0.0000,  0.0000,  0.0000,  0.0000,  0.0000,  0.0000,  0.0000,  0.0000,\n",
       "          0.0000,  0.0000,  0.0000,  0.0000,  0.0000,  0.0000,  0.0000,  0.0000,\n",
       "          0.0000,  0.0000,  0.0000,  0.0000,  0.0000,  0.0000,  0.0000,  0.0000,\n",
       "          0.0000,  0.0000,  0.0000,  0.0000,  0.0000,  0.0000,  0.0000,  0.0000,\n",
       "          0.0000,  0.0000,  0.0000,  0.0000,  0.0000,  0.0000,  0.0000,  0.0000,\n",
       "          0.0000,  0.0000,  0.0000,  0.0000,  0.0000,  0.0000,  0.0000,  0.0000,\n",
       "          0.0000,  0.0000,  0.0000,  0.0000,  0.0000,  0.0000,  0.0000,  0.0000,\n",
       "          0.0000,  0.0000,  0.0000,  0.0000,  0.0000,  0.0000,  0.0000,  0.0000,\n",
       "          0.0000,  0.0000,  0.0000,  0.0000,  0.0000,  0.0000,  0.0000,  0.0000,\n",
       "          0.0000,  0.0000,  0.0000,  0.0000,  0.0000,  0.0000,  0.0000,  0.0000,\n",
       "          0.0000,  0.0000,  0.0000,  0.0000,  0.0000,  0.0000,  0.0000,  0.0000,\n",
       "          0.0000,  0.0000,  0.0000,  0.0000,  0.0000,  0.0000,  0.0000,  0.0000,\n",
       "          0.0000,  0.0000,  0.0000,  0.0000,  0.0000,  0.0000,  0.0000,  0.0000,\n",
       "          0.0000,  0.0000,  0.0000,  0.0000,  0.0000,  0.0000,  0.0000,  0.0000,\n",
       "          0.0000,  0.0000,  0.0000,  0.0000,  0.0000,  0.0000,  0.0000,  0.0000,\n",
       "          0.0000,  0.0000,  0.0000,  0.0000,  0.0000,  0.0000,  0.0000,  0.0000,\n",
       "          0.0000,  0.0000,  0.0000,  0.0000,  0.0000,  0.0000,  0.0000,  0.0000,\n",
       "          0.0000,  0.0000,  0.0000,  0.0000,  0.0000,  0.0000,  0.0000,  0.0000,\n",
       "          0.0000,  0.0000,  0.0000,  0.0000,  0.0000,  0.0000,  0.0000,  0.0000,\n",
       "          0.0000,  0.0000,  0.0000,  0.0000,  0.0000,  0.0000,  0.0000,  0.0000,\n",
       "          0.0000,  0.0000,  0.0000,  0.0000,  0.0000,  0.0000,  0.0000,  0.0000,\n",
       "          0.0000,  0.0000,  0.0000,  0.0000,  0.0000,  0.0000,  0.0000,  0.0000,\n",
       "          0.0000,  0.0000,  0.0000,  0.0000,  0.0000,  0.0000,  0.0000,  0.0000,\n",
       "          0.0000,  0.0000,  0.0000,  0.0000,  0.0000,  0.0000,  0.0000,  0.0000,\n",
       "          0.0000,  0.0000,  0.0000,  0.0000,  0.0000,  0.0000,  0.0000,  0.0000,\n",
       "          0.0000,  0.0000,  0.0000,  0.0000,  0.0000,  0.0000,  0.0000,  0.0000,\n",
       "          0.0000,  0.0000,  0.0000,  0.0000,  0.0000,  0.0000,  0.0000,  0.0000,\n",
       "          0.0000,  0.0000,  0.0000],\n",
       "        [ 5.0544,  4.4166,  4.7862,  6.4660,  3.9919,  5.9743,  5.6735,  8.7832,\n",
       "          4.2284,  5.0701,  4.0740,  5.9483,  4.6093,  4.6465,  5.1821,  5.6461,\n",
       "          4.7796,  4.6996,  4.7396,  5.8126,  3.8809,  5.1849,  5.2053,  5.5677,\n",
       "          9.1066,  5.6431,  4.6211,  4.5044,  6.4692,  7.9722,  5.0568,  4.8694,\n",
       "          5.8129,  4.5420,  5.9280,  4.4273,  5.1005,  4.7214,  7.9613,  4.9455,\n",
       "          5.1368,  4.0678,  4.0442,  5.7409,  4.0428,  5.1384,  6.1127,  6.6325,\n",
       "          4.0950,  5.4632,  5.2636,  3.6941,  4.9017,  5.2126,  5.0967,  5.1880,\n",
       "          6.2343,  6.1220,  7.3183,  5.3041,  6.0436,  5.1732,  4.5954,  5.0825,\n",
       "          3.6330,  4.3739,  5.3529,  4.1301,  3.7272,  4.4624,  3.4638,  4.4037,\n",
       "          5.5150,  3.8685,  5.1490,  6.4887,  5.7039,  3.5207,  6.3573,  4.4702,\n",
       "          6.2557,  4.0571, 10.3037,  4.0765,  5.6506,  4.8364, 10.9273,  4.2257,\n",
       "          5.6403,  4.1199,  6.7538,  5.1956,  9.2722,  4.9271,  6.8589,  3.9429,\n",
       "          3.8885,  5.1503,  4.8601,  6.4866,  4.5426,  6.1460,  3.9532,  4.2799,\n",
       "          4.7701,  4.3041,  4.4202,  3.4958,  8.6094,  4.2556,  8.7346,  8.1152,\n",
       "          4.1838,  5.9772,  4.0265,  3.5683,  4.1478,  4.7700,  5.4771,  5.0105,\n",
       "          4.1715,  4.2570,  3.5303,  4.8449,  5.4784,  3.4413,  4.8501,  4.2061,\n",
       "          3.9654,  3.9546,  5.0960,  5.6620,  5.2521,  4.9746,  4.3618,  6.5327,\n",
       "          4.1463,  5.3068,  7.7935,  4.8148,  4.6244,  6.2663,  7.2201,  3.6386,\n",
       "          4.1975,  5.0404,  5.0442,  5.0280,  4.4703,  4.9047,  5.3458,  6.2387,\n",
       "          6.3902,  5.4027,  7.2732,  5.5736,  4.6277,  4.8817,  3.9321,  4.6497,\n",
       "          5.2415,  5.4664,  3.6851,  5.9145,  5.8239,  4.4337,  4.1101,  4.5720,\n",
       "          6.3929,  9.2199,  5.2198,  4.7846,  6.2454,  4.0542,  3.8854,  6.6432,\n",
       "          5.1656,  3.7205,  6.5507,  5.3902,  5.3675,  5.1352,  5.5447,  5.2913,\n",
       "          4.8037,  5.2896,  4.6449,  5.3691,  4.5185,  7.0326,  4.0401,  5.1586,\n",
       "          4.6276,  5.4326,  6.0221,  5.6619,  3.9739,  6.4700,  5.6475,  4.4272,\n",
       "          4.0904,  5.0561,  5.5360, 11.0021,  6.2892,  5.2532,  5.2735,  9.2993,\n",
       "          7.0213,  3.8706,  9.4090,  6.7769,  5.5626,  6.9543,  8.6739, 10.5921,\n",
       "          5.1379,  5.1581,  5.4644,  6.7621,  6.8491,  5.8432,  3.4857,  6.5564,\n",
       "          5.0402,  6.2576,  6.4782,  5.3117,  6.0158,  4.1091,  5.5001,  4.1763,\n",
       "          5.9582,  4.2598,  4.0670,  4.0814,  4.4480,  3.8204,  6.1669,  4.9193,\n",
       "          4.1981,  4.3126,  6.9110,  4.2179,  4.6997,  5.3921,  3.3668,  7.6606,\n",
       "          4.4771,  5.2890,  5.3424,  5.5118,  8.7788,  4.3596,  4.9871,  5.0117,\n",
       "          1.9001,  1.7474,  2.1488]], device='cuda:0',\n",
       "       grad_fn=<IndexPutBackward>)"
      ]
     },
     "execution_count": 43,
     "metadata": {},
     "output_type": "execute_result"
    }
   ],
   "source": [
    "global_max_pool(torch.cat([sa2_out1[0], sa2_out1[1]], dim=1), sa2_out1[2])"
   ]
  },
  {
   "cell_type": "code",
   "execution_count": 39,
   "metadata": {},
   "outputs": [
    {
     "data": {
      "text/plain": [
       "torch.Size([132, 3])"
      ]
     },
     "execution_count": 39,
     "metadata": {},
     "output_type": "execute_result"
    }
   ],
   "source": [
    "sa2_out1[1].shape"
   ]
  },
  {
   "cell_type": "code",
   "execution_count": 40,
   "metadata": {},
   "outputs": [
    {
     "data": {
      "text/plain": [
       "torch.Size([132])"
      ]
     },
     "execution_count": 40,
     "metadata": {},
     "output_type": "execute_result"
    }
   ],
   "source": [
    "sa2_out1[2].shape"
   ]
  },
  {
   "cell_type": "code",
   "execution_count": 28,
   "metadata": {
    "scrolled": true
   },
   "outputs": [],
   "source": []
  },
  {
   "cell_type": "code",
   "execution_count": 32,
   "metadata": {},
   "outputs": [
    {
     "data": {
      "text/plain": [
       "6"
      ]
     },
     "execution_count": 32,
     "metadata": {},
     "output_type": "execute_result"
    }
   ],
   "source": [
    "train_loader"
   ]
  },
  {
   "cell_type": "code",
   "execution_count": 7,
   "metadata": {},
   "outputs": [
    {
     "ename": "AttributeError",
     "evalue": "'NoneType' object has no attribute 'size'",
     "output_type": "error",
     "traceback": [
      "\u001b[0;31m---------------------------------------------------------------------------\u001b[0m",
      "\u001b[0;31mAttributeError\u001b[0m                            Traceback (most recent call last)",
      "\u001b[0;32m<ipython-input-7-a0be1c17c5b0>\u001b[0m in \u001b[0;36m<module>\u001b[0;34m\u001b[0m\n\u001b[0;32m----> 1\u001b[0;31m \u001b[0mtrain_dataset\u001b[0m\u001b[0;34m[\u001b[0m\u001b[0;36m0\u001b[0m\u001b[0;34m]\u001b[0m\u001b[0;34m\u001b[0m\u001b[0;34m\u001b[0m\u001b[0m\n\u001b[0m",
      "\u001b[0;32m~/Documents/MS/2019-08/cs8803ls/project/pytorch_geometric/torch_geometric/data/in_memory_dataset.py\u001b[0m in \u001b[0;36m__getitem__\u001b[0;34m(self, idx)\u001b[0m\n\u001b[1;32m     71\u001b[0m         \u001b[0;32mif\u001b[0m \u001b[0misinstance\u001b[0m\u001b[0;34m(\u001b[0m\u001b[0midx\u001b[0m\u001b[0;34m,\u001b[0m \u001b[0mint\u001b[0m\u001b[0;34m)\u001b[0m\u001b[0;34m:\u001b[0m\u001b[0;34m\u001b[0m\u001b[0;34m\u001b[0m\u001b[0m\n\u001b[1;32m     72\u001b[0m             \u001b[0mdata\u001b[0m \u001b[0;34m=\u001b[0m \u001b[0mself\u001b[0m\u001b[0;34m.\u001b[0m\u001b[0mget\u001b[0m\u001b[0;34m(\u001b[0m\u001b[0midx\u001b[0m\u001b[0;34m)\u001b[0m\u001b[0;34m\u001b[0m\u001b[0;34m\u001b[0m\u001b[0m\n\u001b[0;32m---> 73\u001b[0;31m             \u001b[0mdata\u001b[0m \u001b[0;34m=\u001b[0m \u001b[0mdata\u001b[0m \u001b[0;32mif\u001b[0m \u001b[0mself\u001b[0m\u001b[0;34m.\u001b[0m\u001b[0mtransform\u001b[0m \u001b[0;32mis\u001b[0m \u001b[0;32mNone\u001b[0m \u001b[0;32melse\u001b[0m \u001b[0mself\u001b[0m\u001b[0;34m.\u001b[0m\u001b[0mtransform\u001b[0m\u001b[0;34m(\u001b[0m\u001b[0mdata\u001b[0m\u001b[0;34m)\u001b[0m\u001b[0;34m\u001b[0m\u001b[0;34m\u001b[0m\u001b[0m\n\u001b[0m\u001b[1;32m     74\u001b[0m             \u001b[0;32mreturn\u001b[0m \u001b[0mdata\u001b[0m\u001b[0;34m\u001b[0m\u001b[0;34m\u001b[0m\u001b[0m\n\u001b[1;32m     75\u001b[0m         \u001b[0;32melif\u001b[0m \u001b[0misinstance\u001b[0m\u001b[0;34m(\u001b[0m\u001b[0midx\u001b[0m\u001b[0;34m,\u001b[0m \u001b[0mslice\u001b[0m\u001b[0;34m)\u001b[0m\u001b[0;34m:\u001b[0m\u001b[0;34m\u001b[0m\u001b[0;34m\u001b[0m\u001b[0m\n",
      "\u001b[0;32m~/Documents/MS/2019-08/cs8803ls/project/pytorch_geometric/torch_geometric/transforms/sample_points.py\u001b[0m in \u001b[0;36m__call__\u001b[0;34m(self, data)\u001b[0m\n\u001b[1;32m     21\u001b[0m     \u001b[0;32mdef\u001b[0m \u001b[0m__call__\u001b[0m\u001b[0;34m(\u001b[0m\u001b[0mself\u001b[0m\u001b[0;34m,\u001b[0m \u001b[0mdata\u001b[0m\u001b[0;34m)\u001b[0m\u001b[0;34m:\u001b[0m\u001b[0;34m\u001b[0m\u001b[0;34m\u001b[0m\u001b[0m\n\u001b[1;32m     22\u001b[0m         \u001b[0mpos\u001b[0m\u001b[0;34m,\u001b[0m \u001b[0mface\u001b[0m \u001b[0;34m=\u001b[0m \u001b[0mdata\u001b[0m\u001b[0;34m.\u001b[0m\u001b[0mpos\u001b[0m\u001b[0;34m,\u001b[0m \u001b[0mdata\u001b[0m\u001b[0;34m.\u001b[0m\u001b[0mface\u001b[0m\u001b[0;34m\u001b[0m\u001b[0;34m\u001b[0m\u001b[0m\n\u001b[0;32m---> 23\u001b[0;31m         \u001b[0;32massert\u001b[0m \u001b[0mpos\u001b[0m\u001b[0;34m.\u001b[0m\u001b[0msize\u001b[0m\u001b[0;34m(\u001b[0m\u001b[0;36m1\u001b[0m\u001b[0;34m)\u001b[0m \u001b[0;34m==\u001b[0m \u001b[0;36m3\u001b[0m \u001b[0;32mand\u001b[0m \u001b[0mface\u001b[0m\u001b[0;34m.\u001b[0m\u001b[0msize\u001b[0m\u001b[0;34m(\u001b[0m\u001b[0;36m0\u001b[0m\u001b[0;34m)\u001b[0m \u001b[0;34m==\u001b[0m \u001b[0;36m3\u001b[0m\u001b[0;34m\u001b[0m\u001b[0;34m\u001b[0m\u001b[0m\n\u001b[0m\u001b[1;32m     24\u001b[0m \u001b[0;34m\u001b[0m\u001b[0m\n\u001b[1;32m     25\u001b[0m         \u001b[0mpos_max\u001b[0m \u001b[0;34m=\u001b[0m \u001b[0mpos\u001b[0m\u001b[0;34m.\u001b[0m\u001b[0mmax\u001b[0m\u001b[0;34m(\u001b[0m\u001b[0;34m)\u001b[0m\u001b[0;34m\u001b[0m\u001b[0;34m\u001b[0m\u001b[0m\n",
      "\u001b[0;31mAttributeError\u001b[0m: 'NoneType' object has no attribute 'size'"
     ]
    }
   ],
   "source": [
    "train_dataset[0]"
   ]
  },
  {
   "cell_type": "code",
   "execution_count": 6,
   "metadata": {},
   "outputs": [
    {
     "data": {
      "text/plain": [
       "Data(pos=[8192, 3], y=[1])"
      ]
     },
     "execution_count": 6,
     "metadata": {},
     "output_type": "execute_result"
    }
   ],
   "source": [
    "train_dataset[0]"
   ]
  },
  {
   "cell_type": "code",
   "execution_count": 48,
   "metadata": {},
   "outputs": [
    {
     "data": {
      "text/plain": [
       "tensor([7, 2, 6, 9, 3, 5, 9, 1, 9, 8, 1, 5, 1, 5, 2, 6])"
      ]
     },
     "execution_count": 48,
     "metadata": {},
     "output_type": "execute_result"
    }
   ],
   "source": [
    "data.y"
   ]
  },
  {
   "cell_type": "code",
   "execution_count": null,
   "metadata": {},
   "outputs": [],
   "source": []
  },
  {
   "cell_type": "code",
   "execution_count": 78,
   "metadata": {},
   "outputs": [],
   "source": []
  },
  {
   "cell_type": "code",
   "execution_count": 81,
   "metadata": {},
   "outputs": [
    {
     "ename": "ValueError",
     "evalue": "Expected input batch_size (2) to match target batch_size (1).",
     "output_type": "error",
     "traceback": [
      "\u001b[0;31m---------------------------------------------------------------------------\u001b[0m",
      "\u001b[0;31mValueError\u001b[0m                                Traceback (most recent call last)",
      "\u001b[0;32m<ipython-input-81-646620787187>\u001b[0m in \u001b[0;36m<module>\u001b[0;34m\u001b[0m\n\u001b[1;32m      1\u001b[0m \u001b[0moptimizer\u001b[0m\u001b[0;34m.\u001b[0m\u001b[0mzero_grad\u001b[0m\u001b[0;34m(\u001b[0m\u001b[0;34m)\u001b[0m\u001b[0;34m\u001b[0m\u001b[0;34m\u001b[0m\u001b[0m\n\u001b[1;32m      2\u001b[0m \u001b[0my_hat\u001b[0m \u001b[0;34m=\u001b[0m \u001b[0mmodel\u001b[0m\u001b[0;34m(\u001b[0m\u001b[0mdata_1\u001b[0m\u001b[0;34m,\u001b[0m \u001b[0mdata_2\u001b[0m\u001b[0;34m)\u001b[0m\u001b[0;34m\u001b[0m\u001b[0;34m\u001b[0m\u001b[0m\n\u001b[0;32m----> 3\u001b[0;31m \u001b[0mloss\u001b[0m \u001b[0;34m=\u001b[0m \u001b[0mF\u001b[0m\u001b[0;34m.\u001b[0m\u001b[0mnll_loss\u001b[0m\u001b[0;34m(\u001b[0m\u001b[0my_hat\u001b[0m\u001b[0;34m,\u001b[0m \u001b[0my\u001b[0m\u001b[0;34m)\u001b[0m\u001b[0;34m\u001b[0m\u001b[0;34m\u001b[0m\u001b[0m\n\u001b[0m\u001b[1;32m      4\u001b[0m \u001b[0mloss\u001b[0m\u001b[0;34m.\u001b[0m\u001b[0mbackward\u001b[0m\u001b[0;34m(\u001b[0m\u001b[0;34m)\u001b[0m\u001b[0;34m\u001b[0m\u001b[0;34m\u001b[0m\u001b[0m\n\u001b[1;32m      5\u001b[0m \u001b[0moptimizer\u001b[0m\u001b[0;34m.\u001b[0m\u001b[0mstep\u001b[0m\u001b[0;34m(\u001b[0m\u001b[0;34m)\u001b[0m\u001b[0;34m\u001b[0m\u001b[0;34m\u001b[0m\u001b[0m\n",
      "\u001b[0;32m~/.conda/envs/3d_context/lib/python3.6/site-packages/torch/nn/functional.py\u001b[0m in \u001b[0;36mnll_loss\u001b[0;34m(input, target, weight, size_average, ignore_index, reduce, reduction)\u001b[0m\n\u001b[1;32m   1820\u001b[0m     \u001b[0;32mif\u001b[0m \u001b[0minput\u001b[0m\u001b[0;34m.\u001b[0m\u001b[0msize\u001b[0m\u001b[0;34m(\u001b[0m\u001b[0;36m0\u001b[0m\u001b[0;34m)\u001b[0m \u001b[0;34m!=\u001b[0m \u001b[0mtarget\u001b[0m\u001b[0;34m.\u001b[0m\u001b[0msize\u001b[0m\u001b[0;34m(\u001b[0m\u001b[0;36m0\u001b[0m\u001b[0;34m)\u001b[0m\u001b[0;34m:\u001b[0m\u001b[0;34m\u001b[0m\u001b[0;34m\u001b[0m\u001b[0m\n\u001b[1;32m   1821\u001b[0m         raise ValueError('Expected input batch_size ({}) to match target batch_size ({}).'\n\u001b[0;32m-> 1822\u001b[0;31m                          .format(input.size(0), target.size(0)))\n\u001b[0m\u001b[1;32m   1823\u001b[0m     \u001b[0;32mif\u001b[0m \u001b[0mdim\u001b[0m \u001b[0;34m==\u001b[0m \u001b[0;36m2\u001b[0m\u001b[0;34m:\u001b[0m\u001b[0;34m\u001b[0m\u001b[0;34m\u001b[0m\u001b[0m\n\u001b[1;32m   1824\u001b[0m         \u001b[0mret\u001b[0m \u001b[0;34m=\u001b[0m \u001b[0mtorch\u001b[0m\u001b[0;34m.\u001b[0m\u001b[0m_C\u001b[0m\u001b[0;34m.\u001b[0m\u001b[0m_nn\u001b[0m\u001b[0;34m.\u001b[0m\u001b[0mnll_loss\u001b[0m\u001b[0;34m(\u001b[0m\u001b[0minput\u001b[0m\u001b[0;34m,\u001b[0m \u001b[0mtarget\u001b[0m\u001b[0;34m,\u001b[0m \u001b[0mweight\u001b[0m\u001b[0;34m,\u001b[0m \u001b[0m_Reduction\u001b[0m\u001b[0;34m.\u001b[0m\u001b[0mget_enum\u001b[0m\u001b[0;34m(\u001b[0m\u001b[0mreduction\u001b[0m\u001b[0;34m)\u001b[0m\u001b[0;34m,\u001b[0m \u001b[0mignore_index\u001b[0m\u001b[0;34m)\u001b[0m\u001b[0;34m\u001b[0m\u001b[0;34m\u001b[0m\u001b[0m\n",
      "\u001b[0;31mValueError\u001b[0m: Expected input batch_size (2) to match target batch_size (1)."
     ]
    }
   ],
   "source": []
  },
  {
   "cell_type": "code",
   "execution_count": 82,
   "metadata": {},
   "outputs": [
    {
     "data": {
      "text/plain": [
       "tensor([[-2.2615, -2.2850, -2.2871, -2.2345, -2.3129, -2.3099, -2.2626, -2.3198,\n",
       "         -2.3950, -2.3684],\n",
       "        [-2.0658, -4.1750, -2.1967, -2.8469, -0.5280, -3.9412, -4.1013, -3.8438,\n",
       "         -4.8568, -3.3877]], device='cuda:0', grad_fn=<LogSoftmaxBackward>)"
      ]
     },
     "execution_count": 82,
     "metadata": {},
     "output_type": "execute_result"
    }
   ],
   "source": [
    "y_hat"
   ]
  },
  {
   "cell_type": "code",
   "execution_count": 86,
   "metadata": {},
   "outputs": [
    {
     "data": {
      "text/plain": [
       "tensor([1], device='cuda:0')"
      ]
     },
     "execution_count": 86,
     "metadata": {},
     "output_type": "execute_result"
    }
   ],
   "source": [
    "y"
   ]
  },
  {
   "cell_type": "code",
   "execution_count": null,
   "metadata": {},
   "outputs": [],
   "source": []
  },
  {
   "cell_type": "code",
   "execution_count": 65,
   "metadata": {},
   "outputs": [],
   "source": [
    "btd = torch.load('data/ModelNet10/blocked/training.pt')"
   ]
  },
  {
   "cell_type": "code",
   "execution_count": 67,
   "metadata": {},
   "outputs": [
    {
     "data": {
      "text/plain": [
       "tensor([2, 2, 2])"
      ]
     },
     "execution_count": 67,
     "metadata": {},
     "output_type": "execute_result"
    }
   ],
   "source": [
    "torch.tensor([2]*3)"
   ]
  },
  {
   "cell_type": "code",
   "execution_count": 70,
   "metadata": {},
   "outputs": [
    {
     "data": {
      "text/plain": [
       "8192"
      ]
     },
     "execution_count": 70,
     "metadata": {},
     "output_type": "execute_result"
    }
   ],
   "source": [
    "data.pos.shape[0]"
   ]
  },
  {
   "cell_type": "code",
   "execution_count": 73,
   "metadata": {},
   "outputs": [
    {
     "data": {
      "text/plain": [
       "1030"
      ]
     },
     "execution_count": 73,
     "metadata": {},
     "output_type": "execute_result"
    }
   ],
   "source": [
    "btd[0][0].shape[0]"
   ]
  },
  {
   "cell_type": "code",
   "execution_count": 16,
   "metadata": {},
   "outputs": [],
   "source": [
    "block_test_dataset = []\n",
    "\n",
    "for data in test_dataset:\n",
    "    \n",
    "    midpoints, means, medians, centers = get_splits(data)\n",
    "    blocks = create_blocks(data, medians)\n",
    "    \n",
    "    for b1, b2 in itertools.permutations(range(8), 2):\n",
    "        \n",
    "        \n",
    "    \n",
    "    block_test_dataset.append(blocks)\n",
    "    \n",
    "    \n",
    "    \n",
    "torch.save(block_test_dataset, 'data/ModelNet10/blocked/test.pt')"
   ]
  },
  {
   "cell_type": "code",
   "execution_count": 58,
   "metadata": {},
   "outputs": [],
   "source": [
    "import itertools"
   ]
  },
  {
   "cell_type": "code",
   "execution_count": 60,
   "metadata": {},
   "outputs": [
    {
     "data": {
      "text/plain": [
       "[(0, 1),\n",
       " (0, 2),\n",
       " (0, 3),\n",
       " (0, 4),\n",
       " (0, 5),\n",
       " (0, 6),\n",
       " (0, 7),\n",
       " (1, 0),\n",
       " (1, 2),\n",
       " (1, 3),\n",
       " (1, 4),\n",
       " (1, 5),\n",
       " (1, 6),\n",
       " (1, 7),\n",
       " (2, 0),\n",
       " (2, 1),\n",
       " (2, 3),\n",
       " (2, 4),\n",
       " (2, 5),\n",
       " (2, 6),\n",
       " (2, 7),\n",
       " (3, 0),\n",
       " (3, 1),\n",
       " (3, 2),\n",
       " (3, 4),\n",
       " (3, 5),\n",
       " (3, 6),\n",
       " (3, 7),\n",
       " (4, 0),\n",
       " (4, 1),\n",
       " (4, 2),\n",
       " (4, 3),\n",
       " (4, 5),\n",
       " (4, 6),\n",
       " (4, 7),\n",
       " (5, 0),\n",
       " (5, 1),\n",
       " (5, 2),\n",
       " (5, 3),\n",
       " (5, 4),\n",
       " (5, 6),\n",
       " (5, 7),\n",
       " (6, 0),\n",
       " (6, 1),\n",
       " (6, 2),\n",
       " (6, 3),\n",
       " (6, 4),\n",
       " (6, 5),\n",
       " (6, 7),\n",
       " (7, 0),\n",
       " (7, 1),\n",
       " (7, 2),\n",
       " (7, 3),\n",
       " (7, 4),\n",
       " (7, 5),\n",
       " (7, 6)]"
      ]
     },
     "execution_count": 60,
     "metadata": {},
     "output_type": "execute_result"
    }
   ],
   "source": [
    "list(itertools.permutations(range(8), 2))"
   ]
  },
  {
   "cell_type": "code",
   "execution_count": 48,
   "metadata": {},
   "outputs": [
    {
     "name": "stdout",
     "output_type": "stream",
     "text": [
      "torch.Size([1218, 3])\n",
      "torch.Size([844, 3])\n",
      "torch.Size([927, 3])\n",
      "torch.Size([1107, 3])\n",
      "torch.Size([1320, 3])\n",
      "torch.Size([714, 3])\n",
      "torch.Size([941, 3])\n"
     ]
    }
   ],
   "source": [
    "for i in range(7):\n",
    "    print(blocks[i].shape)"
   ]
  },
  {
   "cell_type": "code",
   "execution_count": 54,
   "metadata": {},
   "outputs": [
    {
     "data": {
      "text/plain": [
       "{'y': tensor([   0,    1,    2,  ..., 3989, 3990, 3991]),\n",
       " 'pos': tensor([       0,     9278,    25066,  ..., 39497578, 39499106, 39500869]),\n",
       " 'face': tensor([       0,     6940,    32538,  ..., 42588788, 42590248, 42591830])}"
      ]
     },
     "execution_count": 54,
     "metadata": {},
     "output_type": "execute_result"
    }
   ],
   "source": [
    "train_dataset."
   ]
  },
  {
   "cell_type": "code",
   "execution_count": 45,
   "metadata": {},
   "outputs": [
    {
     "data": {
      "text/plain": [
       "ModelNet10(3991)"
      ]
     },
     "execution_count": 45,
     "metadata": {},
     "output_type": "execute_result"
    }
   ],
   "source": [
    "train_dataset"
   ]
  },
  {
   "cell_type": "code",
   "execution_count": 19,
   "metadata": {},
   "outputs": [],
   "source": [
    "from itertools import repeat, product"
   ]
  },
  {
   "cell_type": "code",
   "execution_count": 17,
   "metadata": {},
   "outputs": [],
   "source": [
    "data_list = [data, data]"
   ]
  },
  {
   "cell_type": "code",
   "execution_count": 15,
   "metadata": {},
   "outputs": [],
   "source": [
    "keys = data.keys\n",
    "data = data.__class__()"
   ]
  },
  {
   "cell_type": "code",
   "execution_count": 22,
   "metadata": {},
   "outputs": [],
   "source": [
    "for key in keys:\n",
    "    data[key] = []\n",
    "slices = {key: [0] for key in keys}"
   ]
  },
  {
   "cell_type": "code",
   "execution_count": 24,
   "metadata": {},
   "outputs": [
    {
     "ename": "ValueError",
     "evalue": "Unsupported",
     "output_type": "error",
     "traceback": [
      "\u001b[0;31m---------------------------------------------------------------------------\u001b[0m",
      "\u001b[0;31mValueError\u001b[0m                                Traceback (most recent call last)",
      "\u001b[0;32m<ipython-input-24-a03a80f0a70c>\u001b[0m in \u001b[0;36m<module>\u001b[0;34m\u001b[0m\n\u001b[1;32m      6\u001b[0m         \u001b[0ms\u001b[0m \u001b[0;34m=\u001b[0m \u001b[0mslices\u001b[0m\u001b[0;34m[\u001b[0m\u001b[0mkey\u001b[0m\u001b[0;34m]\u001b[0m\u001b[0;34m[\u001b[0m\u001b[0;34m-\u001b[0m\u001b[0;36m1\u001b[0m\u001b[0;34m]\u001b[0m \u001b[0;34m+\u001b[0m \u001b[0;36m1\u001b[0m\u001b[0;34m\u001b[0m\u001b[0;34m\u001b[0m\u001b[0m\n\u001b[1;32m      7\u001b[0m     \u001b[0;32melse\u001b[0m\u001b[0;34m:\u001b[0m\u001b[0;34m\u001b[0m\u001b[0;34m\u001b[0m\u001b[0m\n\u001b[0;32m----> 8\u001b[0;31m         \u001b[0;32mraise\u001b[0m \u001b[0mValueError\u001b[0m\u001b[0;34m(\u001b[0m\u001b[0;34m'Unsupported'\u001b[0m\u001b[0;34m)\u001b[0m\u001b[0;34m\u001b[0m\u001b[0;34m\u001b[0m\u001b[0m\n\u001b[0m\u001b[1;32m      9\u001b[0m     \u001b[0mslices\u001b[0m\u001b[0;34m[\u001b[0m\u001b[0mkey\u001b[0m\u001b[0;34m]\u001b[0m\u001b[0;34m.\u001b[0m\u001b[0mappend\u001b[0m\u001b[0;34m(\u001b[0m\u001b[0ms\u001b[0m\u001b[0;34m)\u001b[0m\u001b[0;34m\u001b[0m\u001b[0;34m\u001b[0m\u001b[0m\n",
      "\u001b[0;31mValueError\u001b[0m: Unsupported"
     ]
    }
   ],
   "source": [
    "for item, key in product(data_list, keys):\n",
    "    data[key].append(item[key])\n",
    "    if torch.is_tensor(item[key]):\n",
    "        s = slices[key][-1] + item[key].size(item.__cat_dim__(key, item[key]))\n",
    "    elif isinstance(item[key], int) or isinstance(item[key], float):\n",
    "        s = slices[key][-1] + 1\n",
    "    else:\n",
    "        raise ValueError('Unsupported')\n",
    "    slices[key].append(s)"
   ]
  },
  {
   "cell_type": "code",
   "execution_count": 29,
   "metadata": {},
   "outputs": [],
   "source": [
    "class Blocks:\n",
    "    \n",
    "    def __init__(self, blocks):\n",
    "        \n",
    "        self.block_0 = blocks[0]\n",
    "        self.block_1 = blocks[1]\n",
    "        self.block_2 = blocks[2]\n",
    "        self.block_3 = blocks[3]\n",
    "        self.block_4 = blocks[4]\n",
    "        self.block_5 = blocks[5]\n",
    "        self.block_6 = blocks[6]\n",
    "        self.block_7 = blocks[7]"
   ]
  },
  {
   "cell_type": "code",
   "execution_count": 31,
   "metadata": {},
   "outputs": [],
   "source": [
    "class BlocksBatch:\n",
    "    \n",
    "    def __init__(self, block_0, block_1):\n",
    "        \n",
    "        self.block_0 = blocks[0]\n",
    "        self.block_1 = blocks[1]"
   ]
  },
  {
   "cell_type": "code",
   "execution_count": 14,
   "metadata": {},
   "outputs": [],
   "source": [
    "data = train_dataset[0]"
   ]
  },
  {
   "cell_type": "code",
   "execution_count": 15,
   "metadata": {},
   "outputs": [
    {
     "ename": "AttributeError",
     "evalue": "'Data' object has no attribute 'batch'",
     "output_type": "error",
     "traceback": [
      "\u001b[0;31m---------------------------------------------------------------------------\u001b[0m",
      "\u001b[0;31mAttributeError\u001b[0m                            Traceback (most recent call last)",
      "\u001b[0;32m<ipython-input-15-6602ac534339>\u001b[0m in \u001b[0;36m<module>\u001b[0;34m\u001b[0m\n\u001b[1;32m      1\u001b[0m \u001b[0mmidpoints\u001b[0m\u001b[0;34m,\u001b[0m \u001b[0mmeans\u001b[0m\u001b[0;34m,\u001b[0m \u001b[0mmedians\u001b[0m\u001b[0;34m,\u001b[0m \u001b[0mcenters\u001b[0m \u001b[0;34m=\u001b[0m \u001b[0mget_splits\u001b[0m\u001b[0;34m(\u001b[0m\u001b[0mdata\u001b[0m\u001b[0;34m)\u001b[0m\u001b[0;34m\u001b[0m\u001b[0;34m\u001b[0m\u001b[0m\n\u001b[0;32m----> 2\u001b[0;31m \u001b[0mblocks\u001b[0m \u001b[0;34m=\u001b[0m \u001b[0mcreate_blocks\u001b[0m\u001b[0;34m(\u001b[0m\u001b[0mdata\u001b[0m\u001b[0;34m,\u001b[0m \u001b[0mmedians\u001b[0m\u001b[0;34m)\u001b[0m\u001b[0;34m\u001b[0m\u001b[0;34m\u001b[0m\u001b[0m\n\u001b[0m",
      "\u001b[0;32m<ipython-input-2-1e60ee209175>\u001b[0m in \u001b[0;36mcreate_blocks\u001b[0;34m(data, splits)\u001b[0m\n\u001b[1;32m     29\u001b[0m     \u001b[0mscaler\u001b[0m \u001b[0;34m=\u001b[0m \u001b[0mStandardScaler\u001b[0m\u001b[0;34m(\u001b[0m\u001b[0;34m)\u001b[0m\u001b[0;34m\u001b[0m\u001b[0;34m\u001b[0m\u001b[0m\n\u001b[1;32m     30\u001b[0m     \u001b[0mfull_pos\u001b[0m \u001b[0;34m=\u001b[0m \u001b[0mdata\u001b[0m\u001b[0;34m.\u001b[0m\u001b[0mpos\u001b[0m\u001b[0;34m.\u001b[0m\u001b[0mnumpy\u001b[0m\u001b[0;34m(\u001b[0m\u001b[0;34m)\u001b[0m\u001b[0;34m\u001b[0m\u001b[0;34m\u001b[0m\u001b[0m\n\u001b[0;32m---> 31\u001b[0;31m     \u001b[0mfull_batch\u001b[0m \u001b[0;34m=\u001b[0m \u001b[0mdata\u001b[0m\u001b[0;34m.\u001b[0m\u001b[0mbatch\u001b[0m\u001b[0;34m.\u001b[0m\u001b[0mnumpy\u001b[0m\u001b[0;34m(\u001b[0m\u001b[0;34m)\u001b[0m\u001b[0;34m\u001b[0m\u001b[0;34m\u001b[0m\u001b[0m\n\u001b[0m\u001b[1;32m     32\u001b[0m \u001b[0;34m\u001b[0m\u001b[0m\n\u001b[1;32m     33\u001b[0m     \u001b[0;32mfor\u001b[0m \u001b[0mx\u001b[0m\u001b[0;34m,\u001b[0m \u001b[0my\u001b[0m\u001b[0;34m,\u001b[0m \u001b[0mz\u001b[0m \u001b[0;32min\u001b[0m \u001b[0mlist\u001b[0m\u001b[0;34m(\u001b[0m\u001b[0mitertools\u001b[0m\u001b[0;34m.\u001b[0m\u001b[0mproduct\u001b[0m\u001b[0;34m(\u001b[0m\u001b[0;34m[\u001b[0m\u001b[0;36m0\u001b[0m\u001b[0;34m,\u001b[0m \u001b[0;36m1\u001b[0m\u001b[0;34m]\u001b[0m\u001b[0;34m,\u001b[0m \u001b[0mrepeat\u001b[0m\u001b[0;34m=\u001b[0m\u001b[0;36m3\u001b[0m\u001b[0;34m)\u001b[0m\u001b[0;34m)\u001b[0m\u001b[0;34m:\u001b[0m\u001b[0;34m\u001b[0m\u001b[0;34m\u001b[0m\u001b[0m\n",
      "\u001b[0;31mAttributeError\u001b[0m: 'Data' object has no attribute 'batch'"
     ]
    }
   ],
   "source": [
    "midpoints, means, medians, centers = get_splits(data)\n",
    "blocks = create_blocks(data, medians)"
   ]
  },
  {
   "cell_type": "code",
   "execution_count": 8,
   "metadata": {},
   "outputs": [
    {
     "ename": "NameError",
     "evalue": "name 'blocks' is not defined",
     "output_type": "error",
     "traceback": [
      "\u001b[0;31m---------------------------------------------------------------------------\u001b[0m",
      "\u001b[0;31mNameError\u001b[0m                                 Traceback (most recent call last)",
      "\u001b[0;32m<ipython-input-8-2b1c343984f4>\u001b[0m in \u001b[0;36m<module>\u001b[0;34m\u001b[0m\n\u001b[1;32m      1\u001b[0m \u001b[0mc1\u001b[0m \u001b[0;34m=\u001b[0m \u001b[0mnp\u001b[0m\u001b[0;34m.\u001b[0m\u001b[0mrandom\u001b[0m\u001b[0;34m.\u001b[0m\u001b[0mchoice\u001b[0m\u001b[0;34m(\u001b[0m\u001b[0;36m8\u001b[0m\u001b[0;34m)\u001b[0m\u001b[0;34m\u001b[0m\u001b[0;34m\u001b[0m\u001b[0m\n\u001b[0;32m----> 2\u001b[0;31m \u001b[0;32mwhile\u001b[0m \u001b[0mblocks\u001b[0m\u001b[0;34m[\u001b[0m\u001b[0mc1\u001b[0m\u001b[0;34m]\u001b[0m\u001b[0;34m.\u001b[0m\u001b[0mpos\u001b[0m\u001b[0;34m.\u001b[0m\u001b[0msize\u001b[0m\u001b[0;34m(\u001b[0m\u001b[0;34m)\u001b[0m\u001b[0;34m[\u001b[0m\u001b[0;36m0\u001b[0m\u001b[0;34m]\u001b[0m \u001b[0;34m==\u001b[0m \u001b[0;36m0\u001b[0m\u001b[0;34m:\u001b[0m\u001b[0;34m\u001b[0m\u001b[0;34m\u001b[0m\u001b[0m\n\u001b[0m\u001b[1;32m      3\u001b[0m     \u001b[0mc1\u001b[0m \u001b[0;34m=\u001b[0m \u001b[0mnp\u001b[0m\u001b[0;34m.\u001b[0m\u001b[0mrandom\u001b[0m\u001b[0;34m.\u001b[0m\u001b[0mchoice\u001b[0m\u001b[0;34m(\u001b[0m\u001b[0;36m8\u001b[0m\u001b[0;34m)\u001b[0m\u001b[0;34m\u001b[0m\u001b[0;34m\u001b[0m\u001b[0m\n\u001b[1;32m      4\u001b[0m \u001b[0;34m\u001b[0m\u001b[0m\n\u001b[1;32m      5\u001b[0m \u001b[0mc2\u001b[0m \u001b[0;34m=\u001b[0m \u001b[0mnp\u001b[0m\u001b[0;34m.\u001b[0m\u001b[0mrandom\u001b[0m\u001b[0;34m.\u001b[0m\u001b[0mchoice\u001b[0m\u001b[0;34m(\u001b[0m\u001b[0;36m8\u001b[0m\u001b[0;34m)\u001b[0m\u001b[0;34m\u001b[0m\u001b[0;34m\u001b[0m\u001b[0m\n",
      "\u001b[0;31mNameError\u001b[0m: name 'blocks' is not defined"
     ]
    }
   ],
   "source": [
    "c1 = np.random.choice(8)\n",
    "while blocks[c1].pos.size()[0] == 0:\n",
    "    c1 = np.random.choice(8)\n",
    "\n",
    "c2 = np.random.choice(8)\n",
    "while blocks[c2].pos.size()[0] == 0 or c1 == c2:\n",
    "    c2 = np.random.choice(8)"
   ]
  },
  {
   "cell_type": "code",
   "execution_count": 13,
   "metadata": {},
   "outputs": [
    {
     "data": {
      "text/plain": [
       "Data(pos=[16384, 3], y=[1])"
      ]
     },
     "execution_count": 13,
     "metadata": {},
     "output_type": "execute_result"
    }
   ],
   "source": [
    "train_dataset[0]"
   ]
  },
  {
   "cell_type": "code",
   "execution_count": null,
   "metadata": {},
   "outputs": [],
   "source": [
    "test_acc = test(test_loader)\n",
    "print('Epoch: {:03d}, Test: {:.4f}'.format(epoch, test_acc))"
   ]
  },
  {
   "cell_type": "code",
   "execution_count": 12,
   "metadata": {},
   "outputs": [
    {
     "data": {
      "text/plain": [
       "tensor([[-0.7257,  0.0790,  0.5095],\n",
       "        [-0.7257,  1.2860,  0.5827],\n",
       "        [ 2.0425,  1.0407,  0.6759],\n",
       "        ...,\n",
       "        [ 2.0159,  1.3926,  0.6759],\n",
       "        [ 1.3149,  0.2809,  0.6759],\n",
       "        [ 1.6185,  0.8523,  0.6759]], device='cuda:0')"
      ]
     },
     "execution_count": 12,
     "metadata": {},
     "output_type": "execute_result"
    }
   ],
   "source": [
    "data1.pos"
   ]
  },
  {
   "cell_type": "code",
   "execution_count": 13,
   "metadata": {},
   "outputs": [
    {
     "data": {
      "text/plain": [
       "tensor([[ 0.7517, -1.1849, -1.1234],\n",
       "        [-1.4335,  0.7784, -1.5966],\n",
       "        [ 1.4943, -0.9690,  0.1757],\n",
       "        [ 0.2007,  1.6206,  0.8481],\n",
       "        [ 0.0382, -0.5670,  0.8481],\n",
       "        [-1.0514,  0.3219,  0.8481]], device='cuda:0')"
      ]
     },
     "execution_count": 13,
     "metadata": {},
     "output_type": "execute_result"
    }
   ],
   "source": [
    "data2.pos"
   ]
  },
  {
   "cell_type": "code",
   "execution_count": 19,
   "metadata": {},
   "outputs": [
    {
     "data": {
      "text/plain": [
       "Net(\n",
       "  (sa1_module): SAModule(\n",
       "    (conv): PointConv(local_nn=Sequential(\n",
       "      (0): Sequential(\n",
       "        (0): Linear(in_features=3, out_features=64, bias=True)\n",
       "        (1): ReLU()\n",
       "        (2): BatchNorm1d(64, eps=1e-05, momentum=0.1, affine=True, track_running_stats=True)\n",
       "      )\n",
       "      (1): Sequential(\n",
       "        (0): Linear(in_features=64, out_features=64, bias=True)\n",
       "        (1): ReLU()\n",
       "        (2): BatchNorm1d(64, eps=1e-05, momentum=0.1, affine=True, track_running_stats=True)\n",
       "      )\n",
       "      (2): Sequential(\n",
       "        (0): Linear(in_features=64, out_features=128, bias=True)\n",
       "        (1): ReLU()\n",
       "        (2): BatchNorm1d(128, eps=1e-05, momentum=0.1, affine=True, track_running_stats=True)\n",
       "      )\n",
       "    ), global_nn=None)\n",
       "  )\n",
       "  (sa2_module): SAModule(\n",
       "    (conv): PointConv(local_nn=Sequential(\n",
       "      (0): Sequential(\n",
       "        (0): Linear(in_features=131, out_features=128, bias=True)\n",
       "        (1): ReLU()\n",
       "        (2): BatchNorm1d(128, eps=1e-05, momentum=0.1, affine=True, track_running_stats=True)\n",
       "      )\n",
       "      (1): Sequential(\n",
       "        (0): Linear(in_features=128, out_features=128, bias=True)\n",
       "        (1): ReLU()\n",
       "        (2): BatchNorm1d(128, eps=1e-05, momentum=0.1, affine=True, track_running_stats=True)\n",
       "      )\n",
       "      (2): Sequential(\n",
       "        (0): Linear(in_features=128, out_features=256, bias=True)\n",
       "        (1): ReLU()\n",
       "        (2): BatchNorm1d(256, eps=1e-05, momentum=0.1, affine=True, track_running_stats=True)\n",
       "      )\n",
       "    ), global_nn=None)\n",
       "  )\n",
       "  (sa3_module): GlobalSAModule(\n",
       "    (nn): Sequential(\n",
       "      (0): Sequential(\n",
       "        (0): Linear(in_features=259, out_features=256, bias=True)\n",
       "        (1): ReLU()\n",
       "        (2): BatchNorm1d(256, eps=1e-05, momentum=0.1, affine=True, track_running_stats=True)\n",
       "      )\n",
       "      (1): Sequential(\n",
       "        (0): Linear(in_features=256, out_features=512, bias=True)\n",
       "        (1): ReLU()\n",
       "        (2): BatchNorm1d(512, eps=1e-05, momentum=0.1, affine=True, track_running_stats=True)\n",
       "      )\n",
       "      (2): Sequential(\n",
       "        (0): Linear(in_features=512, out_features=1024, bias=True)\n",
       "        (1): ReLU()\n",
       "        (2): BatchNorm1d(1024, eps=1e-05, momentum=0.1, affine=True, track_running_stats=True)\n",
       "      )\n",
       "    )\n",
       "  )\n",
       "  (lin1): Linear(in_features=1024, out_features=512, bias=True)\n",
       "  (lin2): Linear(in_features=512, out_features=256, bias=True)\n",
       "  (lin3): Linear(in_features=256, out_features=10, bias=True)\n",
       ")"
      ]
     },
     "execution_count": 19,
     "metadata": {},
     "output_type": "execute_result"
    }
   ],
   "source": [
    "model.eval()"
   ]
  },
  {
   "cell_type": "code",
   "execution_count": 20,
   "metadata": {},
   "outputs": [
    {
     "data": {
      "text/plain": [
       "tensor([[-2.1814, -2.3165, -2.3476, -2.2265, -2.2462, -2.1517, -2.0048, -2.1330,\n",
       "         -3.1651, -2.6953]], device='cuda:0', grad_fn=<LogSoftmaxBackward>)"
      ]
     },
     "execution_count": 20,
     "metadata": {},
     "output_type": "execute_result"
    }
   ],
   "source": [
    "model(data1, data2)"
   ]
  },
  {
   "cell_type": "code",
   "execution_count": 21,
   "metadata": {},
   "outputs": [
    {
     "data": {
      "text/plain": [
       "tensor([1], device='cuda:0')"
      ]
     },
     "execution_count": 21,
     "metadata": {},
     "output_type": "execute_result"
    }
   ],
   "source": [
    "data2.y"
   ]
  },
  {
   "cell_type": "code",
   "execution_count": 14,
   "metadata": {},
   "outputs": [
    {
     "data": {
      "text/plain": [
       "0"
      ]
     },
     "execution_count": 14,
     "metadata": {},
     "output_type": "execute_result"
    }
   ],
   "source": [
    "c1"
   ]
  },
  {
   "cell_type": "code",
   "execution_count": 15,
   "metadata": {},
   "outputs": [
    {
     "data": {
      "text/plain": [
       "1"
      ]
     },
     "execution_count": 15,
     "metadata": {},
     "output_type": "execute_result"
    }
   ],
   "source": [
    "c2"
   ]
  },
  {
   "cell_type": "code",
   "execution_count": 16,
   "metadata": {},
   "outputs": [
    {
     "data": {
      "text/plain": [
       "[Batch(batch=[1017], pos=[1017, 3]),\n",
       " Batch(batch=[6], pos=[6, 3], y=[1]),\n",
       " Batch(batch=[459], pos=[459, 3]),\n",
       " Batch(batch=[566], pos=[566, 3]),\n",
       " Batch(batch=[1016], pos=[1016, 3]),\n",
       " Batch(batch=[9], pos=[9, 3]),\n",
       " Batch(batch=[502], pos=[502, 3]),\n",
       " Batch(batch=[521], pos=[521, 3])]"
      ]
     },
     "execution_count": 16,
     "metadata": {},
     "output_type": "execute_result"
    }
   ],
   "source": [
    "blocks"
   ]
  },
  {
   "cell_type": "code",
   "execution_count": 25,
   "metadata": {},
   "outputs": [
    {
     "data": {
      "text/plain": [
       "Batch(batch=[4096], pos=[4096, 3], y=[1])"
      ]
     },
     "execution_count": 25,
     "metadata": {},
     "output_type": "execute_result"
    }
   ],
   "source": [
    "data"
   ]
  },
  {
   "cell_type": "code",
   "execution_count": 30,
   "metadata": {},
   "outputs": [
    {
     "data": {
      "text/plain": [
       "True"
      ]
     },
     "execution_count": 30,
     "metadata": {},
     "output_type": "execute_result"
    }
   ],
   "source": [
    "blocks[c2].pos.size()[0] == 0"
   ]
  },
  {
   "cell_type": "code",
   "execution_count": null,
   "metadata": {},
   "outputs": [],
   "source": []
  },
  {
   "cell_type": "code",
   "execution_count": 53,
   "metadata": {},
   "outputs": [
    {
     "data": {
      "text/plain": [
       "93"
      ]
     },
     "execution_count": 53,
     "metadata": {},
     "output_type": "execute_result"
    }
   ],
   "source": [
    "sum(data.pos.numpy()[:, 0] == -0.3998445)"
   ]
  },
  {
   "cell_type": "code",
   "execution_count": 54,
   "metadata": {},
   "outputs": [
    {
     "data": {
      "text/plain": [
       "torch.Size([632, 3])"
      ]
     },
     "execution_count": 54,
     "metadata": {},
     "output_type": "execute_result"
    }
   ],
   "source": [
    "data.pos.size()"
   ]
  },
  {
   "cell_type": "code",
   "execution_count": 34,
   "metadata": {},
   "outputs": [
    {
     "data": {
      "text/plain": [
       "[Batch(batch=[141], pos=[141, 3]),\n",
       " Batch(batch=[0], pos=[0]),\n",
       " Batch(batch=[137], pos=[137, 3]),\n",
       " Batch(batch=[0], pos=[29, 3]),\n",
       " Batch(batch=[162], pos=[162, 3]),\n",
       " Batch(batch=[0], pos=[0], y=[1]),\n",
       " Batch(batch=[134], pos=[134, 3]),\n",
       " Batch(batch=[0], pos=[29, 3])]"
      ]
     },
     "execution_count": 34,
     "metadata": {},
     "output_type": "execute_result"
    }
   ],
   "source": [
    "blocks"
   ]
  },
  {
   "cell_type": "code",
   "execution_count": 55,
   "metadata": {},
   "outputs": [],
   "source": [
    "from sklearn.preprocessing import StandardScaler"
   ]
  },
  {
   "cell_type": "code",
   "execution_count": 56,
   "metadata": {},
   "outputs": [],
   "source": [
    "scaler = StandardScaler()\n",
    "scaler.fit_transform(blocks[3].pos.numpy())"
   ]
  },
  {
   "cell_type": "code",
   "execution_count": 58,
   "metadata": {},
   "outputs": [
    {
     "data": {
      "text/plain": [
       "array([[ 0.        , -0.7658316 , -1.6029987 ],\n",
       "       [ 0.        , -0.776509  , -1.9952666 ],\n",
       "       [ 0.        , -0.73443246, -1.2175953 ],\n",
       "       [ 0.        , -0.6823078 , -0.84517455],\n",
       "       [ 0.        , -0.6110309 , -0.49259147],\n",
       "       [ 0.        , -0.5209125 , -0.1659458 ],\n",
       "       [ 0.        , -0.4144682 ,  0.12939988],\n",
       "       [ 0.        , -0.29294887,  0.38887545],\n",
       "       [ 0.        , -0.15855901,  0.6071368 ],\n",
       "       [ 0.        , -0.01349173,  0.7803877 ],\n",
       "       [ 0.        ,  0.13973951,  0.90707105],\n",
       "       [ 0.        ,  0.29831043,  0.98338145],\n",
       "       [ 0.        ,  0.45970565,  1.0093281 ],\n",
       "       [ 0.        ,  2.7151575 ,  1.0093281 ],\n",
       "       [ 0.        ,  2.7151575 ,  1.0093281 ],\n",
       "       [ 0.        , -0.776509  , -1.9952666 ],\n",
       "       [ 0.        , -0.7658316 , -1.6029987 ],\n",
       "       [ 0.        , -0.73443246, -1.2175953 ],\n",
       "       [ 0.        , -0.6823078 , -0.84517455],\n",
       "       [ 0.        , -0.6110309 , -0.49259147],\n",
       "       [ 0.        , -0.5209125 , -0.1659458 ],\n",
       "       [ 0.        , -0.4144682 ,  0.12939988],\n",
       "       [ 0.        , -0.29294887,  0.38887545],\n",
       "       [ 0.        , -0.15855901,  0.6071368 ],\n",
       "       [ 0.        , -0.01349173,  0.7803877 ],\n",
       "       [ 0.        ,  0.13973951,  0.90707105],\n",
       "       [ 0.        ,  0.29831043,  0.98338145],\n",
       "       [ 0.        ,  0.45970565,  1.0093281 ],\n",
       "       [ 0.        ,  2.7151575 ,  1.0093281 ]], dtype=float32)"
      ]
     },
     "execution_count": 58,
     "metadata": {},
     "output_type": "execute_result"
    }
   ],
   "source": [
    "scaler.fit_transform(blocks[3].pos.numpy())"
   ]
  },
  {
   "cell_type": "code",
   "execution_count": 38,
   "metadata": {},
   "outputs": [
    {
     "data": {
      "text/plain": [
       "tensor([[-0.3998,  0.3325,  0.9831],\n",
       "        [-0.3998,  0.3323,  0.9806],\n",
       "        [-0.3998,  0.3330,  0.9856],\n",
       "        [-0.3998,  0.3338,  0.9880],\n",
       "        [-0.3998,  0.3349,  0.9903],\n",
       "        [-0.3998,  0.3363,  0.9924],\n",
       "        [-0.3998,  0.3380,  0.9943],\n",
       "        [-0.3998,  0.3399,  0.9960],\n",
       "        [-0.3998,  0.3420,  0.9974],\n",
       "        [-0.3998,  0.3443,  0.9985],\n",
       "        [-0.3998,  0.3467,  0.9993],\n",
       "        [-0.3998,  0.3492,  0.9998],\n",
       "        [-0.3998,  0.3517,  1.0000],\n",
       "        [-0.3998,  0.3872,  1.0000],\n",
       "        [-0.3998,  0.3872,  1.0000],\n",
       "        [-0.3998,  0.3323,  0.9806],\n",
       "        [-0.3998,  0.3325,  0.9831],\n",
       "        [-0.3998,  0.3330,  0.9856],\n",
       "        [-0.3998,  0.3338,  0.9880],\n",
       "        [-0.3998,  0.3349,  0.9903],\n",
       "        [-0.3998,  0.3363,  0.9924],\n",
       "        [-0.3998,  0.3380,  0.9943],\n",
       "        [-0.3998,  0.3399,  0.9960],\n",
       "        [-0.3998,  0.3420,  0.9974],\n",
       "        [-0.3998,  0.3443,  0.9985],\n",
       "        [-0.3998,  0.3467,  0.9993],\n",
       "        [-0.3998,  0.3492,  0.9998],\n",
       "        [-0.3998,  0.3517,  1.0000],\n",
       "        [-0.3998,  0.3872,  1.0000]])"
      ]
     },
     "execution_count": 38,
     "metadata": {},
     "output_type": "execute_result"
    }
   ],
   "source": [
    "blocks[3].pos"
   ]
  },
  {
   "cell_type": "code",
   "execution_count": 128,
   "metadata": {},
   "outputs": [],
   "source": [
    "c1 = np.random.choice(8)\n",
    "while blocks[c1].pos.size()[0] == 0:\n",
    "    c1 = np.random.choice(8)"
   ]
  },
  {
   "cell_type": "code",
   "execution_count": 129,
   "metadata": {},
   "outputs": [],
   "source": [
    "c2 = np.random.choice(8)\n",
    "while blocks[c2].pos.size()[0] == 0 and c1 == c2:\n",
    "    c1 = np.random.choice(8)"
   ]
  },
  {
   "cell_type": "code",
   "execution_count": 130,
   "metadata": {},
   "outputs": [
    {
     "data": {
      "text/plain": [
       "(3, 6)"
      ]
     },
     "execution_count": 130,
     "metadata": {},
     "output_type": "execute_result"
    }
   ],
   "source": [
    "c1, c2"
   ]
  },
  {
   "cell_type": "code",
   "execution_count": 34,
   "metadata": {},
   "outputs": [
    {
     "data": {
      "text/plain": [
       "0"
      ]
     },
     "execution_count": 34,
     "metadata": {},
     "output_type": "execute_result"
    }
   ],
   "source": [
    "torch.tensor([]).numpy().size"
   ]
  },
  {
   "cell_type": "code",
   "execution_count": 37,
   "metadata": {},
   "outputs": [],
   "source": [
    "if torch.tensor([]).numpy().size > 0:\n",
    "    print(True)"
   ]
  },
  {
   "cell_type": "code",
   "execution_count": 24,
   "metadata": {},
   "outputs": [
    {
     "data": {
      "text/plain": [
       "(array([ 0.02798665, -0.09648532,  0.20722413], dtype=float32),\n",
       " array([0.03433339, 0.01153529, 0.1125135 ], dtype=float32),\n",
       " array([0.03743431, 0.01541115, 0.04655762], dtype=float32))"
      ]
     },
     "execution_count": 24,
     "metadata": {},
     "output_type": "execute_result"
    }
   ],
   "source": [
    "midpoints, means, medians"
   ]
  },
  {
   "cell_type": "code",
   "execution_count": 11,
   "metadata": {},
   "outputs": [
    {
     "data": {
      "text/plain": [
       "32768"
      ]
     },
     "execution_count": 11,
     "metadata": {},
     "output_type": "execute_result"
    }
   ],
   "source": [
    "2**15"
   ]
  },
  {
   "cell_type": "code",
   "execution_count": 8,
   "metadata": {},
   "outputs": [
    {
     "data": {
      "text/plain": [
       "Batch(batch=[370056], face=[3, 124988], pos=[370056, 3], y=[1])"
      ]
     },
     "execution_count": 8,
     "metadata": {},
     "output_type": "execute_result"
    }
   ],
   "source": [
    "data"
   ]
  },
  {
   "cell_type": "code",
   "execution_count": 33,
   "metadata": {},
   "outputs": [
    {
     "data": {
      "text/plain": [
       "(6, 3)"
      ]
     },
     "execution_count": 33,
     "metadata": {},
     "output_type": "execute_result"
    }
   ],
   "source": [
    "c1, c2"
   ]
  },
  {
   "cell_type": "code",
   "execution_count": 44,
   "metadata": {},
   "outputs": [
    {
     "ename": "ValueError",
     "evalue": "could not determine the shape of object type 'Batch'",
     "output_type": "error",
     "traceback": [
      "\u001b[0;31m---------------------------------------------------------------------------\u001b[0m",
      "\u001b[0;31mValueError\u001b[0m                                Traceback (most recent call last)",
      "\u001b[0;32m<ipython-input-44-9dba55876bbb>\u001b[0m in \u001b[0;36m<module>\u001b[0;34m\u001b[0m\n\u001b[0;32m----> 1\u001b[0;31m \u001b[0mtorch\u001b[0m\u001b[0;34m.\u001b[0m\u001b[0mtensor\u001b[0m\u001b[0;34m(\u001b[0m\u001b[0mblocks\u001b[0m\u001b[0;34m[\u001b[0m\u001b[0mc1\u001b[0m\u001b[0;34m]\u001b[0m\u001b[0;34m)\u001b[0m\u001b[0;34m\u001b[0m\u001b[0;34m\u001b[0m\u001b[0m\n\u001b[0m",
      "\u001b[0;31mValueError\u001b[0m: could not determine the shape of object type 'Batch'"
     ]
    }
   ],
   "source": [
    "torch.tensor(blocks[c1])"
   ]
  },
  {
   "cell_type": "code",
   "execution_count": 39,
   "metadata": {},
   "outputs": [
    {
     "data": {
      "text/plain": [
       "Batch(batch=[89], pos=[89, 3], y=[1])"
      ]
     },
     "execution_count": 39,
     "metadata": {},
     "output_type": "execute_result"
    }
   ],
   "source": [
    "\n",
    "blocks[c2]"
   ]
  },
  {
   "cell_type": "code",
   "execution_count": 41,
   "metadata": {},
   "outputs": [
    {
     "ename": "AttributeError",
     "evalue": "module 'torch' has no attribute 'copy'",
     "output_type": "error",
     "traceback": [
      "\u001b[0;31m---------------------------------------------------------------------------\u001b[0m",
      "\u001b[0;31mAttributeError\u001b[0m                            Traceback (most recent call last)",
      "\u001b[0;32m<ipython-input-41-cda5265f2350>\u001b[0m in \u001b[0;36m<module>\u001b[0;34m\u001b[0m\n\u001b[0;32m----> 1\u001b[0;31m \u001b[0mtorch\u001b[0m\u001b[0;34m.\u001b[0m\u001b[0mcopy\u001b[0m\u001b[0;34m(\u001b[0m\u001b[0;34m)\u001b[0m\u001b[0;34m\u001b[0m\u001b[0;34m\u001b[0m\u001b[0m\n\u001b[0m",
      "\u001b[0;31mAttributeError\u001b[0m: module 'torch' has no attribute 'copy'"
     ]
    }
   ],
   "source": [
    "torch.copy()"
   ]
  },
  {
   "cell_type": "code",
   "execution_count": null,
   "metadata": {},
   "outputs": [],
   "source": []
  },
  {
   "cell_type": "code",
   "execution_count": 9,
   "metadata": {},
   "outputs": [
    {
     "data": {
      "text/plain": [
       "tensor([0, 0, 0, 0, 0, 0, 0, 0, 0, 0])"
      ]
     },
     "execution_count": 9,
     "metadata": {},
     "output_type": "execute_result"
    }
   ],
   "source": [
    "data.batch[:10]"
   ]
  },
  {
   "cell_type": "code",
   "execution_count": 4,
   "metadata": {},
   "outputs": [],
   "source": [
    "train_dataset[0].face"
   ]
  },
  {
   "cell_type": "code",
   "execution_count": 17,
   "metadata": {},
   "outputs": [],
   "source": [
    "pos = data.pos.cpu().numpy()"
   ]
  },
  {
   "cell_type": "code",
   "execution_count": 18,
   "metadata": {},
   "outputs": [
    {
     "data": {
      "text/plain": [
       "array([[-0.51962954, -0.26713428,  0.24283515],\n",
       "       [ 0.57153237,  0.37539387,  0.5426906 ],\n",
       "       [ 0.5346556 ,  0.41588417,  0.41674036],\n",
       "       ...,\n",
       "       [-0.08757947, -0.09896498,  0.35617122],\n",
       "       [ 0.16694449, -0.68983036, -0.32824954],\n",
       "       [ 0.4198998 ,  0.4174345 , -0.7541872 ]], dtype=float32)"
      ]
     },
     "execution_count": 18,
     "metadata": {},
     "output_type": "execute_result"
    }
   ],
   "source": [
    "pos"
   ]
  },
  {
   "cell_type": "code",
   "execution_count": 19,
   "metadata": {},
   "outputs": [],
   "source": [
    "midpoints = (np.max(pos, axis=0) - np.min(pos, axis=0)) / 2 + np.min(pos, axis=0)\n",
    "means = np.mean(pos, axis=0)\n",
    "medians = np.median(pos, axis=0)"
   ]
  },
  {
   "cell_type": "code",
   "execution_count": 30,
   "metadata": {},
   "outputs": [
    {
     "data": {
      "text/plain": [
       "Batch(batch=[32768], pos=[32768, 3], y=[32])"
      ]
     },
     "execution_count": 30,
     "metadata": {},
     "output_type": "execute_result"
    }
   ],
   "source": [
    "data"
   ]
  },
  {
   "cell_type": "code",
   "execution_count": 20,
   "metadata": {},
   "outputs": [],
   "source": [
    "x = y = z = 0\n",
    "splits = midpoints.copy()"
   ]
  },
  {
   "cell_type": "code",
   "execution_count": 42,
   "metadata": {},
   "outputs": [],
   "source": [
    "blocks = []\n",
    "\n",
    "if x == 0:\n",
    "    mask_x = pos[:, 0] <= splits[0]\n",
    "else:\n",
    "    mask_x = pos[:, 0] > splits[0]\n",
    "\n",
    "if y == 0:\n",
    "    mask_y = pos[:, 1] <= splits[1]\n",
    "else:\n",
    "    mask_y = pos[:, 1] > splits[1]\n",
    "\n",
    "if z == 0:\n",
    "    mask_z = pos[:, 2] <= splits[2]\n",
    "else:\n",
    "    mask_z = pos[:, 2] > splits[2]\n",
    "\n",
    "block = pos[np.array([mask_x, mask_y, mask_z]).all(axis=0)]\n",
    "block = (block - np.min(block, axis=0)) / (np.max(block, axis=0) - np.min(block, axis=0))\n",
    "batch = data.batch.cpu().numpy()[np.array([mask_x, mask_y, mask_z]).all(axis=0)]\n",
    "\n",
    "new_batch = Batch(torch.from_numpy(batch), pos=torch.from_numpy(block))\n",
    "blocks.append(new_batch)\n",
    "                                          \n",
    "                                           \n",
    "\n",
    "#blocks.append(())"
   ]
  },
  {
   "cell_type": "code",
   "execution_count": 34,
   "metadata": {},
   "outputs": [],
   "source": [
    "batch = torch.from_numpy()"
   ]
  },
  {
   "cell_type": "code",
   "execution_count": 37,
   "metadata": {},
   "outputs": [],
   "source": [
    "new_batch = Batch(batch, pos=block)"
   ]
  },
  {
   "cell_type": "code",
   "execution_count": 43,
   "metadata": {},
   "outputs": [
    {
     "data": {
      "text/plain": [
       "Batch(batch=[4082], pos=[4082, 3])"
      ]
     },
     "execution_count": 43,
     "metadata": {},
     "output_type": "execute_result"
    }
   ],
   "source": [
    "new_batch"
   ]
  },
  {
   "cell_type": "code",
   "execution_count": 41,
   "metadata": {},
   "outputs": [
    {
     "data": {
      "text/plain": [
       "Batch(batch=[32768], pos=[32768, 3], y=[32])"
      ]
     },
     "execution_count": 41,
     "metadata": {},
     "output_type": "execute_result"
    }
   ],
   "source": [
    "data"
   ]
  },
  {
   "cell_type": "code",
   "execution_count": 23,
   "metadata": {},
   "outputs": [
    {
     "data": {
      "text/plain": [
       "(4, 5)"
      ]
     },
     "execution_count": 23,
     "metadata": {},
     "output_type": "execute_result"
    }
   ],
   "source": [
    "c1, c2"
   ]
  },
  {
   "cell_type": "code",
   "execution_count": 24,
   "metadata": {},
   "outputs": [
    {
     "data": {
      "text/plain": [
       "tensor([9, 9, 9, 7, 7, 5, 2, 3, 1, 8, 5, 2, 2, 9, 8, 7, 2, 7, 4, 7, 7, 1, 9, 1,\n",
       "        2, 1, 7, 1, 2, 7, 2, 8])"
      ]
     },
     "execution_count": 24,
     "metadata": {},
     "output_type": "execute_result"
    }
   ],
   "source": [
    "data.y"
   ]
  },
  {
   "cell_type": "code",
   "execution_count": 101,
   "metadata": {},
   "outputs": [
    {
     "name": "stdout",
     "output_type": "stream",
     "text": [
      "(494, 3)\n",
      "(906, 3)\n",
      "(962, 3)\n",
      "(1385, 3)\n",
      "(508, 3)\n",
      "(906, 3)\n",
      "(2240, 3)\n",
      "(1877, 3)\n"
     ]
    }
   ],
   "source": [
    "blocks = create_blocks(pos, means)\n",
    "for i in range(8):\n",
    "    print(blocks[i].shape)"
   ]
  },
  {
   "cell_type": "code",
   "execution_count": 100,
   "metadata": {},
   "outputs": [
    {
     "name": "stdout",
     "output_type": "stream",
     "text": [
      "(494, 3)\n",
      "(906, 3)\n",
      "(800, 3)\n",
      "(1286, 3)\n",
      "(508, 3)\n",
      "(906, 3)\n",
      "(2402, 3)\n",
      "(1976, 3)\n"
     ]
    }
   ],
   "source": [
    "blocks = create_blocks(pos, midpoints)\n",
    "for i in range(8):\n",
    "    print(blocks[i].shape)"
   ]
  },
  {
   "cell_type": "code",
   "execution_count": 102,
   "metadata": {},
   "outputs": [
    {
     "name": "stdout",
     "output_type": "stream",
     "text": [
      "(1218, 3)\n",
      "(938, 3)\n",
      "(961, 3)\n",
      "(1528, 3)\n",
      "(1616, 3)\n",
      "(874, 3)\n",
      "(849, 3)\n",
      "(1294, 3)\n"
     ]
    }
   ],
   "source": [
    "blocks = create_blocks(pos, medians)\n",
    "for i in range(8):\n",
    "    print(blocks[i].shape)"
   ]
  },
  {
   "cell_type": "code",
   "execution_count": 74,
   "metadata": {},
   "outputs": [
    {
     "data": {
      "text/plain": [
       "array([[9.29740071e-01, 1.08099744e-01, 2.35562287e-02],\n",
       "       [9.27260844e-04, 5.52234352e-01, 9.19430375e-01],\n",
       "       [2.18921095e-01, 8.84557366e-01, 4.98326302e-01],\n",
       "       [2.09728599e-01, 7.00184941e-01, 5.80340862e-01],\n",
       "       [6.98404387e-02, 1.45458698e-01, 1.00000000e+00],\n",
       "       [2.10695878e-01, 3.34126174e-01, 5.71711481e-01],\n",
       "       [6.95730329e-01, 7.65385479e-02, 7.40798950e-01],\n",
       "       [2.12353244e-01, 3.62929732e-01, 5.56924462e-01],\n",
       "       [3.83240193e-01, 1.42417207e-01, 6.01603031e-01],\n",
       "       [1.47117674e-01, 4.25180167e-01, 9.48866189e-01],\n",
       "       [3.63334030e-01, 1.80334643e-01, 1.72443166e-01],\n",
       "       [9.70778838e-02, 9.15625155e-01, 9.93064404e-01],\n",
       "       [3.32092226e-01, 1.21997952e-01, 9.64133501e-01],\n",
       "       [2.08975077e-01, 8.43299568e-01, 5.87064505e-01],\n",
       "       [5.33426404e-01, 1.04166619e-01, 5.45757294e-01],\n",
       "       [5.11226542e-02, 8.00466716e-01, 9.97628450e-01],\n",
       "       [2.68792927e-01, 9.64084923e-01, 5.33700809e-02],\n",
       "       [2.14231089e-01, 4.50856060e-01, 5.40170014e-01],\n",
       "       [2.18105868e-01, 2.67059594e-01, 5.98569810e-01],\n",
       "       [2.22281814e-01, 7.43130088e-01, 4.68341827e-01],\n",
       "       [8.62319767e-02, 2.58590698e-01, 9.99782860e-01],\n",
       "       [2.51252681e-01, 6.42982244e-01, 2.09863961e-01],\n",
       "       [8.19207668e-01, 1.08858399e-01, 7.18492502e-03],\n",
       "       [2.54505724e-01, 7.02657223e-01, 1.80840701e-01],\n",
       "       [1.73681796e-01, 7.54376709e-01, 8.81084800e-01],\n",
       "       [4.69905287e-01, 1.42267808e-01, 1.14263348e-01],\n",
       "       [1.84404969e-01, 9.40815508e-02, 1.00000000e+00],\n",
       "       [3.94007623e-01, 1.77992269e-01, 0.00000000e+00],\n",
       "       [8.15997541e-01, 1.82872340e-02, 9.98798251e-01],\n",
       "       [1.93916485e-01, 8.87538195e-01, 7.21416593e-01],\n",
       "       [2.03806683e-01, 7.92238414e-01, 6.33176506e-01],\n",
       "       [1.91847458e-01, 5.13330281e-01, 7.39876509e-01],\n",
       "       [1.00000000e+00, 6.56205267e-02, 8.98874223e-01],\n",
       "       [2.38790482e-01, 7.27247775e-01, 3.21051925e-01],\n",
       "       [8.29234064e-01, 8.04286227e-02, 6.20704770e-01],\n",
       "       [8.32054257e-01, 9.57398117e-02, 2.90286452e-01],\n",
       "       [7.54341856e-02, 5.71688354e-01, 9.99461770e-01],\n",
       "       [1.95885435e-01, 9.38968599e-01, 7.03849316e-01],\n",
       "       [6.96906224e-02, 1.58073485e-01, 1.00000000e+00],\n",
       "       [2.02108055e-01, 8.05917084e-01, 6.48331404e-01],\n",
       "       [4.71543431e-01, 1.45436540e-01, 4.92864996e-02],\n",
       "       [1.93573937e-01, 3.37625235e-01, 7.24472821e-01],\n",
       "       [2.81128317e-01, 1.44529760e-01, 9.64082778e-01],\n",
       "       [1.76234797e-01, 8.25005472e-01, 8.70508730e-01],\n",
       "       [8.85228693e-01, 1.04999810e-01, 9.04523581e-02],\n",
       "       [2.34002143e-01, 5.59013426e-01, 3.63772899e-01],\n",
       "       [2.05703244e-01, 6.06850207e-01, 6.16255403e-01],\n",
       "       [8.34029734e-01, 4.05759066e-02, 9.89596903e-01],\n",
       "       [3.98884475e-01, 1.62328333e-01, 1.90167964e-01],\n",
       "       [9.11210656e-01, 7.25107267e-02, 7.91572690e-01],\n",
       "       [1.73269838e-01, 3.68593097e-01, 8.82791519e-01],\n",
       "       [3.76354039e-01, 1.27825057e-02, 9.94666755e-01],\n",
       "       [1.44096404e-01, 9.26025748e-01, 9.54395056e-01],\n",
       "       [2.50242233e-01, 2.72509873e-01, 2.94406146e-01],\n",
       "       [2.18825549e-01, 9.14314568e-01, 4.99178529e-01],\n",
       "       [8.75161171e-01, 8.31459910e-02, 5.62062681e-01],\n",
       "       [4.65643764e-01, 1.11584939e-01, 6.85940564e-01],\n",
       "       [9.61334705e-01, 7.36395046e-02, 7.67215312e-01],\n",
       "       [1.38294518e-01, 9.77903843e-01, 9.62464333e-01],\n",
       "       [1.60871655e-01, 1.56722769e-01, 1.00000000e+00],\n",
       "       [1.89333692e-01, 5.92311919e-01, 7.62304306e-01],\n",
       "       [7.70380422e-02, 1.53025359e-01, 1.00000000e+00],\n",
       "       [4.73973781e-01, 1.02146052e-01, 8.19467008e-01],\n",
       "       [6.65379539e-02, 9.42140877e-01, 1.00000000e+00],\n",
       "       [9.02977943e-01, 8.39434788e-02, 5.44853628e-01],\n",
       "       [2.01497108e-01, 6.91243708e-01, 6.53782129e-01],\n",
       "       [2.28100285e-01, 1.00000000e+00, 4.16429281e-01],\n",
       "       [4.83548502e-03, 3.37525100e-01, 9.44938242e-01],\n",
       "       [8.06713998e-02, 2.61452168e-01, 1.00000000e+00],\n",
       "       [2.65072197e-01, 8.73127103e-01, 8.65665898e-02],\n",
       "       [2.77532369e-01, 2.36530155e-01, 2.58269817e-01],\n",
       "       [8.47124219e-01, 8.83376747e-02, 4.50024873e-01],\n",
       "       [1.81499403e-03, 5.82660377e-01, 9.26389933e-01],\n",
       "       [9.97054815e-01, 6.84443978e-04, 9.62429821e-01],\n",
       "       [0.00000000e+00, 4.99254942e-01, 9.12159204e-01],\n",
       "       [2.47348413e-01, 6.34731174e-01, 2.44698122e-01],\n",
       "       [1.83048695e-01, 9.39644098e-01, 8.18378448e-01],\n",
       "       [2.72593319e-01, 5.29236436e-01, 1.94632392e-02],\n",
       "       [2.54877895e-01, 9.37417567e-01, 1.77519575e-01],\n",
       "       [2.44155549e-03, 2.90562660e-02, 9.27405238e-01],\n",
       "       [2.47384474e-01, 6.14561081e-01, 2.44375587e-01],\n",
       "       [3.90287489e-01, 1.66750833e-01, 1.84906468e-01],\n",
       "       [2.26884574e-01, 9.05353427e-01, 4.27275777e-01],\n",
       "       [2.35804230e-01, 4.01283234e-01, 3.47694963e-01],\n",
       "       [5.49341775e-02, 0.00000000e+00, 9.40915942e-01],\n",
       "       [5.17842099e-02, 2.89356381e-01, 9.97833788e-01],\n",
       "       [2.04222694e-01, 6.61702693e-01, 6.29465103e-01],\n",
       "       [2.25029856e-01, 8.73564184e-01, 4.43823129e-01],\n",
       "       [9.13316607e-01, 1.00194193e-01, 1.94160089e-01],\n",
       "       [1.32704541e-01, 6.19500935e-01, 9.67615724e-01],\n",
       "       [1.92187577e-01, 7.87626356e-02, 1.00000000e+00],\n",
       "       [8.27386796e-01, 1.06030226e-01, 6.82160631e-02],\n",
       "       [1.96210533e-01, 5.49259663e-01, 7.00948775e-01],\n",
       "       [2.23051161e-01, 3.77072841e-01, 4.61477757e-01],\n",
       "       [6.99080408e-01, 8.96743611e-02, 4.55969214e-01],\n",
       "       [3.37566133e-03, 6.11343443e-01, 9.38627660e-01],\n",
       "       [1.93911180e-01, 2.81151116e-01, 7.60504246e-01],\n",
       "       [1.93474740e-01, 9.35133159e-01, 7.25357533e-01],\n",
       "       [3.79956178e-02, 7.18835831e-01, 9.93553817e-01],\n",
       "       [5.97873747e-01, 8.77362192e-02, 6.76741481e-01],\n",
       "       [1.39735058e-01, 8.23790431e-01, 9.61136818e-01],\n",
       "       [3.79992664e-01, 1.54299632e-01, 4.31131899e-01],\n",
       "       [2.11034939e-01, 1.59389600e-01, 9.91759002e-01],\n",
       "       [1.81384295e-01, 3.00460935e-01, 8.44771802e-01],\n",
       "       [9.86815467e-02, 9.64628220e-01, 9.92590547e-01],\n",
       "       [2.10755259e-01, 4.28594261e-01, 5.71181476e-01],\n",
       "       [6.46761715e-01, 8.32114369e-02, 6.69726491e-01],\n",
       "       [4.99246806e-01, 1.02336891e-01, 7.16044605e-01],\n",
       "       [1.67141706e-01, 6.11376047e-01, 9.08177555e-01],\n",
       "       [4.82464969e-01, 3.75748277e-02, 1.00000000e+00],\n",
       "       [2.49908507e-01, 5.52195787e-01, 2.21856549e-01],\n",
       "       [2.92062253e-01, 2.09984243e-01, 3.68797004e-01],\n",
       "       [4.82968360e-01, 1.11394733e-01, 6.04968965e-01],\n",
       "       [9.90697881e-04, 3.87311339e-01, 9.19927657e-01],\n",
       "       [1.73486862e-02, 8.09056580e-01, 9.73442018e-01],\n",
       "       [2.37482801e-01, 2.50436753e-01, 5.00178516e-01],\n",
       "       [1.69121072e-01, 4.66168135e-01, 8.99977863e-01],\n",
       "       [2.15267971e-01, 3.52271110e-01, 5.30918658e-01],\n",
       "       [3.58171612e-02, 1.83148548e-01, 9.92715061e-01],\n",
       "       [9.44221497e-01, 9.37695429e-02, 3.32805753e-01],\n",
       "       [2.61131853e-01, 3.18412960e-01, 1.21722326e-01],\n",
       "       [2.78362453e-01, 2.52440482e-01, 1.40900418e-01]], dtype=float32)"
      ]
     },
     "execution_count": 74,
     "metadata": {},
     "output_type": "execute_result"
    }
   ],
   "source": [
    "i = 1\n",
    "(blocks[i] - np.min(blocks[i], axis=0)) / (np.max(blocks[i], axis=0) - np.min(blocks[i], axis=0))"
   ]
  },
  {
   "cell_type": "code",
   "execution_count": 24,
   "metadata": {},
   "outputs": [
    {
     "data": {
      "text/plain": [
       "(-0.3266846, -0.0075627924, -0.017377261, 0.31566858)"
      ]
     },
     "execution_count": 24,
     "metadata": {},
     "output_type": "execute_result"
    }
   ],
   "source": [
    "i = 0\n",
    "pos[:, i].min(), pos[:, i].mean(), np.median(pos[:, i]), pos[:, i].max()"
   ]
  },
  {
   "cell_type": "code",
   "execution_count": 17,
   "metadata": {},
   "outputs": [
    {
     "data": {
      "text/plain": [
       "(-0.9984936, 0.5603638)"
      ]
     },
     "execution_count": 17,
     "metadata": {},
     "output_type": "execute_result"
    }
   ],
   "source": [
    "pos[:, 1].min(), pos[:, 1].max()"
   ]
  },
  {
   "cell_type": "code",
   "execution_count": 18,
   "metadata": {},
   "outputs": [
    {
     "data": {
      "text/plain": [
       "(-0.19711708, 0.17537694)"
      ]
     },
     "execution_count": 18,
     "metadata": {},
     "output_type": "execute_result"
    }
   ],
   "source": [
    "pos[:, 2].min(), pos[:, 2].max()"
   ]
  },
  {
   "cell_type": "code",
   "execution_count": null,
   "metadata": {},
   "outputs": [],
   "source": []
  },
  {
   "cell_type": "code",
   "execution_count": null,
   "metadata": {},
   "outputs": [],
   "source": [
    "np.median"
   ]
  },
  {
   "cell_type": "code",
   "execution_count": null,
   "metadata": {},
   "outputs": [],
   "source": []
  },
  {
   "cell_type": "code",
   "execution_count": 71,
   "metadata": {},
   "outputs": [
    {
     "data": {
      "text/plain": [
       "Data(pos=[1024, 3], y=[1])"
      ]
     },
     "execution_count": 71,
     "metadata": {},
     "output_type": "execute_result"
    }
   ],
   "source": [
    "train_dataset[0]"
   ]
  },
  {
   "cell_type": "code",
   "execution_count": 72,
   "metadata": {},
   "outputs": [],
   "source": [
    "import numpy as np"
   ]
  },
  {
   "cell_type": "code",
   "execution_count": 83,
   "metadata": {},
   "outputs": [
    {
     "data": {
      "text/plain": [
       "Data(pos=[1024, 3], y=[1])"
      ]
     },
     "execution_count": 83,
     "metadata": {},
     "output_type": "execute_result"
    }
   ],
   "source": [
    "train_dataset[0]"
   ]
  },
  {
   "cell_type": "code",
   "execution_count": 1,
   "metadata": {},
   "outputs": [],
   "source": [
    "from dataset_splits import find_split_paths, process_pickle_bysplit"
   ]
  },
  {
   "cell_type": "code",
   "execution_count": 6,
   "metadata": {},
   "outputs": [],
   "source": [
    "import os\n",
    "import os.path as osp\n",
    "import glob"
   ]
  },
  {
   "cell_type": "code",
   "execution_count": 3,
   "metadata": {},
   "outputs": [],
   "source": [
    "files = process_pickle_bysplit('dataset_splits/ModelNet10_TrainingSplits.pickle', 10)"
   ]
  },
  {
   "cell_type": "code",
   "execution_count": 14,
   "metadata": {},
   "outputs": [],
   "source": [
    "categories = sorted(files.keys())"
   ]
  },
  {
   "cell_type": "code",
   "execution_count": 15,
   "metadata": {},
   "outputs": [
    {
     "data": {
      "text/plain": [
       "['bathtub_0096.off',\n",
       " 'bathtub_0046.off',\n",
       " 'bathtub_0089.off',\n",
       " 'bathtub_0038.off',\n",
       " 'bathtub_0093.off',\n",
       " 'bathtub_0057.off',\n",
       " 'bathtub_0044.off',\n",
       " 'bathtub_0067.off',\n",
       " 'bathtub_0011.off',\n",
       " 'bathtub_0012.off',\n",
       " 'bathtub_0001.off']"
      ]
     },
     "execution_count": 15,
     "metadata": {},
     "output_type": "execute_result"
    }
   ],
   "source": [
    "files[categories[0]]"
   ]
  },
  {
   "cell_type": "code",
   "execution_count": 19,
   "metadata": {},
   "outputs": [],
   "source": [
    "folder = osp.join('data/ModelNet10/raw', categories[0], 'train')\n",
    "paths = glob.glob('{}/{}_*.off'.format(folder, categories[0]))"
   ]
  },
  {
   "cell_type": "code",
   "execution_count": 23,
   "metadata": {},
   "outputs": [
    {
     "data": {
      "text/plain": [
       "'data/ModelNet10/raw/bathtub/train/bathtub_0096.off'"
      ]
     },
     "execution_count": 23,
     "metadata": {},
     "output_type": "execute_result"
    }
   ],
   "source": [
    "osp.join(folder, files[categories[0]][0])"
   ]
  },
  {
   "cell_type": "code",
   "execution_count": 20,
   "metadata": {},
   "outputs": [
    {
     "data": {
      "text/plain": [
       "['data/ModelNet10/raw/bathtub/train/bathtub_0102.off',\n",
       " 'data/ModelNet10/raw/bathtub/train/bathtub_0099.off',\n",
       " 'data/ModelNet10/raw/bathtub/train/bathtub_0101.off',\n",
       " 'data/ModelNet10/raw/bathtub/train/bathtub_0025.off',\n",
       " 'data/ModelNet10/raw/bathtub/train/bathtub_0062.off',\n",
       " 'data/ModelNet10/raw/bathtub/train/bathtub_0005.off',\n",
       " 'data/ModelNet10/raw/bathtub/train/bathtub_0097.off',\n",
       " 'data/ModelNet10/raw/bathtub/train/bathtub_0094.off',\n",
       " 'data/ModelNet10/raw/bathtub/train/bathtub_0079.off',\n",
       " 'data/ModelNet10/raw/bathtub/train/bathtub_0009.off',\n",
       " 'data/ModelNet10/raw/bathtub/train/bathtub_0033.off',\n",
       " 'data/ModelNet10/raw/bathtub/train/bathtub_0088.off',\n",
       " 'data/ModelNet10/raw/bathtub/train/bathtub_0098.off',\n",
       " 'data/ModelNet10/raw/bathtub/train/bathtub_0023.off',\n",
       " 'data/ModelNet10/raw/bathtub/train/bathtub_0019.off',\n",
       " 'data/ModelNet10/raw/bathtub/train/bathtub_0016.off',\n",
       " 'data/ModelNet10/raw/bathtub/train/bathtub_0049.off',\n",
       " 'data/ModelNet10/raw/bathtub/train/bathtub_0076.off',\n",
       " 'data/ModelNet10/raw/bathtub/train/bathtub_0057.off',\n",
       " 'data/ModelNet10/raw/bathtub/train/bathtub_0027.off',\n",
       " 'data/ModelNet10/raw/bathtub/train/bathtub_0104.off',\n",
       " 'data/ModelNet10/raw/bathtub/train/bathtub_0050.off',\n",
       " 'data/ModelNet10/raw/bathtub/train/bathtub_0095.off',\n",
       " 'data/ModelNet10/raw/bathtub/train/bathtub_0036.off',\n",
       " 'data/ModelNet10/raw/bathtub/train/bathtub_0059.off',\n",
       " 'data/ModelNet10/raw/bathtub/train/bathtub_0084.off',\n",
       " 'data/ModelNet10/raw/bathtub/train/bathtub_0093.off',\n",
       " 'data/ModelNet10/raw/bathtub/train/bathtub_0037.off',\n",
       " 'data/ModelNet10/raw/bathtub/train/bathtub_0018.off',\n",
       " 'data/ModelNet10/raw/bathtub/train/bathtub_0029.off',\n",
       " 'data/ModelNet10/raw/bathtub/train/bathtub_0008.off',\n",
       " 'data/ModelNet10/raw/bathtub/train/bathtub_0091.off',\n",
       " 'data/ModelNet10/raw/bathtub/train/bathtub_0013.off',\n",
       " 'data/ModelNet10/raw/bathtub/train/bathtub_0044.off',\n",
       " 'data/ModelNet10/raw/bathtub/train/bathtub_0070.off',\n",
       " 'data/ModelNet10/raw/bathtub/train/bathtub_0011.off',\n",
       " 'data/ModelNet10/raw/bathtub/train/bathtub_0012.off',\n",
       " 'data/ModelNet10/raw/bathtub/train/bathtub_0069.off',\n",
       " 'data/ModelNet10/raw/bathtub/train/bathtub_0066.off',\n",
       " 'data/ModelNet10/raw/bathtub/train/bathtub_0063.off',\n",
       " 'data/ModelNet10/raw/bathtub/train/bathtub_0045.off',\n",
       " 'data/ModelNet10/raw/bathtub/train/bathtub_0082.off',\n",
       " 'data/ModelNet10/raw/bathtub/train/bathtub_0028.off',\n",
       " 'data/ModelNet10/raw/bathtub/train/bathtub_0090.off',\n",
       " 'data/ModelNet10/raw/bathtub/train/bathtub_0043.off',\n",
       " 'data/ModelNet10/raw/bathtub/train/bathtub_0092.off',\n",
       " 'data/ModelNet10/raw/bathtub/train/bathtub_0001.off',\n",
       " 'data/ModelNet10/raw/bathtub/train/bathtub_0103.off',\n",
       " 'data/ModelNet10/raw/bathtub/train/bathtub_0061.off',\n",
       " 'data/ModelNet10/raw/bathtub/train/bathtub_0015.off',\n",
       " 'data/ModelNet10/raw/bathtub/train/bathtub_0035.off',\n",
       " 'data/ModelNet10/raw/bathtub/train/bathtub_0039.off',\n",
       " 'data/ModelNet10/raw/bathtub/train/bathtub_0080.off',\n",
       " 'data/ModelNet10/raw/bathtub/train/bathtub_0087.off',\n",
       " 'data/ModelNet10/raw/bathtub/train/bathtub_0086.off',\n",
       " 'data/ModelNet10/raw/bathtub/train/bathtub_0034.off',\n",
       " 'data/ModelNet10/raw/bathtub/train/bathtub_0081.off',\n",
       " 'data/ModelNet10/raw/bathtub/train/bathtub_0074.off',\n",
       " 'data/ModelNet10/raw/bathtub/train/bathtub_0065.off',\n",
       " 'data/ModelNet10/raw/bathtub/train/bathtub_0077.off',\n",
       " 'data/ModelNet10/raw/bathtub/train/bathtub_0022.off',\n",
       " 'data/ModelNet10/raw/bathtub/train/bathtub_0072.off',\n",
       " 'data/ModelNet10/raw/bathtub/train/bathtub_0017.off',\n",
       " 'data/ModelNet10/raw/bathtub/train/bathtub_0051.off',\n",
       " 'data/ModelNet10/raw/bathtub/train/bathtub_0071.off',\n",
       " 'data/ModelNet10/raw/bathtub/train/bathtub_0060.off',\n",
       " 'data/ModelNet10/raw/bathtub/train/bathtub_0002.off',\n",
       " 'data/ModelNet10/raw/bathtub/train/bathtub_0021.off',\n",
       " 'data/ModelNet10/raw/bathtub/train/bathtub_0031.off',\n",
       " 'data/ModelNet10/raw/bathtub/train/bathtub_0004.off',\n",
       " 'data/ModelNet10/raw/bathtub/train/bathtub_0068.off',\n",
       " 'data/ModelNet10/raw/bathtub/train/bathtub_0038.off',\n",
       " 'data/ModelNet10/raw/bathtub/train/bathtub_0024.off',\n",
       " 'data/ModelNet10/raw/bathtub/train/bathtub_0040.off',\n",
       " 'data/ModelNet10/raw/bathtub/train/bathtub_0073.off',\n",
       " 'data/ModelNet10/raw/bathtub/train/bathtub_0032.off',\n",
       " 'data/ModelNet10/raw/bathtub/train/bathtub_0056.off',\n",
       " 'data/ModelNet10/raw/bathtub/train/bathtub_0100.off',\n",
       " 'data/ModelNet10/raw/bathtub/train/bathtub_0096.off',\n",
       " 'data/ModelNet10/raw/bathtub/train/bathtub_0054.off',\n",
       " 'data/ModelNet10/raw/bathtub/train/bathtub_0105.off',\n",
       " 'data/ModelNet10/raw/bathtub/train/bathtub_0048.off',\n",
       " 'data/ModelNet10/raw/bathtub/train/bathtub_0067.off',\n",
       " 'data/ModelNet10/raw/bathtub/train/bathtub_0046.off',\n",
       " 'data/ModelNet10/raw/bathtub/train/bathtub_0047.off',\n",
       " 'data/ModelNet10/raw/bathtub/train/bathtub_0053.off',\n",
       " 'data/ModelNet10/raw/bathtub/train/bathtub_0055.off',\n",
       " 'data/ModelNet10/raw/bathtub/train/bathtub_0085.off',\n",
       " 'data/ModelNet10/raw/bathtub/train/bathtub_0075.off',\n",
       " 'data/ModelNet10/raw/bathtub/train/bathtub_0042.off',\n",
       " 'data/ModelNet10/raw/bathtub/train/bathtub_0026.off',\n",
       " 'data/ModelNet10/raw/bathtub/train/bathtub_0052.off',\n",
       " 'data/ModelNet10/raw/bathtub/train/bathtub_0078.off',\n",
       " 'data/ModelNet10/raw/bathtub/train/bathtub_0007.off',\n",
       " 'data/ModelNet10/raw/bathtub/train/bathtub_0089.off',\n",
       " 'data/ModelNet10/raw/bathtub/train/bathtub_0014.off',\n",
       " 'data/ModelNet10/raw/bathtub/train/bathtub_0020.off',\n",
       " 'data/ModelNet10/raw/bathtub/train/bathtub_0003.off',\n",
       " 'data/ModelNet10/raw/bathtub/train/bathtub_0041.off',\n",
       " 'data/ModelNet10/raw/bathtub/train/bathtub_0058.off',\n",
       " 'data/ModelNet10/raw/bathtub/train/bathtub_0083.off',\n",
       " 'data/ModelNet10/raw/bathtub/train/bathtub_0006.off',\n",
       " 'data/ModelNet10/raw/bathtub/train/bathtub_0030.off',\n",
       " 'data/ModelNet10/raw/bathtub/train/bathtub_0064.off',\n",
       " 'data/ModelNet10/raw/bathtub/train/bathtub_0010.off',\n",
       " 'data/ModelNet10/raw/bathtub/train/bathtub_0106.off']"
      ]
     },
     "execution_count": 20,
     "metadata": {},
     "output_type": "execute_result"
    }
   ],
   "source": [
    "paths"
   ]
  },
  {
   "cell_type": "code",
   "execution_count": 9,
   "metadata": {},
   "outputs": [
    {
     "data": {
      "text/plain": [
       "[]"
      ]
     },
     "execution_count": 9,
     "metadata": {},
     "output_type": "execute_result"
    }
   ],
   "source": [
    "find_split_paths(osp.join(os.getcwd(), 'dataset_splits'), 10, 'ModelNet10')"
   ]
  },
  {
   "cell_type": "code",
   "execution_count": 7,
   "metadata": {},
   "outputs": [],
   "source": [
    "categories = glob.glob(osp.join('data/ModelNet10/raw', '*', ''))"
   ]
  },
  {
   "cell_type": "code",
   "execution_count": 8,
   "metadata": {},
   "outputs": [
    {
     "data": {
      "text/plain": [
       "['data/ModelNet10/raw/dresser/',\n",
       " 'data/ModelNet10/raw/desk/',\n",
       " 'data/ModelNet10/raw/monitor/',\n",
       " 'data/ModelNet10/raw/bed/',\n",
       " 'data/ModelNet10/raw/night_stand/',\n",
       " 'data/ModelNet10/raw/chair/',\n",
       " 'data/ModelNet10/raw/toilet/',\n",
       " 'data/ModelNet10/raw/table/',\n",
       " 'data/ModelNet10/raw/sofa/',\n",
       " 'data/ModelNet10/raw/bathtub/']"
      ]
     },
     "execution_count": 8,
     "metadata": {},
     "output_type": "execute_result"
    }
   ],
   "source": [
    "categories"
   ]
  },
  {
   "cell_type": "code",
   "execution_count": 12,
   "metadata": {},
   "outputs": [
    {
     "data": {
      "text/plain": [
       "['data', 'ModelNet10', 'raw', 'dresser', '']"
      ]
     },
     "execution_count": 12,
     "metadata": {},
     "output_type": "execute_result"
    }
   ],
   "source": [
    "categories[0].split(os.sep)"
   ]
  },
  {
   "cell_type": "code",
   "execution_count": 9,
   "metadata": {},
   "outputs": [
    {
     "data": {
      "text/plain": [
       "['bathtub',\n",
       " 'bed',\n",
       " 'chair',\n",
       " 'desk',\n",
       " 'dresser',\n",
       " 'monitor',\n",
       " 'night_stand',\n",
       " 'sofa',\n",
       " 'table',\n",
       " 'toilet']"
      ]
     },
     "execution_count": 9,
     "metadata": {},
     "output_type": "execute_result"
    }
   ],
   "source": [
    "sorted([x.split(os.sep)[-2] for x in categories])"
   ]
  },
  {
   "cell_type": "code",
   "execution_count": 8,
   "metadata": {},
   "outputs": [
    {
     "name": "stdout",
     "output_type": "stream",
     "text": [
      "/bin/sh: 1: kill: No such process\r\n",
      "\r\n"
     ]
    }
   ],
   "source": [
    "!kill 14811"
   ]
  },
  {
   "cell_type": "code",
   "execution_count": 6,
   "metadata": {
    "scrolled": false
   },
   "outputs": [
    {
     "name": "stdout",
     "output_type": "stream",
     "text": [
      "The tensorboard extension is already loaded. To reload it, use:\n",
      "  %reload_ext tensorboard\n"
     ]
    },
    {
     "data": {
      "text/html": [
       "\n",
       "        <iframe\n",
       "            width=\"100%\"\n",
       "            height=\"800\"\n",
       "            src=\"http://localhost:6006\"\n",
       "            frameborder=\"0\"\n",
       "            allowfullscreen\n",
       "        ></iframe>\n",
       "        "
      ],
      "text/plain": [
       "<IPython.lib.display.IFrame at 0x7f06c431cd68>"
      ]
     },
     "metadata": {},
     "output_type": "display_data"
    }
   ],
   "source": [
    "import tensorboard as tf\n",
    "%load_ext tensorboard\n",
    "%tensorboard --logdir runs/\n",
    "#%tensorboard --logdir runs/pretext_transfer_10_10\n",
    "#%tensorboard --logdir runs/baseline_10_10"
   ]
  },
  {
   "cell_type": "code",
   "execution_count": 5,
   "metadata": {},
   "outputs": [],
   "source": [
    "!kill 10365"
   ]
  },
  {
   "cell_type": "code",
   "execution_count": 6,
   "metadata": {},
   "outputs": [],
   "source": [
    "import matplotlib.pyplot as plt\n",
    "from matplotlib.ticker import StrMethodFormatter\n",
    "import pandas as pd"
   ]
  },
  {
   "cell_type": "code",
   "execution_count": 7,
   "metadata": {},
   "outputs": [],
   "source": [
    "def plot_sn_results(pct, n_epochs):\n",
    "    \n",
    "    df1 = pd.read_csv(f'results/run-sn_baseline_{pct}-tag-Accuracy_Test.csv')\n",
    "    df2 = pd.read_csv(f'results/run-sn_transfer_{pct}-tag-Accuracy_Test.csv')\n",
    "    \n",
    "    plt.figure(figsize=(6,6))\n",
    "    plt.plot(df1['Value'][:n_epochs], label='Random Init')\n",
    "    plt.plot(df2['Value'][:n_epochs], label='Pretext Init')\n",
    "    plt.xlabel('Number of Epochs')\n",
    "    plt.ylabel('Test Accuracy')\n",
    "    plt.gca().yaxis.set_major_formatter(StrMethodFormatter('{x:,.2f}'))\n",
    "    plt.title(f'ShapeNet: Random vs. Pretrained Initialization, {pct}% Data')\n",
    "    plt.legend()\n",
    "    plt.savefig(f'results/sn_baseline_v_transfer_{pct}.jpg')"
   ]
  },
  {
   "cell_type": "code",
   "execution_count": 8,
   "metadata": {},
   "outputs": [],
   "source": [
    "def plot_bands(bands, epochs):\n",
    "    \n",
    "    dfs = []\n",
    "    for band in bands:\n",
    "        dfs.append(pd.read_csv(f'results/run-{band}bin_rotation-tag-Accuracy_Test.csv'))\n",
    "        \n",
    "    plt.figure(figsize=(6,6))\n",
    "    for df, band, epoch in zip(dfs, bands, epochs):\n",
    "        plt.plot(df['Value'][:epoch], label=f'{band} Band Rotation')\n",
    "    plt.xlabel('Number of Epochs')\n",
    "    plt.ylabel('Test Accuracy')\n",
    "    plt.gca().yaxis.set_major_formatter(StrMethodFormatter('{x:,.2f}'))\n",
    "    plt.title(f'ModelNet40 Bands Training')\n",
    "    plt.legend()\n",
    "    plt.savefig('results/ModelNet40_bands_training.jpg')"
   ]
  },
  {
   "cell_type": "code",
   "execution_count": 9,
   "metadata": {},
   "outputs": [],
   "source": [
    "pcts = [10, 30, 50, 100]\n",
    "epochs = [65, 70, 75, 80]"
   ]
  },
  {
   "cell_type": "code",
   "execution_count": 10,
   "metadata": {},
   "outputs": [
    {
     "data": {
      "image/png": "[encoded data removed]",
      "text/plain": [
       "<Figure size 432x432 with 1 Axes>"
      ]
     },
     "metadata": {
      "needs_background": "light"
     },
     "output_type": "display_data"
    },
    {
     "data": {
      "image/png": "[encoded data removed]",
      "text/plain": [
       "<Figure size 432x432 with 1 Axes>"
      ]
     },
     "metadata": {
      "needs_background": "light"
     },
     "output_type": "display_data"
    },
    {
     "data": {
      "image/png": "[encoded data removed]",
      "text/plain": [
       "<Figure size 432x432 with 1 Axes>"
      ]
     },
     "metadata": {
      "needs_background": "light"
     },
     "output_type": "display_data"
    },
    {
     "data": {
      "image/png": "[encoded data removed]",
      "text/plain": [
       "<Figure size 432x432 with 1 Axes>"
      ]
     },
     "metadata": {
      "needs_background": "light"
     },
     "output_type": "display_data"
    }
   ],
   "source": [
    "for pct, epoch in zip(pcts, epochs):\n",
    "    plot_sn_results(pct, epoch)"
   ]
  },
  {
   "cell_type": "code",
   "execution_count": 11,
   "metadata": {},
   "outputs": [
    {
     "data": {
      "image/png": "[encoded data removed]",
      "text/plain": [
       "<Figure size 432x432 with 1 Axes>"
      ]
     },
     "metadata": {
      "needs_background": "light"
     },
     "output_type": "display_data"
    }
   ],
   "source": [
    "bands = [3, 6, 9]\n",
    "epochs = [15, 50, 70]\n",
    "plot_bands(bands, epochs)"
   ]
  },
  {
   "cell_type": "code",
   "execution_count": 12,
   "metadata": {},
   "outputs": [
    {
     "ename": "NameError",
     "evalue": "name 'df1' is not defined",
     "output_type": "error",
     "traceback": [
      "\u001b[0;31m---------------------------------------------------------------------------\u001b[0m",
      "\u001b[0;31mNameError\u001b[0m                                 Traceback (most recent call last)",
      "\u001b[0;32m<ipython-input-12-cf9688a08aa0>\u001b[0m in \u001b[0;36m<module>\u001b[0;34m\u001b[0m\n\u001b[1;32m      1\u001b[0m \u001b[0mplt\u001b[0m\u001b[0;34m.\u001b[0m\u001b[0mfigure\u001b[0m\u001b[0;34m(\u001b[0m\u001b[0mfigsize\u001b[0m\u001b[0;34m=\u001b[0m\u001b[0;34m(\u001b[0m\u001b[0;36m10\u001b[0m\u001b[0;34m,\u001b[0m\u001b[0;36m10\u001b[0m\u001b[0;34m)\u001b[0m\u001b[0;34m)\u001b[0m\u001b[0;34m\u001b[0m\u001b[0;34m\u001b[0m\u001b[0m\n\u001b[0;32m----> 2\u001b[0;31m \u001b[0mplt\u001b[0m\u001b[0;34m.\u001b[0m\u001b[0mplot\u001b[0m\u001b[0;34m(\u001b[0m\u001b[0mdf1\u001b[0m\u001b[0;34m[\u001b[0m\u001b[0;34m'Value'\u001b[0m\u001b[0;34m]\u001b[0m\u001b[0;34m[\u001b[0m\u001b[0;34m:\u001b[0m\u001b[0;36m15\u001b[0m\u001b[0;34m]\u001b[0m\u001b[0;34m,\u001b[0m \u001b[0mlabel\u001b[0m\u001b[0;34m=\u001b[0m\u001b[0;34m'3 Band Rotation'\u001b[0m\u001b[0;34m)\u001b[0m\u001b[0;34m\u001b[0m\u001b[0;34m\u001b[0m\u001b[0m\n\u001b[0m\u001b[1;32m      3\u001b[0m \u001b[0mplt\u001b[0m\u001b[0;34m.\u001b[0m\u001b[0mplot\u001b[0m\u001b[0;34m(\u001b[0m\u001b[0mdf2\u001b[0m\u001b[0;34m[\u001b[0m\u001b[0;34m'Value'\u001b[0m\u001b[0;34m]\u001b[0m\u001b[0;34m[\u001b[0m\u001b[0;34m:\u001b[0m\u001b[0;36m50\u001b[0m\u001b[0;34m]\u001b[0m\u001b[0;34m,\u001b[0m \u001b[0mlabel\u001b[0m\u001b[0;34m=\u001b[0m\u001b[0;34m'6 Band Rotation'\u001b[0m\u001b[0;34m)\u001b[0m\u001b[0;34m\u001b[0m\u001b[0;34m\u001b[0m\u001b[0m\n\u001b[1;32m      4\u001b[0m \u001b[0mplt\u001b[0m\u001b[0;34m.\u001b[0m\u001b[0mplot\u001b[0m\u001b[0;34m(\u001b[0m\u001b[0mdf3\u001b[0m\u001b[0;34m[\u001b[0m\u001b[0;34m'Value'\u001b[0m\u001b[0;34m]\u001b[0m\u001b[0;34m[\u001b[0m\u001b[0;34m:\u001b[0m\u001b[0;36m70\u001b[0m\u001b[0;34m]\u001b[0m\u001b[0;34m,\u001b[0m \u001b[0mlabel\u001b[0m\u001b[0;34m=\u001b[0m\u001b[0;34m'9 Band Rotation'\u001b[0m\u001b[0;34m)\u001b[0m\u001b[0;34m\u001b[0m\u001b[0;34m\u001b[0m\u001b[0m\n\u001b[1;32m      5\u001b[0m \u001b[0mplt\u001b[0m\u001b[0;34m.\u001b[0m\u001b[0mlegend\u001b[0m\u001b[0;34m(\u001b[0m\u001b[0;34m)\u001b[0m\u001b[0;34m\u001b[0m\u001b[0;34m\u001b[0m\u001b[0m\n",
      "\u001b[0;31mNameError\u001b[0m: name 'df1' is not defined"
     ]
    },
    {
     "data": {
      "text/plain": [
       "<Figure size 720x720 with 0 Axes>"
      ]
     },
     "metadata": {},
     "output_type": "display_data"
    }
   ],
   "source": [
    "plt.figure(figsize=(10,10))\n",
    "plt.plot(df1['Value'][:15], label='3 Band Rotation')\n",
    "plt.plot(df2['Value'][:50], label='6 Band Rotation')\n",
    "plt.plot(df3['Value'][:70], label='9 Band Rotation')\n",
    "plt.legend()\n",
    "plt.savefig('results/sn_baseline_v_transfer_100.jpg')"
   ]
  },
  {
   "cell_type": "code",
   "execution_count": 13,
   "metadata": {},
   "outputs": [
    {
     "ename": "NameError",
     "evalue": "name 'df1' is not defined",
     "output_type": "error",
     "traceback": [
      "\u001b[0;31m---------------------------------------------------------------------------\u001b[0m",
      "\u001b[0;31mNameError\u001b[0m                                 Traceback (most recent call last)",
      "\u001b[0;32m<ipython-input-13-6a861a8b3f1a>\u001b[0m in \u001b[0;36m<module>\u001b[0;34m\u001b[0m\n\u001b[0;32m----> 1\u001b[0;31m \u001b[0mdf1\u001b[0m\u001b[0;34m\u001b[0m\u001b[0;34m\u001b[0m\u001b[0m\n\u001b[0m",
      "\u001b[0;31mNameError\u001b[0m: name 'df1' is not defined"
     ]
    }
   ],
   "source": [
    "df1"
   ]
  },
  {
   "cell_type": "code",
   "execution_count": null,
   "metadata": {},
   "outputs": [],
   "source": []
  },
  {
   "cell_type": "code",
   "execution_count": 27,
   "metadata": {},
   "outputs": [],
   "source": [
    "modelnet10_x = [10, 50, 100]\n",
    "modelnet10_y = [80, 90, 95]\n",
    "\n",
    "modelnet10_pretext_x = [10, 50]\n",
    "modelnet10_pretext_y = [80, 85]"
   ]
  },
  {
   "cell_type": "code",
   "execution_count": 28,
   "metadata": {},
   "outputs": [
    {
     "data": {
      "text/plain": [
       "<matplotlib.legend.Legend at 0x7f27c8f675c0>"
      ]
     },
     "execution_count": 28,
     "metadata": {},
     "output_type": "execute_result"
    },
    {
     "data": {
      "image/png": "[encoded data removed]",
      "text/plain": [
       "<Figure size 432x432 with 1 Axes>"
      ]
     },
     "metadata": {
      "needs_background": "light"
     },
     "output_type": "display_data"
    }
   ],
   "source": [
    "plt.figure(figsize=(6,6))\n",
    "plt.xlim(0, 110)\n",
    "plt.ylim(65, 100)\n",
    "plt.xticks(range(10, 120, 20))\n",
    "plt.xlabel('Percentage of Dataset')\n",
    "plt.ylabel('Test Accuracy')\n",
    "\n",
    "plt.plot(modelnet10_x, modelnet10_y, label='ModelNet10')\n",
    "plt.plot(modelnet40_x, modelnet40_y, label='ModelNet10 with Pretext')\n",
    "\n",
    "plt.legend()"
   ]
  },
  {
   "cell_type": "code",
   "execution_count": 26,
   "metadata": {},
   "outputs": [],
   "source": [
    "plt.legend?"
   ]
  },
  {
   "cell_type": "code",
   "execution_count": null,
   "metadata": {},
   "outputs": [],
   "source": []
  }
 ],
 "metadata": {
  "kernelspec": {
   "display_name": "Python 3",
   "language": "python",
   "name": "python3"
  },
  "language_info": {
   "codemirror_mode": {
    "name": "ipython",
    "version": 3
   },
   "file_extension": ".py",
   "mimetype": "text/x-python",
   "name": "python",
   "nbconvert_exporter": "python",
   "pygments_lexer": "ipython3",
   "version": "3.6.7"
  }
 },
 "nbformat": 4,
 "nbformat_minor": 2
}
